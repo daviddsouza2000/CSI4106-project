{
 "cells": [
  {
   "cell_type": "markdown",
   "metadata": {},
   "source": [
    "# CSI 4106 Project - NLP\n",
    "Group name: Group 21\n",
    "\n",
    "    Name: David D'Souza\n",
    "    Email: ddsou046@uottawa.ca\n",
    "    Student Number: 300065238\n",
    "\n",
    "    Name: Ann Soong\n",
    "    Email: asoon014@uottawa.ca\n",
    "    Student Number: 300070709"
   ]
  },
  {
   "cell_type": "markdown",
   "metadata": {},
   "source": [
    "### Ann's Notes\n",
    "\n",
    "Need to create pipeline to break text apart into separate sentences\n",
    "1. Sentence Segmentation\n",
    "\n",
    "2. Word Tokenization\n",
    "Split sentences into words\n",
    "\n",
    "3. Predicting parts of speech for each token\n",
    "Look at a token and guess if noun, verb, adjective, etc.\n",
    "Can feed word into pre-trained part-of-speech classification model\n",
    "\n",
    "4. Text lemmatization\n",
    "plural vs singular --> good to know base word\n",
    "lemmatization - figuring out most basic form of each word in sentence\n",
    "typically done w/ look-up table of lemma forms\n",
    "\n",
    "5. Identify stop words --> filter out filler words (e.g., is, the, and, most, a)\n",
    "usually done by checking hardcoded list of known stop words, depends on application\n",
    "Don't want to remove \"The\" from something like band names\n",
    "\n",
    "6. Dependency Parsing - figure out how all words in sentence relate to each other\n",
    "Build tree that assigns single parent word to each word in sentence\n",
    "Root is main verb in sentence\n",
    "Newer algorithms out there\n",
    "\n",
    "7. Named Entity Recognition (NER)\n",
    "Detect + label nouns w/ real-world concepts they represent\n",
    "\n",
    "8. Coreference information --> dealing with pronouns (e.g., she, he, it)\n",
    "\n",
    "libraries: spaCy, textacy, neuralcoref (adds Coreference Resolution)\n",
    "-----------------------------------------------------------------------------------\n",
    "\n",
    "Can also just use linear text classification models\n",
    "Will get slightly more accurate score with recurrent neural networks,\n",
    "but often, the tradeoff in time used is not worth it.\n",
    "\n",
    "Library: fastText, LIME\n",
    "\n",
    "1. Text normalization --> add spaces b/w word and punctuation, lowercase everything\n"
   ]
  },
  {
   "cell_type": "code",
   "execution_count": null,
   "metadata": {},
   "outputs": [],
   "source": []
  }
 ],
 "metadata": {
  "interpreter": {
   "hash": "a06887a8a0da0fc535f5775950d42a9f41255faa6381fd11e85b3e8f4a78d110"
  },
  "kernelspec": {
   "display_name": "Python 3.8.12 ('csi4106')",
   "language": "python",
   "name": "python3"
  },
  "language_info": {
   "name": "python",
   "version": "3.8.12"
  },
  "orig_nbformat": 4
 },
 "nbformat": 4,
 "nbformat_minor": 2
}
