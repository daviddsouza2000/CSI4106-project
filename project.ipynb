{
 "cells": [
  {
   "cell_type": "markdown",
   "metadata": {},
   "source": [
    "# Identifying Tweets About Emergencies with NLP\n",
    "Group 21:\n",
    "- David D'Souza\n",
    "- Ann Soong"
   ]
  },
  {
   "cell_type": "code",
   "execution_count": 2,
   "metadata": {},
   "outputs": [
    {
     "ename": "ModuleNotFoundError",
     "evalue": "No module named 'keras'",
     "output_type": "error",
     "traceback": [
      "\u001b[1;31m---------------------------------------------------------------------------\u001b[0m",
      "\u001b[1;31mModuleNotFoundError\u001b[0m                       Traceback (most recent call last)",
      "\u001b[1;32mc:\\Users\\ajsot\\Desktop\\Programming\\CSI4106-project\\project.ipynb Cell 2'\u001b[0m in \u001b[0;36m<module>\u001b[1;34m\u001b[0m\n\u001b[0;32m      <a href='vscode-notebook-cell:/c%3A/Users/ajsot/Desktop/Programming/CSI4106-project/project.ipynb#ch0000001?line=5'>6</a>\u001b[0m \u001b[39mfrom\u001b[39;00m \u001b[39msklearn\u001b[39;00m\u001b[39m.\u001b[39;00m\u001b[39mmetrics\u001b[39;00m \u001b[39mimport\u001b[39;00m classification_report\n\u001b[0;32m      <a href='vscode-notebook-cell:/c%3A/Users/ajsot/Desktop/Programming/CSI4106-project/project.ipynb#ch0000001?line=7'>8</a>\u001b[0m \u001b[39mfrom\u001b[39;00m \u001b[39mtensorflow\u001b[39;00m \u001b[39mimport\u001b[39;00m keras, squeeze, \u001b[39mround\u001b[39m\n\u001b[1;32m----> <a href='vscode-notebook-cell:/c%3A/Users/ajsot/Desktop/Programming/CSI4106-project/project.ipynb#ch0000001?line=8'>9</a>\u001b[0m \u001b[39mfrom\u001b[39;00m \u001b[39mkeras\u001b[39;00m\u001b[39m.\u001b[39;00m\u001b[39mlayers\u001b[39;00m \u001b[39mimport\u001b[39;00m Dense, SimpleRNN, LSTM, Input, Embedding, Dropout, Bidirectional\n\u001b[0;32m     <a href='vscode-notebook-cell:/c%3A/Users/ajsot/Desktop/Programming/CSI4106-project/project.ipynb#ch0000001?line=9'>10</a>\u001b[0m \u001b[39mfrom\u001b[39;00m \u001b[39mkeras\u001b[39;00m\u001b[39m.\u001b[39;00m\u001b[39mpreprocessing\u001b[39;00m\u001b[39m.\u001b[39;00m\u001b[39mtext\u001b[39;00m \u001b[39mimport\u001b[39;00m Tokenizer\n\u001b[0;32m     <a href='vscode-notebook-cell:/c%3A/Users/ajsot/Desktop/Programming/CSI4106-project/project.ipynb#ch0000001?line=10'>11</a>\u001b[0m \u001b[39mfrom\u001b[39;00m \u001b[39mkeras\u001b[39;00m\u001b[39m.\u001b[39;00m\u001b[39mpreprocessing\u001b[39;00m\u001b[39m.\u001b[39;00m\u001b[39msequence\u001b[39;00m \u001b[39mimport\u001b[39;00m pad_sequences\n",
      "\u001b[1;31mModuleNotFoundError\u001b[0m: No module named 'keras'"
     ]
    }
   ],
   "source": [
    "import os\n",
    "import pandas as pd\n",
    "import numpy as np\n",
    "from collections import Counter\n",
    "from sklearn.model_selection import StratifiedShuffleSplit\n",
    "from sklearn.metrics import classification_report\n",
    "\n",
    "from tensorflow import keras, squeeze, round\n",
    "from tensorflow.keras.layers import Dense, SimpleRNN, LSTM, Input, Embedding, Dropout, Bidirectional\n",
    "from tensorflow.keras.preprocessing.text import Tokenizer\n",
    "from tensorflow.keras.preprocessing.sequence import pad_sequences\n",
    "from tensorflow.keras.callbacks import EarlyStopping, ReduceLROnPlateau\n",
    "\n",
    "import matplotlib.pyplot as plt\n",
    "\n",
    "# https://nlpretext.readthedocs.io/en/latest/\n",
    "from nlpretext.basic.preprocess import normalize_whitespace, remove_punct, remove_eol_characters, remove_stopwords, \\\n",
    "  lower_text, remove_accents, remove_multiple_spaces_and_strip_text, replace_numbers, replace_emails, replace_urls\n",
    "from nlpretext.social.preprocess import convert_emoji_to_text, remove_mentions, extract_mentions, remove_hashtag, extract_hashtags\n",
    "\n",
    "from textblob import TextBlob\n",
    "import re\n",
    "import nltk\n",
    "from nltk.corpus import stopwords\n",
    "nltk.download('punkt')\n",
    "nltk.download('stopwords')\n",
    "\n",
    "np.random.seed(42)"
   ]
  },
  {
   "cell_type": "code",
   "execution_count": 37,
   "metadata": {},
   "outputs": [],
   "source": [
    "train_data = pd.read_csv(\"./train.csv\")\n",
    "test_data = pd.read_csv(\"./test.csv\")"
   ]
  },
  {
   "cell_type": "code",
   "execution_count": 38,
   "metadata": {},
   "outputs": [
    {
     "name": "stdout",
     "output_type": "stream",
     "text": [
      "(7613, 5)\n",
      "#RockyFire Update => California Hwy. 20 closed in both directions due to Lake County fire - #CAfire #wildfires\n",
      "1\n"
     ]
    }
   ],
   "source": [
    "print(train_data.shape)\n",
    "print(train_data[\"text\"][5])\n",
    "print(train_data[\"target\"][5])"
   ]
  },
  {
   "cell_type": "code",
   "execution_count": 145,
   "metadata": {},
   "outputs": [
    {
     "name": "stdout",
     "output_type": "stream",
     "text": [
      "bbcmtd wholesale markets ablaze\n",
      "@bbcmtd Wholesale Markets ablaze http://t.co/lHYXEOHY6C\n"
     ]
    }
   ],
   "source": [
    "def clean_text(tweet):\n",
    "    tmp = replace_urls(tweet, replace_with='')\n",
    "    tmp = replace_emails(tmp, replace_with='')\n",
    "    tmp = cleanup = convert_emoji_to_text(tmp)\n",
    "    tmp = remove_accents(tmp)\n",
    "    \n",
    "    tweet_blob = TextBlob(tmp)\n",
    "    tweet_blob = ' '.join(tweet_blob.words)\n",
    "    tweet_blob = tweet_blob.lower()\n",
    "    stopset = set(stopwords.words('english'))\n",
    "    cleanup = \" \".join(filter(lambda word: word not in stopset, tweet_blob.split()))\n",
    "    \n",
    "    cleanup = re.sub(r\"\\S*'\\S*\", \"\", cleanup) # Removes text that's linked to 1 apostrophe (i.e., 's, n't)\n",
    "    cleanup = remove_punct(cleanup)\n",
    "    cleanup = re.sub(r\"\\d+\", \"\", cleanup)\n",
    "    cleanup = remove_multiple_spaces_and_strip_text(cleanup)\n",
    "    cleanup = normalize_whitespace(cleanup)\n",
    "    return cleanup\n",
    "\n",
    "print(clean_text(train_data[\"text\"].iloc[31]))\n",
    "print(train_data[\"text\"].iloc[31])"
   ]
  },
  {
   "cell_type": "code",
   "execution_count": 147,
   "metadata": {},
   "outputs": [],
   "source": [
    "# clean train data and save it to a csv\n",
    "train_data['clean_text'] = train_data.text.apply(lambda x: clean_text(x))\n",
    "train_data.to_csv('train_clean.csv')\n"
   ]
  },
  {
   "cell_type": "code",
   "execution_count": null,
   "metadata": {},
   "outputs": [],
   "source": [
    "# clean test data and save it to a csv\n",
    "test_data['clean_text'] = test_data.text.apply(lambda x: clean_text(x))\n",
    "test_data.to_csv('test_clean.csv')"
   ]
  },
  {
   "cell_type": "code",
   "execution_count": 3,
   "metadata": {},
   "outputs": [
    {
     "name": "stdout",
     "output_type": "stream",
     "text": [
      "(7613, 7)\n"
     ]
    }
   ],
   "source": [
    "df = pd.read_csv(\"./train_clean.csv\")\n",
    "print(df.shape)"
   ]
  },
  {
   "cell_type": "markdown",
   "metadata": {},
   "source": [
    "## Data Summarization"
   ]
  },
  {
   "cell_type": "code",
   "execution_count": 1,
   "metadata": {},
   "outputs": [
    {
     "ename": "NameError",
     "evalue": "name 'df' is not defined",
     "output_type": "error",
     "traceback": [
      "\u001b[1;31m---------------------------------------------------------------------------\u001b[0m",
      "\u001b[1;31mNameError\u001b[0m                                 Traceback (most recent call last)",
      "\u001b[1;32mc:\\Users\\ajsot\\Desktop\\Programming\\CSI4106-project\\project.ipynb Cell 10'\u001b[0m in \u001b[0;36m<module>\u001b[1;34m\u001b[0m\n\u001b[1;32m----> <a href='vscode-notebook-cell:/c%3A/Users/ajsot/Desktop/Programming/CSI4106-project/project.ipynb#ch0000009?line=0'>1</a>\u001b[0m \u001b[39mprint\u001b[39m(df\u001b[39m.\u001b[39minfo())\n\u001b[0;32m      <a href='vscode-notebook-cell:/c%3A/Users/ajsot/Desktop/Programming/CSI4106-project/project.ipynb#ch0000009?line=2'>3</a>\u001b[0m \u001b[39m# Display ratio of 0 to 1 (0 -> not disaster, 1 -> disaster)\u001b[39;00m\n\u001b[0;32m      <a href='vscode-notebook-cell:/c%3A/Users/ajsot/Desktop/Programming/CSI4106-project/project.ipynb#ch0000009?line=3'>4</a>\u001b[0m table_ratio \u001b[39m=\u001b[39m df\u001b[39m.\u001b[39mgroupby(\u001b[39m'\u001b[39m\u001b[39mtarget\u001b[39m\u001b[39m'\u001b[39m)\u001b[39m.\u001b[39mcount()[\u001b[39m'\u001b[39m\u001b[39mtext\u001b[39m\u001b[39m'\u001b[39m]\u001b[39m.\u001b[39mreset_index()\u001b[39m.\u001b[39msort_values(by\u001b[39m=\u001b[39m\u001b[39m'\u001b[39m\u001b[39mtext\u001b[39m\u001b[39m'\u001b[39m,ascending\u001b[39m=\u001b[39m\u001b[39mFalse\u001b[39;00m)\n",
      "\u001b[1;31mNameError\u001b[0m: name 'df' is not defined"
     ]
    }
   ],
   "source": [
    "print(df.info())\n",
    " \n",
    "# Display ratio of 0 to 1 (0 -> not disaster, 1 -> disaster)\n",
    "table_ratio = df.groupby('target').count()['text'].reset_index().sort_values(by='text',ascending=False)\n",
    "display(table_ratio)\n",
    "fig_size = plt.figure(figsize=(6,6))\n",
    "plt.pie(table_ratio['text'], labels=['0 - Non disaster', '1 - Disaster'])\n",
    "plt.title('Ratio of non disaster tweets to disaster tweets')\n",
    "plt.show()\n",
    "\n",
    "# Display frequency of top 20 words in cleaned text\n",
    "df['temp_word_list'] = df['clean_text'].apply(lambda x: str(x).split())\n",
    "top_words = Counter([item for sublist in df['temp_word_list'] for item in sublist])\n",
    "table_top = pd.DataFrame(top_words.most_common(20))\n",
    "table_top.columns = ['Words','Frequency']\n",
    "fig_size = plt.figure(figsize=(25,7))\n",
    "plt.bar(table_top['Words'], table_top['Frequency'], color='green')\n",
    "plt.xlabel('Word')\n",
    "plt.ylabel('Frequency of word')\n",
    "plt.title('Top 20 most frequent words in clean text')\n",
    "plt.show()\n",
    "\n",
    "# Display frequency of top words in non disaster clean text\n",
    "fake_disaster = df[df['target']== 0]\n",
    "top_words_fake = Counter([item for sublist in fake_disaster['temp_word_list'] for item in sublist])\n",
    "table_top_fake = pd.DataFrame(top_words_fake.most_common(25))\n",
    "table_top_fake.columns = ['Words','Frequency']\n",
    "fig_size = plt.figure(figsize=(25,7))\n",
    "plt.bar(table_top_fake['Words'], table_top_fake['Frequency'], color='purple')\n",
    "plt.xlabel('Word')\n",
    "plt.ylabel('Frequency of word')\n",
    "plt.title('Top 25 most frequent words in non disaster clean text')\n",
    "plt.show()\n",
    "\n",
    "# Display frequency of keywords in disaster tweets\n",
    "table_top_fake = fake_disaster.groupby('keyword').count()['target'].reset_index().sort_values(by='target',ascending=False)\n",
    "fig_size = plt.figure(figsize=(25,7))\n",
    "plt.bar(table_top_fake['keyword'][0:10], table_top_fake['target'][0:10], color='purple') #, labels=['0 - Non disaster', '1 - Disaster'])\n",
    "plt.xlabel('Keyword')\n",
    "plt.ylabel('Frequency of keyword')\n",
    "plt.title('Frequency of keywords in non disaster tweets')\n",
    "plt.show()\n",
    "\n",
    "# Display frequency of top words in disaster clean text\n",
    "real_disaster = df[df['target']== 1]\n",
    "top_words_real = Counter([item for sublist in real_disaster['temp_word_list'] for item in sublist])\n",
    "top_words_real = pd.DataFrame(top_words_real.most_common(25))\n",
    "top_words_real.columns = ['Words','Frequency']\n",
    "fig_size = plt.figure(figsize=(25,7))\n",
    "plt.bar(top_words_real['Words'], top_words_real['Frequency'], color='orange')\n",
    "plt.xlabel('Word')\n",
    "plt.ylabel('Frequency of word')\n",
    "plt.title('Top 25 most frequent words in disaster clean text')\n",
    "plt.show()\n",
    "\n",
    "# Display frequency of keywords in disaster tweets\n",
    "table_keyword_real = real_disaster.groupby('keyword').count()['target'].reset_index().sort_values(by='target',ascending=False)\n",
    "fig_size = plt.figure(figsize=(25,7))\n",
    "plt.bar(table_keyword_real['keyword'][0:10], table_keyword_real['target'][0:10], color='orange') #, labels=['0 - Non disaster', '1 - Disaster'])\n",
    "plt.xlabel('Keyword')\n",
    "plt.ylabel('Frequency of keyword')\n",
    "plt.title('Frequency of keywords in disaster tweets')\n",
    "plt.show()\n",
    "\n",
    "# Dropping temporary columns\n",
    "df = df.drop(columns=['temp_word_list'])"
   ]
  },
  {
   "cell_type": "markdown",
   "metadata": {},
   "source": [
    "## Data Preprocessing\n",
    "\n",
    "The test data does not have a target column, so we cannot evaluate our models using the test data. We need to split the first dataset into a test and train dataset."
   ]
  },
  {
   "cell_type": "code",
   "execution_count": 4,
   "metadata": {},
   "outputs": [
    {
     "name": "stdout",
     "output_type": "stream",
     "text": [
      "(5329, 7)\n",
      "(2284, 7)\n",
      "0    0.570276\n",
      "1    0.429724\n",
      "Name: target, dtype: float64\n",
      "0    0.57049\n",
      "1    0.42951\n",
      "Name: target, dtype: float64\n"
     ]
    }
   ],
   "source": [
    "# split the data into train and test set\n",
    "sss = StratifiedShuffleSplit(n_splits=1, test_size=0.3, random_state=42)\n",
    "\n",
    "for train_index, test_index in sss.split(df, df['target']):\n",
    "    df_train = df.loc[train_index]\n",
    "    df_test = df.loc[test_index]\n",
    "\n",
    "print(df_train.shape)\n",
    "print(df_test.shape)\n",
    "print(df_train.target.value_counts()/len(df_train))\n",
    "print(df_test.target.value_counts()/len(df_test))"
   ]
  },
  {
   "cell_type": "code",
   "execution_count": 5,
   "metadata": {},
   "outputs": [],
   "source": [
    "# reset indexes\n",
    "df_train = df_train.reset_index()\n",
    "df_test = df_test.reset_index()"
   ]
  },
  {
   "cell_type": "code",
   "execution_count": 6,
   "metadata": {},
   "outputs": [],
   "source": [
    "cleaned_train_text = list(df_train[\"clean_text\"])\n",
    "labels_train = list(df_train[\"target\"])\n",
    "cleaned_test_text = list(df_test[\"clean_text\"])\n",
    "labels_test = list(df_test[\"target\"])"
   ]
  },
  {
   "cell_type": "markdown",
   "metadata": {},
   "source": [
    "We replace the NaN values in the clean_text column with an empty string."
   ]
  },
  {
   "cell_type": "code",
   "execution_count": 7,
   "metadata": {},
   "outputs": [],
   "source": [
    "train_nan_indexes = df_train[df_train[\"clean_text\"].isna()].index\n",
    "for i in train_nan_indexes:\n",
    "    cleaned_train_text[i] = \"\"\n",
    "\n",
    "test_nan_indexes = df_test[df_test[\"clean_text\"].isna()].index\n",
    "for i in test_nan_indexes:\n",
    "    cleaned_test_text[i] = \"\""
   ]
  },
  {
   "cell_type": "markdown",
   "metadata": {},
   "source": [
    "We tokenize the text and convert the text data into sequences that we can input into our deep learning models."
   ]
  },
  {
   "cell_type": "code",
   "execution_count": 8,
   "metadata": {},
   "outputs": [
    {
     "name": "stdout",
     "output_type": "stream",
     "text": [
      "Found 13324 unique tokens\n",
      "Shape of data tensor: (5329, 30)\n",
      "Shape of label tensor: (5329,)\n"
     ]
    }
   ],
   "source": [
    "# tokenize the clean_text column\n",
    "maxlen = 30\n",
    "max_words = 100\n",
    "vocab_size = 100\n",
    "\n",
    "tokenizer = Tokenizer(num_words=vocab_size)\n",
    "tokenizer.fit_on_texts(cleaned_train_text)\n",
    "sequences = tokenizer.texts_to_sequences(cleaned_train_text)\n",
    "word_index = tokenizer.word_index\n",
    "print(f\"Found {len(word_index)} unique tokens\")\n",
    "\n",
    "data = pad_sequences(sequences, maxlen=maxlen)\n",
    "\n",
    "labels = np.asarray(labels_train)\n",
    "print('Shape of data tensor:', data.shape)\n",
    "print('Shape of label tensor:', labels.shape)\n"
   ]
  },
  {
   "cell_type": "markdown",
   "metadata": {},
   "source": [
    "We use the GloVe word embeddings file to pass into our models. The closer words are in the matrix, the more similar their meaning. The word embeddings file was downloaded from https://nlp.stanford.edu/projects/glove/"
   ]
  },
  {
   "cell_type": "code",
   "execution_count": 9,
   "metadata": {},
   "outputs": [],
   "source": [
    "glove_dir = './'\n",
    "embeddings_index = {}\n",
    "f = open(os.path.join(glove_dir, 'glove.6B.100d.txt'), 'r', encoding=\"utf-8\")\n",
    "for line in f:\n",
    "    values = line.split()\n",
    "    word = values[0]\n",
    "    coefs = np.asarray(values[1:], dtype='float32')\n",
    "    embeddings_index[word] = coefs\n",
    "f.close()\n",
    "\n",
    "embedding_dim = 100\n",
    "embedding_matrix = np.zeros((max_words, embedding_dim))\n",
    "for word, i in word_index.items():\n",
    "    if i < max_words:\n",
    "        embedding_vector = embeddings_index.get(word)\n",
    "        if embedding_vector is not None:\n",
    "            embedding_matrix[i] = embedding_vector"
   ]
  },
  {
   "cell_type": "markdown",
   "metadata": {},
   "source": [
    "## Model Development"
   ]
  },
  {
   "cell_type": "markdown",
   "metadata": {},
   "source": [
    "First, we create a simple RNN model. This model as one RNN layer. We then plot the model's training and validation accuracy and loss during model fitting."
   ]
  },
  {
   "cell_type": "code",
   "execution_count": 15,
   "metadata": {},
   "outputs": [
    {
     "name": "stdout",
     "output_type": "stream",
     "text": [
      "Epoch 1/50\n",
      "59/59 [==============================] - 2s 10ms/step - loss: 0.6275 - accuracy: 0.6552 - val_loss: 0.6102 - val_accuracy: 0.6892 - lr: 0.0010\n",
      "Epoch 2/50\n",
      "59/59 [==============================] - 0s 7ms/step - loss: 0.5821 - accuracy: 0.6997 - val_loss: 0.6068 - val_accuracy: 0.6948 - lr: 0.0010\n",
      "Epoch 3/50\n",
      "59/59 [==============================] - 0s 7ms/step - loss: 0.5687 - accuracy: 0.7110 - val_loss: 0.6018 - val_accuracy: 0.6923 - lr: 0.0010\n",
      "Epoch 4/50\n",
      "59/59 [==============================] - 0s 7ms/step - loss: 0.5620 - accuracy: 0.7142 - val_loss: 0.6007 - val_accuracy: 0.6929 - lr: 0.0010\n",
      "Epoch 5/50\n",
      "59/59 [==============================] - 0s 7ms/step - loss: 0.5537 - accuracy: 0.7185 - val_loss: 0.5995 - val_accuracy: 0.6929 - lr: 0.0010\n",
      "Epoch 6/50\n",
      "59/59 [==============================] - 0s 6ms/step - loss: 0.5494 - accuracy: 0.7196 - val_loss: 0.6035 - val_accuracy: 0.6948 - lr: 0.0010\n",
      "Epoch 7/50\n",
      "59/59 [==============================] - 0s 6ms/step - loss: 0.5479 - accuracy: 0.7196 - val_loss: 0.6036 - val_accuracy: 0.6854 - lr: 0.0010\n",
      "Epoch 8/50\n",
      "59/59 [==============================] - 0s 7ms/step - loss: 0.5407 - accuracy: 0.7247 - val_loss: 0.6035 - val_accuracy: 0.6929 - lr: 0.0010\n",
      "Epoch 9/50\n",
      "59/59 [==============================] - 0s 6ms/step - loss: 0.5282 - accuracy: 0.7319 - val_loss: 0.6029 - val_accuracy: 0.6917 - lr: 2.5000e-04\n",
      "Epoch 10/50\n",
      "59/59 [==============================] - 0s 7ms/step - loss: 0.5264 - accuracy: 0.7311 - val_loss: 0.6045 - val_accuracy: 0.6929 - lr: 2.5000e-04\n"
     ]
    }
   ],
   "source": [
    "model = keras.models.Sequential()\n",
    "model.add(Input(shape=(None,)))\n",
    "model.add(Embedding(\n",
    "        input_dim=max_words,\n",
    "        output_dim=embedding_dim,\n",
    "        weights=[embedding_matrix],\n",
    "        trainable=False,\n",
    "        input_length=maxlen\n",
    "    ))\n",
    "model.add(SimpleRNN(64))\n",
    "model.add(Dense(1, activation='sigmoid'))\n",
    "\n",
    "reduce_lr = ReduceLROnPlateau(\n",
    "    monitor='val_loss',\n",
    "    factor=0.25,\n",
    "    patience=3,\n",
    "    verbose=0,\n",
    "    mode='min'\n",
    ")\n",
    "\n",
    "early_stop = EarlyStopping(\n",
    "    patience=5,\n",
    "    min_delta=0,\n",
    "    monitor='val_loss',\n",
    "    verbose=0,\n",
    "    mode='min',\n",
    "    baseline=None\n",
    ")\n",
    "\n",
    "model.compile(optimizer='RMSprop', loss='binary_crossentropy', metrics=\"accuracy\")\n",
    "history = model.fit(data, labels, validation_split=0.3, epochs=50, batch_size=64, callbacks=[reduce_lr,early_stop])\n"
   ]
  },
  {
   "cell_type": "code",
   "execution_count": 16,
   "metadata": {},
   "outputs": [
    {
     "data": {
      "image/png": "[encoded data removed]",
      "text/plain": [
       "<Figure size 432x288 with 1 Axes>"
      ]
     },
     "metadata": {
      "needs_background": "light"
     },
     "output_type": "display_data"
    },
    {
     "data": {
      "image/png": "[encoded data removed]",
      "text/plain": [
       "<Figure size 432x288 with 1 Axes>"
      ]
     },
     "metadata": {
      "needs_background": "light"
     },
     "output_type": "display_data"
    }
   ],
   "source": [
    "acc = history.history['accuracy']\n",
    "val_acc = history.history['val_accuracy']\n",
    "loss = history.history['loss']\n",
    "val_loss = history.history['val_loss']\n",
    "epochs = range(1, len(acc) + 1)\n",
    "\n",
    "plt.plot(epochs, acc, 'bo', label='Training acc')\n",
    "plt.plot(epochs, val_acc, 'b', label='Validation acc')\n",
    "plt.title('Training and validation accuracy')\n",
    "plt.legend()\n",
    "plt.figure()\n",
    "plt.plot(epochs, loss, 'bo', label='Training loss')\n",
    "plt.plot(epochs, val_loss, 'b', label='Validation loss')\n",
    "plt.title('Training and validation loss')\n",
    "plt.legend()\n",
    "plt.show()"
   ]
  },
  {
   "cell_type": "markdown",
   "metadata": {},
   "source": [
    "We create a simple LSTM model. This model as one LSTM layer. We then plot the model's training and validation accuracy and loss during model fitting."
   ]
  },
  {
   "cell_type": "code",
   "execution_count": 17,
   "metadata": {},
   "outputs": [
    {
     "name": "stdout",
     "output_type": "stream",
     "text": [
      "Epoch 1/50\n",
      "59/59 [==============================] - 3s 25ms/step - loss: 0.6083 - accuracy: 0.6836 - val_loss: 0.6071 - val_accuracy: 0.6917 - lr: 0.0010\n",
      "Epoch 2/50\n",
      "59/59 [==============================] - 1s 19ms/step - loss: 0.5822 - accuracy: 0.6997 - val_loss: 0.6193 - val_accuracy: 0.6892 - lr: 0.0010\n",
      "Epoch 3/50\n",
      "59/59 [==============================] - 1s 19ms/step - loss: 0.5734 - accuracy: 0.7051 - val_loss: 0.5995 - val_accuracy: 0.6992 - lr: 0.0010\n",
      "Epoch 4/50\n",
      "59/59 [==============================] - 1s 19ms/step - loss: 0.5659 - accuracy: 0.7051 - val_loss: 0.5997 - val_accuracy: 0.6836 - lr: 0.0010\n",
      "Epoch 5/50\n",
      "59/59 [==============================] - 1s 18ms/step - loss: 0.5604 - accuracy: 0.7102 - val_loss: 0.5916 - val_accuracy: 0.6936 - lr: 0.0010\n",
      "Epoch 6/50\n",
      "59/59 [==============================] - 1s 18ms/step - loss: 0.5562 - accuracy: 0.7118 - val_loss: 0.5984 - val_accuracy: 0.6854 - lr: 0.0010\n",
      "Epoch 7/50\n",
      "59/59 [==============================] - 1s 18ms/step - loss: 0.5509 - accuracy: 0.7145 - val_loss: 0.5961 - val_accuracy: 0.7042 - lr: 0.0010\n",
      "Epoch 8/50\n",
      "59/59 [==============================] - 1s 18ms/step - loss: 0.5461 - accuracy: 0.7188 - val_loss: 0.6038 - val_accuracy: 0.6829 - lr: 0.0010\n",
      "Epoch 9/50\n",
      "59/59 [==============================] - 1s 18ms/step - loss: 0.5375 - accuracy: 0.7249 - val_loss: 0.5937 - val_accuracy: 0.6973 - lr: 2.5000e-04\n",
      "Epoch 10/50\n",
      "59/59 [==============================] - 1s 17ms/step - loss: 0.5341 - accuracy: 0.7322 - val_loss: 0.5928 - val_accuracy: 0.6948 - lr: 2.5000e-04\n"
     ]
    }
   ],
   "source": [
    "model2 = keras.models.Sequential()\n",
    "model2.add(Input(shape=(None,)))\n",
    "model2.add(Embedding(\n",
    "        input_dim=max_words,\n",
    "        output_dim=embedding_dim,\n",
    "        weights=[embedding_matrix],\n",
    "        trainable=False,\n",
    "        input_length=maxlen))\n",
    "model2.add(LSTM(64))\n",
    "model2.add(Dense(1, activation='sigmoid'))\n",
    "\n",
    "reduce_lr = ReduceLROnPlateau(\n",
    "    monitor='val_loss',\n",
    "    factor=0.25,\n",
    "    patience=3,\n",
    "    verbose=0,\n",
    "    mode='min'\n",
    ")\n",
    "\n",
    "early_stop = EarlyStopping(\n",
    "    patience=5,\n",
    "    min_delta=0,\n",
    "    monitor='val_loss',\n",
    "    verbose=0,\n",
    "    mode='min',\n",
    "    baseline=None\n",
    ")\n",
    "\n",
    "model2.compile(optimizer='RMSprop', loss='binary_crossentropy', metrics=\"accuracy\")\n",
    "history2 = model2.fit(data, labels, validation_split=0.3, epochs=50, batch_size=64, callbacks=[reduce_lr,early_stop])"
   ]
  },
  {
   "cell_type": "code",
   "execution_count": 18,
   "metadata": {},
   "outputs": [
    {
     "data": {
      "image/png": "[encoded data removed]",
      "text/plain": [
       "<Figure size 432x288 with 1 Axes>"
      ]
     },
     "metadata": {
      "needs_background": "light"
     },
     "output_type": "display_data"
    },
    {
     "data": {
      "image/png": "[encoded data removed]",
      "text/plain": [
       "<Figure size 432x288 with 1 Axes>"
      ]
     },
     "metadata": {
      "needs_background": "light"
     },
     "output_type": "display_data"
    }
   ],
   "source": [
    "acc = history2.history['accuracy']\n",
    "val_acc = history2.history['val_accuracy']\n",
    "loss = history2.history['loss']\n",
    "val_loss = history2.history['val_loss']\n",
    "\n",
    "epochs = range(1, len(acc) + 1)\n",
    "\n",
    "plt.plot(epochs, acc, 'bo', label='Training acc')\n",
    "plt.plot(epochs, val_acc, 'b', label='Validation acc')\n",
    "\n",
    "plt.title('Training and validation accuracy')\n",
    "plt.legend()\n",
    "plt.figure()\n",
    "plt.plot(epochs, loss, 'bo', label='Training loss')\n",
    "plt.plot(epochs, val_loss, 'b', label='Validation loss')\n",
    "plt.title('Training and validation loss')\n",
    "plt.legend()\n",
    "plt.show()"
   ]
  },
  {
   "cell_type": "code",
   "execution_count": 30,
   "metadata": {},
   "outputs": [
    {
     "name": "stdout",
     "output_type": "stream",
     "text": [
      "Epoch 1/50\n",
      "59/59 [==============================] - 5s 40ms/step - loss: 0.7116 - accuracy: 0.5895 - val_loss: 0.6701 - val_accuracy: 0.6773 - lr: 0.0010\n",
      "Epoch 2/50\n",
      "59/59 [==============================] - 2s 32ms/step - loss: 0.6730 - accuracy: 0.6442 - val_loss: 0.6199 - val_accuracy: 0.6904 - lr: 0.0010\n",
      "Epoch 3/50\n",
      "59/59 [==============================] - 2s 33ms/step - loss: 0.6392 - accuracy: 0.6603 - val_loss: 0.6254 - val_accuracy: 0.6979 - lr: 0.0010\n",
      "Epoch 4/50\n",
      "59/59 [==============================] - 2s 32ms/step - loss: 0.6334 - accuracy: 0.6544 - val_loss: 0.6250 - val_accuracy: 0.6973 - lr: 0.0010\n",
      "Epoch 5/50\n",
      "59/59 [==============================] - 2s 32ms/step - loss: 0.6234 - accuracy: 0.6694 - val_loss: 0.6364 - val_accuracy: 0.6954 - lr: 0.0010\n",
      "Epoch 6/50\n",
      "59/59 [==============================] - 2s 33ms/step - loss: 0.6239 - accuracy: 0.6764 - val_loss: 0.6264 - val_accuracy: 0.6992 - lr: 2.5000e-04\n",
      "Epoch 7/50\n",
      "59/59 [==============================] - 2s 32ms/step - loss: 0.5981 - accuracy: 0.6933 - val_loss: 0.6336 - val_accuracy: 0.6967 - lr: 2.5000e-04\n"
     ]
    }
   ],
   "source": [
    "model3 = keras.models.Sequential()\n",
    "model3.add(Input(shape=(None,)))\n",
    "model3.add(Embedding(\n",
    "        input_dim=max_words,\n",
    "        output_dim=embedding_dim,\n",
    "        weights=[embedding_matrix],\n",
    "        trainable=False,\n",
    "        input_length=maxlen\n",
    "    ))\n",
    "model3.add(Dense(128))\n",
    "model3.add(Dropout(0.5))\n",
    "model3.add(Bidirectional(SimpleRNN(64, return_sequences=True)))\n",
    "model3.add(Dropout(0.5))\n",
    "model3.add(Dense(128))\n",
    "model3.add(Dropout(0.4))\n",
    "model3.add(Bidirectional(SimpleRNN(64)))\n",
    "model3.add(Dropout(0.4))\n",
    "model3.add(Dense(1, activation='sigmoid'))\n",
    "\n",
    "reduce_lr = ReduceLROnPlateau(\n",
    "    monitor='val_loss',\n",
    "    factor=0.25,\n",
    "    patience=3,\n",
    "    verbose=0,\n",
    "    mode='min'\n",
    ")\n",
    "\n",
    "early_stop = EarlyStopping(\n",
    "    patience=5,\n",
    "    min_delta=0,\n",
    "    monitor='val_loss',\n",
    "    verbose=0,\n",
    "    mode='min',\n",
    "    baseline=None\n",
    ")\n",
    "\n",
    "model3.compile(optimizer='RMSprop', loss='binary_crossentropy', metrics=\"accuracy\")\n",
    "history3 = model3.fit(data, labels, validation_split=0.3, epochs=50, batch_size=64, callbacks=[reduce_lr,early_stop])"
   ]
  },
  {
   "cell_type": "code",
   "execution_count": 31,
   "metadata": {},
   "outputs": [
    {
     "data": {
      "image/png": "[encoded data removed]",
      "text/plain": [
       "<Figure size 432x288 with 1 Axes>"
      ]
     },
     "metadata": {
      "needs_background": "light"
     },
     "output_type": "display_data"
    },
    {
     "data": {
      "image/png": "[encoded data removed]",
      "text/plain": [
       "<Figure size 432x288 with 1 Axes>"
      ]
     },
     "metadata": {
      "needs_background": "light"
     },
     "output_type": "display_data"
    }
   ],
   "source": [
    "acc = history3.history['accuracy']\n",
    "val_acc = history3.history['val_accuracy']\n",
    "loss = history3.history['loss']\n",
    "val_loss = history3.history['val_loss']\n",
    "epochs = range(1, len(acc) + 1)\n",
    "\n",
    "plt.plot(epochs, acc, 'bo', label='Training acc')\n",
    "plt.plot(epochs, val_acc, 'b', label='Validation acc')\n",
    "plt.title('Training and validation accuracy')\n",
    "plt.legend()\n",
    "plt.figure()\n",
    "plt.plot(epochs, loss, 'bo', label='Training loss')\n",
    "plt.plot(epochs, val_loss, 'b', label='Validation loss')\n",
    "plt.title('Training and validation loss')\n",
    "plt.legend()\n",
    "plt.show()"
   ]
  },
  {
   "cell_type": "code",
   "execution_count": 33,
   "metadata": {},
   "outputs": [
    {
     "name": "stdout",
     "output_type": "stream",
     "text": [
      "Epoch 1/50\n",
      "59/59 [==============================] - 11s 92ms/step - loss: 0.6108 - accuracy: 0.6775 - val_loss: 0.6003 - val_accuracy: 0.6936 - lr: 0.0010\n",
      "Epoch 2/50\n",
      "59/59 [==============================] - 4s 67ms/step - loss: 0.5912 - accuracy: 0.6946 - val_loss: 0.6147 - val_accuracy: 0.6873 - lr: 0.0010\n",
      "Epoch 3/50\n",
      "59/59 [==============================] - 4s 67ms/step - loss: 0.5891 - accuracy: 0.6989 - val_loss: 0.6529 - val_accuracy: 0.6704 - lr: 0.0010\n",
      "Epoch 4/50\n",
      "59/59 [==============================] - 4s 68ms/step - loss: 0.5835 - accuracy: 0.7003 - val_loss: 0.6081 - val_accuracy: 0.6904 - lr: 0.0010\n",
      "Epoch 5/50\n",
      "59/59 [==============================] - 4s 70ms/step - loss: 0.5787 - accuracy: 0.6997 - val_loss: 0.5976 - val_accuracy: 0.6961 - lr: 2.5000e-04\n",
      "Epoch 6/50\n",
      "59/59 [==============================] - 4s 68ms/step - loss: 0.5724 - accuracy: 0.7102 - val_loss: 0.5934 - val_accuracy: 0.6973 - lr: 2.5000e-04\n",
      "Epoch 7/50\n",
      "59/59 [==============================] - 4s 67ms/step - loss: 0.5755 - accuracy: 0.7038 - val_loss: 0.5976 - val_accuracy: 0.6986 - lr: 2.5000e-04\n",
      "Epoch 8/50\n",
      "59/59 [==============================] - 4s 67ms/step - loss: 0.5713 - accuracy: 0.7059 - val_loss: 0.6018 - val_accuracy: 0.6929 - lr: 2.5000e-04\n",
      "Epoch 9/50\n",
      "59/59 [==============================] - 4s 68ms/step - loss: 0.5718 - accuracy: 0.7097 - val_loss: 0.5943 - val_accuracy: 0.6948 - lr: 2.5000e-04\n",
      "Epoch 10/50\n",
      "59/59 [==============================] - 5s 77ms/step - loss: 0.5656 - accuracy: 0.7115 - val_loss: 0.5977 - val_accuracy: 0.6961 - lr: 6.2500e-05\n",
      "Epoch 11/50\n",
      "59/59 [==============================] - 4s 68ms/step - loss: 0.5653 - accuracy: 0.7094 - val_loss: 0.5977 - val_accuracy: 0.6998 - lr: 6.2500e-05\n"
     ]
    }
   ],
   "source": [
    "model4 = keras.models.Sequential()\n",
    "model4.add(Input(shape=(None,)))\n",
    "model4.add(Embedding(\n",
    "        input_dim=max_words,\n",
    "        output_dim=embedding_dim,\n",
    "        weights=[embedding_matrix],\n",
    "        trainable=False,\n",
    "        input_length=maxlen\n",
    "    ))\n",
    "model4.add(Dense(128))\n",
    "model4.add(Dropout(0.5))\n",
    "model4.add(Bidirectional(LSTM(64, return_sequences=True)))\n",
    "model4.add(Dropout(0.5))\n",
    "model4.add(Dense(128))\n",
    "model4.add(Dropout(0.4))\n",
    "model4.add(Bidirectional(LSTM(64)))\n",
    "model4.add(Dropout(0.4))\n",
    "model4.add(Dense(1, activation='sigmoid'))\n",
    "\n",
    "reduce_lr = ReduceLROnPlateau(\n",
    "    monitor='val_loss',\n",
    "    factor=0.25,\n",
    "    patience=3,\n",
    "    verbose=0,\n",
    "    mode='min'\n",
    ")\n",
    "\n",
    "early_stop = EarlyStopping(\n",
    "    patience=5,\n",
    "    min_delta=0,\n",
    "    monitor='val_loss',\n",
    "    verbose=0,\n",
    "    mode='min',\n",
    "    baseline=None\n",
    ")\n",
    "\n",
    "model4.compile(optimizer='RMSprop', loss='binary_crossentropy', metrics=\"accuracy\")\n",
    "history4 = model4.fit(data, labels, validation_split=0.3, epochs=50, batch_size=64, callbacks=[reduce_lr,early_stop])"
   ]
  },
  {
   "cell_type": "code",
   "execution_count": 34,
   "metadata": {},
   "outputs": [
    {
     "data": {
      "image/png": "[encoded data removed]",
      "text/plain": [
       "<Figure size 432x288 with 1 Axes>"
      ]
     },
     "metadata": {
      "needs_background": "light"
     },
     "output_type": "display_data"
    },
    {
     "data": {
      "image/png": "[encoded data removed]",
      "text/plain": [
       "<Figure size 432x288 with 1 Axes>"
      ]
     },
     "metadata": {
      "needs_background": "light"
     },
     "output_type": "display_data"
    }
   ],
   "source": [
    "acc = history4.history['accuracy']\n",
    "val_acc = history4.history['val_accuracy']\n",
    "loss = history4.history['loss']\n",
    "val_loss = history4.history['val_loss']\n",
    "epochs = range(1, len(acc) + 1)\n",
    "\n",
    "plt.plot(epochs, acc, 'bo', label='Training acc')\n",
    "plt.plot(epochs, val_acc, 'b', label='Validation acc')\n",
    "plt.title('Training and validation accuracy')\n",
    "plt.legend()\n",
    "plt.figure()\n",
    "plt.plot(epochs, loss, 'bo', label='Training loss')\n",
    "plt.plot(epochs, val_loss, 'b', label='Validation loss')\n",
    "plt.title('Training and validation loss')\n",
    "plt.legend()\n",
    "plt.show()"
   ]
  },
  {
   "cell_type": "markdown",
   "metadata": {},
   "source": [
    "## Evaluation"
   ]
  },
  {
   "cell_type": "markdown",
   "metadata": {},
   "source": [
    "We tokenize the test data"
   ]
  },
  {
   "cell_type": "code",
   "execution_count": 15,
   "metadata": {},
   "outputs": [],
   "source": [
    "# Tokenizing the test data split\n",
    "test_tokenizer = Tokenizer(num_words=vocab_size, lower=False)\n",
    "test_tokenizer.fit_on_texts(cleaned_test_text)\n",
    "test_sequences = test_tokenizer.texts_to_sequences(cleaned_test_text)\n",
    "test_data = pad_sequences(test_sequences, maxlen=maxlen)\n",
    "labels_test = np.asarray(labels_test)\n"
   ]
  },
  {
   "cell_type": "markdown",
   "metadata": {},
   "source": [
    "We then create classification reports for both the models."
   ]
  },
  {
   "cell_type": "code",
   "execution_count": 48,
   "metadata": {},
   "outputs": [
    {
     "name": "stdout",
     "output_type": "stream",
     "text": [
      "72/72 [==============================] - 0s 3ms/step - loss: 0.8401 - accuracy: 0.5447\n",
      "tf.Tensor([1. 1. 0. ... 0. 0. 0.], shape=(2284,), dtype=float32)\n",
      "              precision    recall  f1-score   support\n",
      "\n",
      "           0       0.58      0.74      0.65      1303\n",
      "           1       0.45      0.28      0.35       981\n",
      "\n",
      "    accuracy                           0.54      2284\n",
      "   macro avg       0.52      0.51      0.50      2284\n",
      "weighted avg       0.52      0.54      0.52      2284\n",
      "\n"
     ]
    }
   ],
   "source": [
    "test_evals = model.evaluate(test_data, labels_test)\n",
    "predictions = model.predict(test_data)\n",
    "predicted_lbls = squeeze(round(predictions))\n",
    "print(predicted_lbls)\n",
    "cr = classification_report(labels_test, predicted_lbls)\n",
    "print(cr)"
   ]
  },
  {
   "cell_type": "code",
   "execution_count": 26,
   "metadata": {},
   "outputs": [
    {
     "name": "stdout",
     "output_type": "stream",
     "text": [
      "72/72 [==============================] - 0s 5ms/step - loss: 0.8250 - accuracy: 0.5473\n",
      "              precision    recall  f1-score   support\n",
      "\n",
      "           0       0.58      0.72      0.65      1303\n",
      "           1       0.46      0.31      0.37       981\n",
      "\n",
      "    accuracy                           0.55      2284\n",
      "   macro avg       0.52      0.52      0.51      2284\n",
      "weighted avg       0.53      0.55      0.53      2284\n",
      "\n"
     ]
    }
   ],
   "source": [
    "test_evals2 = model2.evaluate(test_data, labels_test)\n",
    "predictions2 = model2.predict(test_data)\n",
    "predicted_lbls2 = squeeze(round(predictions2))\n",
    "cr2 = classification_report(labels_test, predicted_lbls2)\n",
    "print(cr2)"
   ]
  },
  {
   "cell_type": "code",
   "execution_count": 32,
   "metadata": {},
   "outputs": [
    {
     "name": "stdout",
     "output_type": "stream",
     "text": [
      "72/72 [==============================] - 1s 8ms/step - loss: 0.8987 - accuracy: 0.5595\n",
      "tf.Tensor([1. 1. 0. ... 0. 0. 1.], shape=(2284,), dtype=float32)\n",
      "              precision    recall  f1-score   support\n",
      "\n",
      "           0       0.59      0.73      0.66      1303\n",
      "           1       0.48      0.33      0.39       981\n",
      "\n",
      "    accuracy                           0.56      2284\n",
      "   macro avg       0.54      0.53      0.52      2284\n",
      "weighted avg       0.54      0.56      0.54      2284\n",
      "\n"
     ]
    }
   ],
   "source": [
    "test_evals3 = model3.evaluate(test_data, labels_test)\n",
    "predictions3 = model3.predict(test_data)\n",
    "predicted_lbls3 = squeeze(round(predictions3))\n",
    "print(predicted_lbls3)\n",
    "cr3 = classification_report(labels_test, predicted_lbls3)\n",
    "print(cr3)"
   ]
  },
  {
   "cell_type": "code",
   "execution_count": 35,
   "metadata": {},
   "outputs": [
    {
     "name": "stdout",
     "output_type": "stream",
     "text": [
      "72/72 [==============================] - 1s 20ms/step - loss: 0.8326 - accuracy: 0.5565\n",
      "tf.Tensor([1. 1. 0. ... 0. 0. 0.], shape=(2284,), dtype=float32)\n",
      "              precision    recall  f1-score   support\n",
      "\n",
      "           0       0.59      0.75      0.66      1303\n",
      "           1       0.47      0.30      0.37       981\n",
      "\n",
      "    accuracy                           0.56      2284\n",
      "   macro avg       0.53      0.52      0.51      2284\n",
      "weighted avg       0.54      0.56      0.53      2284\n",
      "\n"
     ]
    }
   ],
   "source": [
    "test_evals4 = model4.evaluate(test_data, labels_test)\n",
    "predictions4 = model4.predict(test_data)\n",
    "predicted_lbls4 = squeeze(round(predictions4))\n",
    "print(predicted_lbls4)\n",
    "cr4 = classification_report(labels_test, predicted_lbls4)\n",
    "print(cr4)"
   ]
  },
  {
   "cell_type": "markdown",
   "metadata": {},
   "source": [
    "The following is to create a submission for the Kaggle Competition. The Test data provided by Kaggle does not have a label. The predictions from the model are meant to be submitted to the competition."
   ]
  },
  {
   "cell_type": "code",
   "execution_count": 22,
   "metadata": {},
   "outputs": [],
   "source": [
    "# create a submission using test data\n",
    "test_data_clean2 = pd.read_csv(\"test_clean.csv\")\n",
    "cleaned_test_text2 = list(test_data_clean2[\"clean_text\"])\n",
    "nanIndexes = test_data_clean2[test_data_clean2['clean_text'].isna()].index\n",
    "for i in nanIndexes:\n",
    "    cleaned_test_text2[i] = \"\"\n",
    "test_tokenizer2 = Tokenizer(num_words=vocab_size, lower=False)\n",
    "test_tokenizer2.fit_on_texts(cleaned_test_text2)\n",
    "test_sequences2 = test_tokenizer.texts_to_sequences(cleaned_test_text2)\n",
    "test_data2 = pad_sequences(test_sequences2, maxlen=maxlen)\n",
    "predictions_test = model3.predict(test_data2)\n",
    "predicted_lbls_test = squeeze(round(predictions_test))\n",
    "predicted_lbls_test = list(map(lambda x: int(x), list(predicted_lbls_test.numpy())))\n",
    "res = []\n",
    "for i in test_data_clean2.index:\n",
    "    res.append([test_data_clean2[\"id\"][i], predicted_lbls_test[i]])\n",
    "predictions_df = pd.DataFrame(res, columns=[\"id\", \"target\"])\n",
    "predictions_df.to_csv(\"./disaster_tweets_submission.csv\", index=True)\n"
   ]
  }
 ],
 "metadata": {
  "interpreter": {
   "hash": "b5a0d1d8a35cb8b073861edef1310933a8cfd4e1991759f893d7bca481571fcb"
  },
  "kernelspec": {
   "display_name": "Python 3.9.1 64-bit",
   "language": "python",
   "name": "python3"
  },
  "language_info": {
   "codemirror_mode": {
    "name": "ipython",
    "version": 3
   },
   "file_extension": ".py",
   "mimetype": "text/x-python",
   "name": "python",
   "nbconvert_exporter": "python",
   "pygments_lexer": "ipython3",
   "version": "3.8.12"
  },
  "orig_nbformat": 4
 },
 "nbformat": 4,
 "nbformat_minor": 2
}
