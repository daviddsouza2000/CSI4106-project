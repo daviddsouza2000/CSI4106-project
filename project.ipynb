{
 "cells": [
  {
   "cell_type": "code",
   "execution_count": 1,
   "metadata": {},
   "outputs": [],
   "source": [
    "import pandas as pd\n",
    "import numpy as np\n",
    "from collections import Counter\n",
    "from multiprocessing import cpu_count\n",
    "from joblib import Parallel, delayed\n",
    "from sklearn.feature_extraction.text import CountVectorizer, TfidfVectorizer\n",
    "from sklearn.preprocessing import LabelEncoder\n",
    "from sklearn.model_selection import StratifiedShuffleSplit\n",
    "from sklearn.model_selection import GridSearchCV, StratifiedKFold\n",
    "from sklearn.pipeline import Pipeline\n",
    "from sklearn.metrics import classification_report, confusion_matrix\n",
    "from sklearn.svm import SVC\n",
    "from sklearn.preprocessing import LabelEncoder\n",
    "from sklearn.dummy import DummyClassifier\n",
    "\n",
    "from tensorflow import keras\n",
    "from tensorflow.keras import layers\n",
    "from tensorflow.keras.preprocessing.text import Tokenizer\n",
    "from tensorflow.keras.preprocessing.sequence import pad_sequences\n",
    "from tensorflow.keras.layers.experimental.preprocessing import TextVectorization\n",
    "\n",
    "#import nltk\n",
    "#from nltk.sentiment import SentimentAnalyzer, SentimentIntensityAnalyzer\n",
    "\n",
    "from nlpretext import Preprocessor\n",
    "from nlpretext.basic.preprocess import normalize_whitespace, remove_punct, remove_eol_characters, remove_stopwords, \\\n",
    "   lower_text, remove_accents, remove_multiple_spaces_and_strip_text, replace_numbers, replace_emails, replace_urls\n",
    "from nlpretext.social.preprocess import remove_mentions, remove_hashtag, remove_emoji\n",
    "\n",
    "# some useful libraries\n",
    "# spacy\n",
    "\n",
    "np.random.seed(42)"
   ]
  },
  {
   "cell_type": "code",
   "execution_count": 2,
   "metadata": {},
   "outputs": [],
   "source": [
    "train_data = pd.read_csv(\"./train.csv\")\n",
    "test_data = pd.read_csv(\"./test.csv\")"
   ]
  },
  {
   "cell_type": "code",
   "execution_count": 3,
   "metadata": {},
   "outputs": [
    {
     "name": "stdout",
     "output_type": "stream",
     "text": [
      "(7613, 5)\n"
     ]
    },
    {
     "data": {
      "text/plain": [
       "'#RockyFire Update => California Hwy. 20 closed in both directions due to Lake County fire - #CAfire #wildfires'"
      ]
     },
     "execution_count": 3,
     "metadata": {},
     "output_type": "execute_result"
    }
   ],
   "source": [
    "print(train_data.shape)\n",
    "train_data[\"text\"][5]"
   ]
  },
  {
   "cell_type": "code",
   "execution_count": 4,
   "metadata": {},
   "outputs": [],
   "source": [
    "# text pre-processing\n",
    "def clean_text(text):\n",
    "    preprocessor = Preprocessor()\n",
    "    preprocessor.pipe(lower_text)\n",
    "    preprocessor.pipe(remove_mentions)\n",
    "    preprocessor.pipe(remove_hashtag)\n",
    "    preprocessor.pipe(remove_emoji)\n",
    "    preprocessor.pipe(remove_eol_characters)\n",
    "    preprocessor.pipe(remove_stopwords, args={'lang': 'en'})\n",
    "    preprocessor.pipe(remove_punct)\n",
    "    preprocessor.pipe(replace_urls)\n",
    "    preprocessor.pipe(replace_emails)\n",
    "    preprocessor.pipe(replace_numbers)\n",
    "    preprocessor.pipe(remove_accents)\n",
    "    preprocessor.pipe(remove_multiple_spaces_and_strip_text)\n",
    "    preprocessor.pipe(normalize_whitespace)\n",
    "\n",
    "    text = preprocessor.run(text)\n",
    "\n",
    "    return text"
   ]
  },
  {
   "cell_type": "code",
   "execution_count": 6,
   "metadata": {},
   "outputs": [
    {
     "name": "stdout",
     "output_type": "stream",
     "text": [
      "   id keyword location                                               text  \\\n",
      "0   1     NaN      NaN  Our Deeds are the Reason of this #earthquake M...   \n",
      "1   4     NaN      NaN             Forest fire near La Ronge Sask. Canada   \n",
      "2   5     NaN      NaN  All residents asked to 'shelter in place' are ...   \n",
      "3   6     NaN      NaN  13,000 people receive #wildfires evacuation or...   \n",
      "4   7     NaN      NaN  Just got sent this photo from Ruby #Alaska as ...   \n",
      "\n",
      "   target                                         clean_text  \n",
      "0       1                         deeds reason allah forgive  \n",
      "1       1                   forest fire la ronge sask canada  \n",
      "2       1  residents asked shelter place notified officer...  \n",
      "3       1  *NUMBER people receive evacuation orders calif...  \n",
      "4       1                      photo ruby smoke pours school  \n"
     ]
    }
   ],
   "source": [
    "train_data['clean_text'] = train_data.text.apply(lambda x: clean_text(x))\n",
    "print(train_data.head())\n",
    "train_data.to_csv('train_clean.csv')"
   ]
  },
  {
   "cell_type": "code",
   "execution_count": 9,
   "metadata": {},
   "outputs": [],
   "source": [
    "labels = list(train_data[\"target\"])"
   ]
  },
  {
   "cell_type": "code",
   "execution_count": 13,
   "metadata": {},
   "outputs": [],
   "source": [
    "# change to actual cleaned text later\n",
    "cleaned_train_text = list(train_data[\"text\"])"
   ]
  },
  {
   "cell_type": "code",
   "execution_count": 14,
   "metadata": {},
   "outputs": [
    {
     "name": "stdout",
     "output_type": "stream",
     "text": [
      "Found 22700 unique tokens\n",
      "Shape of data tensor: (7613, 100)\n",
      "Shape of label tensor: (7613,)\n"
     ]
    }
   ],
   "source": [
    "maxlen = 100\n",
    "training_samples = 200\n",
    "validation_samples = 10000\n",
    "max_words = 10000\n",
    "\n",
    "# word level one-hot encoding\n",
    "tokenizer = Tokenizer(num_words=1000)\n",
    "tokenizer.fit_on_texts(cleaned_train_text)\n",
    "sequences = tokenizer.texts_to_sequences(cleaned_train_text)\n",
    "one_hot_results = tokenizer.texts_to_matrix(cleaned_train_text, mode='binary')\n",
    "word_index = tokenizer.word_index\n",
    "print(f\"Found {len(word_index)} unique tokens\")\n",
    "\n",
    "data = pad_sequences(sequences, maxlen=maxlen)\n",
    "\n",
    "labels = np.asarray(labels)\n",
    "print('Shape of data tensor:', data.shape)\n",
    "print('Shape of label tensor:', labels.shape)\n"
   ]
  }
 ],
 "metadata": {
  "interpreter": {
   "hash": "b5a0d1d8a35cb8b073861edef1310933a8cfd4e1991759f893d7bca481571fcb"
  },
  "kernelspec": {
   "display_name": "Python 3.9.1 64-bit",
   "language": "python",
   "name": "python3"
  },
  "language_info": {
   "codemirror_mode": {
    "name": "ipython",
    "version": 3
   },
   "file_extension": ".py",
   "mimetype": "text/x-python",
   "name": "python",
   "nbconvert_exporter": "python",
   "pygments_lexer": "ipython3",
   "version": "3.8.12"
  },
  "orig_nbformat": 4
 },
 "nbformat": 4,
 "nbformat_minor": 2
}
