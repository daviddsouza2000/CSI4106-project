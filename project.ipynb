{
 "cells": [
  {
   "cell_type": "code",
   "execution_count": 128,
   "metadata": {},
   "outputs": [],
   "source": [
    "import os\n",
    "import pandas as pd\n",
    "import numpy as np\n",
    "from collections import Counter\n",
    "from multiprocessing import cpu_count\n",
    "from joblib import Parallel, delayed\n",
    "from sklearn.feature_extraction.text import CountVectorizer, TfidfVectorizer\n",
    "from sklearn.preprocessing import LabelEncoder\n",
    "from sklearn.model_selection import StratifiedShuffleSplit\n",
    "from sklearn.model_selection import GridSearchCV, StratifiedKFold\n",
    "from sklearn.pipeline import Pipeline\n",
    "from sklearn.metrics import classification_report, confusion_matrix\n",
    "from sklearn.svm import SVC\n",
    "from sklearn.preprocessing import LabelEncoder\n",
    "from sklearn.dummy import DummyClassifier\n",
    "\n",
    "from tensorflow import keras\n",
    "from keras import layers\n",
    "from keras.preprocessing.text import Tokenizer\n",
    "from keras.preprocessing.sequence import pad_sequences\n",
    "#from keras.layers.experimental.preprocessing import TextVectorization\n",
    "from keras.callbacks import EarlyStopping, ModelCheckpoint, ReduceLROnPlateau\n",
    "from keras.regularizers import L2\n",
    "from keras.metrics import BinaryAccuracy, AUC\n",
    "\n",
    "import matplotlib.pyplot as plt\n",
    "# https://nlpretext.readthedocs.io/en/latest/\n",
    "# for twitter\n",
    "# https://towardsdatascience.com/twitter-sentiment-analysis-classification-using-nltk-python-fa912578614c\n",
    "#from nlpretext import Preprocessor\n",
    "#from nlpretext.basic.preprocess import normalize_whitespace, remove_punct, remove_eol_characters, remove_stopwords, \\\n",
    "#   lower_text, remove_accents, remove_multiple_spaces_and_strip_text, replace_numbers, replace_emails, replace_urls\n",
    "#from nlpretext.social.preprocess import convert_emoji_to_text, remove_mentions, extract_mentions, remove_hashtag, extract_hashtags\n",
    "\n",
    "from textblob import TextBlob\n",
    "import re\n",
    "import nltk\n",
    "from nltk.corpus import stopwords\n",
    "# some useful libraries\n",
    "# spacy\n",
    "\n",
    "np.random.seed(9)"
   ]
  },
  {
   "cell_type": "code",
   "execution_count": 129,
   "metadata": {},
   "outputs": [
    {
     "name": "stderr",
     "output_type": "stream",
     "text": [
      "[nltk_data] Downloading package punkt to\n",
      "[nltk_data]     C:\\Users\\DAVID\\AppData\\Roaming\\nltk_data...\n",
      "[nltk_data]   Package punkt is already up-to-date!\n",
      "[nltk_data] Downloading package stopwords to\n",
      "[nltk_data]     C:\\Users\\DAVID\\AppData\\Roaming\\nltk_data...\n",
      "[nltk_data]   Package stopwords is already up-to-date!\n"
     ]
    },
    {
     "data": {
      "text/plain": [
       "True"
      ]
     },
     "execution_count": 129,
     "metadata": {},
     "output_type": "execute_result"
    }
   ],
   "source": [
    "import nltk\n",
    "nltk.download('punkt')\n",
    "nltk.download('stopwords')"
   ]
  },
  {
   "cell_type": "code",
   "execution_count": 130,
   "metadata": {},
   "outputs": [],
   "source": [
    "train_data = pd.read_csv(\"./train.csv\")\n",
    "test_data = pd.read_csv(\"./test.csv\")"
   ]
  },
  {
   "cell_type": "code",
   "execution_count": 131,
   "metadata": {},
   "outputs": [
    {
     "name": "stdout",
     "output_type": "stream",
     "text": [
      "(7613, 5)\n",
      "#RockyFire Update => California Hwy. 20 closed in both directions due to Lake County fire - #CAfire #wildfires\n",
      "1\n"
     ]
    }
   ],
   "source": [
    "print(train_data.shape)\n",
    "print(train_data[\"text\"][5])\n",
    "print(train_data[\"target\"][5])"
   ]
  },
  {
   "cell_type": "code",
   "execution_count": 41,
   "metadata": {},
   "outputs": [],
   "source": [
    "# text pre-processing\n",
    "counter = 0\n",
    "def get_str_hashtags(text):\n",
    "    preprocessor = Preprocessor()\n",
    "    preprocessor.pipe(extract_hashtags)\n",
    "    lst = preprocessor.run(text)    \n",
    "    str = \"\"\n",
    "    for word in lst:\n",
    "        str += \" \" + word.replace('#', '')\n",
    "    return str\n",
    "\n",
    "def get_str_mentions(text):\n",
    "    preprocessor = Preprocessor()\n",
    "    preprocessor.pipe(extract_mentions)\n",
    "    lst = preprocessor.run(text)\n",
    "    str = \"\"\n",
    "    for word in lst:\n",
    "        str += \" \" + word.replace('@', '')\n",
    "    return str\n",
    "    \n",
    "\n",
    "def clean_text(text):\n",
    "    preprocessor = Preprocessor()\n",
    "    preprocessor.pipe(lower_text)\n",
    "    preprocessor.pipe(remove_mentions)\n",
    "    preprocessor.pipe(remove_hashtag)\n",
    "    preprocessor.pipe(convert_emoji_to_text)\n",
    "    preprocessor.pipe(remove_eol_characters)\n",
    "    preprocessor.pipe(remove_stopwords, args={'lang': 'en'})\n",
    "    preprocessor.pipe(remove_punct)\n",
    "    preprocessor.pipe(replace_urls)\n",
    "    preprocessor.pipe(replace_emails)\n",
    "    preprocessor.pipe(replace_numbers)\n",
    "    preprocessor.pipe(remove_accents)\n",
    "    preprocessor.pipe(remove_multiple_spaces_and_strip_text)\n",
    "    preprocessor.pipe(normalize_whitespace)\n",
    "    \n",
    "    text = preprocessor.run(text)\n",
    "\n",
    "    return text"
   ]
  },
  {
   "cell_type": "code",
   "execution_count": 132,
   "metadata": {},
   "outputs": [
    {
     "name": "stdout",
     "output_type": "stream",
     "text": [
      "forest fire near la ronge sask canada\n",
      "#RockyFire Update => California Hwy. 20 closed in both directions due to Lake County fire - #CAfire #wildfires\n"
     ]
    }
   ],
   "source": [
    "def clean_text(tweet):\n",
    "    tweet_blob = TextBlob(tweet)\n",
    "    tweet_blob = ' '.join(tweet_blob.words)\n",
    "    tweet_blob = tweet_blob.lower()\n",
    "    stopset = set(stopwords.words('english'))\n",
    "    tokens = nltk.word_tokenize(tweet_blob)\n",
    "    cleanup = \" \".join(filter(lambda word: word not in stopset, tweet_blob.split()))\n",
    "    return cleanup\n",
    "\n",
    "print(clean_text(train_data[\"text\"].iloc[1]))\n",
    "print(train_data[\"text\"].iloc[5])"
   ]
  },
  {
   "cell_type": "code",
   "execution_count": 133,
   "metadata": {},
   "outputs": [],
   "source": [
    "# clean train data and save it to a csv\n",
    "train_data['clean_text'] = train_data.text.apply(lambda x: clean_text(x))\n",
    "#train_data['hashtags'] = train_data.text.apply(lambda x: get_str_hashtags(x))\n",
    "#train_data['mentions'] = train_data.text.apply(lambda x: get_str_mentions(x))\n",
    "train_data.to_csv('train_clean.csv')\n"
   ]
  },
  {
   "cell_type": "code",
   "execution_count": 134,
   "metadata": {},
   "outputs": [],
   "source": [
    "# clean test data and save it to a csv\n",
    "test_data['clean_text'] = test_data.text.apply(lambda x: clean_text(x))\n",
    "#test_data['hashtags'] = test_data.text.apply(lambda x: get_str_hashtags(x))\n",
    "#test_data['mentions'] = test_data.text.apply(lambda x: get_str_mentions(x))\n",
    "test_data.to_csv('test_clean.csv')"
   ]
  },
  {
   "cell_type": "code",
   "execution_count": 135,
   "metadata": {},
   "outputs": [
    {
     "name": "stdout",
     "output_type": "stream",
     "text": [
      "(7613, 7)\n"
     ]
    }
   ],
   "source": [
    "df = pd.read_csv(\"./train_clean.csv\")\n",
    "print(df.shape)"
   ]
  },
  {
   "cell_type": "markdown",
   "metadata": {},
   "source": [
    "The test data does not have a target column, so we cannot evaluate our models using the test data. We need to split the first dataset into a test and train dataset."
   ]
  },
  {
   "cell_type": "code",
   "execution_count": 136,
   "metadata": {},
   "outputs": [
    {
     "name": "stdout",
     "output_type": "stream",
     "text": [
      "(5329, 7)\n",
      "(2284, 7)\n",
      "0    0.570276\n",
      "1    0.429724\n",
      "Name: target, dtype: float64\n",
      "0    0.57049\n",
      "1    0.42951\n",
      "Name: target, dtype: float64\n"
     ]
    }
   ],
   "source": [
    "# split the data into train and test set\n",
    "sss = StratifiedShuffleSplit(n_splits=1, test_size=0.3, random_state=9)\n",
    "\n",
    "for train_index, test_index in sss.split(df, df['target']):\n",
    "    df_train = df.loc[train_index]\n",
    "    df_test = df.loc[test_index]\n",
    "\n",
    "print(df_train.shape)\n",
    "print(df_test.shape)\n",
    "print(df_train.target.value_counts()/len(df_train))\n",
    "print(df_test.target.value_counts()/len(df_test))"
   ]
  },
  {
   "cell_type": "code",
   "execution_count": 137,
   "metadata": {},
   "outputs": [],
   "source": [
    "# reset indexes\n",
    "df_train = df_train.reset_index()\n",
    "df_test = df_test.reset_index()"
   ]
  },
  {
   "cell_type": "code",
   "execution_count": 138,
   "metadata": {},
   "outputs": [],
   "source": [
    "cleaned_train_text = list(df_train[\"clean_text\"])\n",
    "labels_train = list(df_train[\"target\"])\n",
    "cleaned_test_text = list(df_test[\"clean_text\"])\n",
    "labels_test = list(df_test[\"target\"])"
   ]
  },
  {
   "cell_type": "code",
   "execution_count": 139,
   "metadata": {},
   "outputs": [],
   "source": [
    "# After cleaning the text, some value are NaN. So, we need to replace these values with an empty string\n",
    "train_nan_indexes = df_train[df_train[\"clean_text\"].isna()].index\n",
    "for i in train_nan_indexes:\n",
    "    cleaned_train_text[i] = \"\"\n",
    "\n",
    "test_nan_indexes = df_test[df_test[\"clean_text\"].isna()].index\n",
    "for i in test_nan_indexes:\n",
    "    cleaned_test_text[i] = \"\""
   ]
  },
  {
   "cell_type": "code",
   "execution_count": 171,
   "metadata": {},
   "outputs": [
    {
     "name": "stdout",
     "output_type": "stream",
     "text": [
      "Found 17296 unique tokens\n",
      "Shape of data tensor: (5329, 30)\n",
      "Shape of label tensor: (5329,)\n",
      "5329\n"
     ]
    }
   ],
   "source": [
    "# tokenize the clean_text column\n",
    "maxlen = 30\n",
    "max_words = 100\n",
    "vocab_size = 100\n",
    "# word level one-hot encoding\n",
    "tokenizer = Tokenizer(num_words=vocab_size)\n",
    "tokenizer.fit_on_texts(cleaned_train_text)\n",
    "sequences = tokenizer.texts_to_sequences(cleaned_train_text)\n",
    "#one_hot_results = tokenizer.texts_to_matrix(cleaned_train_text, mode='binary')\n",
    "word_index = tokenizer.word_index\n",
    "print(f\"Found {len(word_index)} unique tokens\")\n",
    "\n",
    "data = pad_sequences(sequences, maxlen=maxlen)\n",
    "\n",
    "labels = np.asarray(labels_train)\n",
    "print('Shape of data tensor:', data.shape)\n",
    "print('Shape of label tensor:', labels.shape)\n",
    "print(data.shape[0])\n"
   ]
  },
  {
   "cell_type": "code",
   "execution_count": 192,
   "metadata": {},
   "outputs": [
    {
     "name": "stdout",
     "output_type": "stream",
     "text": [
      "Found 1193514 word vectors.\n"
     ]
    }
   ],
   "source": [
    "# using the GloVe word-embeddings file from https://nlp.stanford.edu/projects/glove/\n",
    "glove_dir = './'\n",
    "embeddings_index = {}\n",
    "f = open(os.path.join(glove_dir, 'glove.twitter.27B.25d.txt'), 'rb')\n",
    "for line in f:\n",
    "    values = line.split()\n",
    "    word = values[0]\n",
    "    coefs = np.asarray(values[1:], dtype='float32')\n",
    "    embeddings_index[word] = coefs\n",
    "f.close()\n",
    "print('Found %s word vectors.' % len(embeddings_index))"
   ]
  },
  {
   "cell_type": "code",
   "execution_count": 193,
   "metadata": {},
   "outputs": [],
   "source": [
    "embedding_dim = 100\n",
    "embedding_matrix = np.zeros((max_words, embedding_dim))\n",
    "for word, i in word_index.items():\n",
    "    if i < max_words:\n",
    "        embedding_vector = embeddings_index.get(word)\n",
    "    if embedding_vector is not None:\n",
    "        embedding_matrix[i] = embedding_vector"
   ]
  },
  {
   "cell_type": "code",
   "execution_count": 54,
   "metadata": {},
   "outputs": [],
   "source": [
    "hashtags_train = list(df_train[\"hashtags\"])\n",
    "hashtags_test = list(df_test[\"hashtags\"])\n",
    "mentions_train = list(df_train[\"mentions\"])\n",
    "mentions_test = list(df_test[\"mentions\"])"
   ]
  },
  {
   "cell_type": "code",
   "execution_count": null,
   "metadata": {},
   "outputs": [],
   "source": [
    "# Some value are NaN. So, we need to replace these values with an empty string\n",
    "train_nan_indexes = df_train[df_train[\"hashtags\"].isna()].index\n",
    "for i in train_nan_indexes:\n",
    "    hashtags_train[i] = \"\"\n",
    "train_nan_indexes = df_train[df_train[\"mentions\"].isna()].index\n",
    "for i in train_nan_indexes:\n",
    "    mentions_train[i] = \"\"\n",
    "    \n",
    "test_nan_indexes = df_test[df_test[\"hashtags\"].isna()].index\n",
    "for i in test_nan_indexes:\n",
    "    hashtags_test[i] = \"\"\n",
    "test_nan_indexes = df_test[df_test[\"mentions\"].isna()].index\n",
    "for i in test_nan_indexes:\n",
    "    mentions_test[i] = \"\""
   ]
  },
  {
   "cell_type": "code",
   "execution_count": 56,
   "metadata": {},
   "outputs": [
    {
     "name": "stdout",
     "output_type": "stream",
     "text": [
      "Found 1459 unique tokens\n"
     ]
    }
   ],
   "source": [
    "# tokenize hashtags column\n",
    "maxlen = 100\n",
    "max_words = 10000\n",
    "vocab_size = 10000\n",
    "# word level one-hot encoding\n",
    "tokenizer_hashtags = Tokenizer(num_words=vocab_size)\n",
    "tokenizer_hashtags.fit_on_texts(hashtags_train)\n",
    "sequences_hashtags = tokenizer.texts_to_sequences(hashtags_train)\n",
    "#one_hot_results = tokenizer.texts_to_matrix(hashtags_train, mode='binary')\n",
    "word_index = tokenizer_hashtags.word_index\n",
    "print(f\"Found {len(word_index)} unique tokens\")\n",
    "\n",
    "data_hashtags = pad_sequences(sequences_hashtags, maxlen=maxlen)\n"
   ]
  },
  {
   "cell_type": "code",
   "execution_count": 57,
   "metadata": {},
   "outputs": [
    {
     "name": "stdout",
     "output_type": "stream",
     "text": [
      "Found 1853 unique tokens\n"
     ]
    }
   ],
   "source": [
    "# tokeize mentions column\n",
    "maxlen = 248\n",
    "max_words = 1000\n",
    "vocab_size = 1000\n",
    "# word level one-hot encoding\n",
    "tokenizer_mentions = Tokenizer(num_words=vocab_size)\n",
    "tokenizer_mentions.fit_on_texts(mentions_train)\n",
    "sequences_mentions = tokenizer.texts_to_sequences(mentions_train)\n",
    "#one_hot_results = tokenizer.texts_to_matrix(hashtags_train, mode='binary')\n",
    "word_index = tokenizer_mentions.word_index\n",
    "print(f\"Found {len(word_index)} unique tokens\")\n",
    "\n",
    "data_mentions = pad_sequences(sequences_mentions, maxlen=maxlen)"
   ]
  },
  {
   "cell_type": "code",
   "execution_count": null,
   "metadata": {},
   "outputs": [],
   "source": [
    "input1 = keras.Input(shape=(None,))\n",
    "input2 = keras.Input(shape=(None,))\n",
    "input3 = keras.Input(shape=(None,))\n",
    "input = layers.Concatenate()([input1, input2, input3])\n",
    "# embed_layer = layers.Embedding(\n",
    "#         input_dim=vocab_size,\n",
    "#         output_dim=maxlen,\n",
    "#     )(input)\n",
    "embed_layer = layers.Embedding(\n",
    "        input_dim=max_words,\n",
    "        output_dim=embedding_dim,\n",
    "        weights=[embedding_matrix],\n",
    "        trainable=False,\n",
    "        input_length=maxlen\n",
    "    )(input1)\n",
    "#x = layers.Bidirectional(layers.SimpleRNN(64, return_sequences=True, kernel_regularizer = L2(0.001)))(embed_layer)\n",
    "x = layers.SimpleRNN(64, return_sequences=True, kernel_regularizer = L2(0.001))(embed_layer)\n",
    "x = layers.Dropout(0.5)(x)\n",
    "#x = layers.Bidirectional(layers.SimpleRNN(32, kernel_regularizer = L2(l2=0.001)))(x)\n",
    "x = layers.SimpleRNN(32, kernel_regularizer = L2(l2=0.001))(x)\n",
    "x = layers.Dropout(0.5)(x)\n",
    "x = layers.Dense(64, activation='relu')(x)\n",
    "x = layers.Dropout(0.5)(x)\n",
    "output = layers.Dense(1, activation='sigmoid')(x)\n",
    "\n",
    "#model = keras.models.Model(inputs=[input1, input2, input3], outputs=output)\n",
    "model = keras.models.Model(inputs=input1, outputs=output)\n",
    "#model.summary()\n",
    "model.compile(optimizer='Adam', loss='binary_crossentropy', metrics=\"accuracy\")\n",
    "\n",
    "reduce_lr = ReduceLROnPlateau(\n",
    "    monitor='val_loss',\n",
    "    factor=0.25,\n",
    "    patience=3,\n",
    "    verbose=0,\n",
    "    mode='min'\n",
    ")\n",
    "\n",
    "# checkpoints = ModelCheckpoint(\n",
    "#     '/kaggle/working/best_model.h5',\n",
    "#     monitor='val_loss',\n",
    "#     verbose=0,\n",
    "#     save_best_only=True,\n",
    "#     mode='min'\n",
    "# )\n",
    "\n",
    "early_stop = EarlyStopping(\n",
    "    patience=5,\n",
    "    min_delta=0,\n",
    "    monitor='val_loss',\n",
    "    #restore_best_weights=True,\n",
    "    verbose=0,\n",
    "    mode='min',\n",
    "    baseline=None\n",
    ")\n",
    "\n",
    "# history = model.fit([data, data_hashtags, data_mentions], labels, \n",
    "#                     validation_split=0.3, epochs=50, batch_size=64, callbacks=[reduce_lr,early_stop])\n",
    "history = model.fit(data, labels, \n",
    "                    validation_split=0.3, epochs=50, batch_size=64, callbacks=[reduce_lr,early_stop])\n",
    "# history = model.fit(data, labels, \n",
    "#                     validation_split=0.3, epochs=50, batch_size=64)"
   ]
  },
  {
   "cell_type": "code",
   "execution_count": null,
   "metadata": {},
   "outputs": [],
   "source": [
    "# model taken from notes\n",
    "# inputs = keras.Input(shape=(None,))\n",
    "# embed_layer = keras.layers.Embedding(\n",
    "#         input_dim=vocab_size,\n",
    "#         output_dim=300,\n",
    "#         mask_zero=True\n",
    "#     )(inputs)\n",
    "# x = keras.layers.Bidirectional(keras.layers.LSTM(64))(embed_layer)\n",
    "# x = keras.layers.Dense(64, activation='relu')(x)\n",
    "# outputs = keras.layers.Dense(units=2, activation='softmax')(x)\n",
    "\n",
    "# model5 = keras.Model(inputs, outputs)\n",
    "\n",
    "# model5.compile(optimizer=\"rmsprop\", loss=\"sparse_categorical_crossentropy\", metrics=\"accuracy\")\n",
    "\n",
    "# model5.fit(data, labels, validation_split=0.3, epochs=5, batch_size=64)\n",
    "\n",
    "# to add the keywords as inputs : https://stackoverflow.com/questions/55233377/keras-sequential-model-with-multiple-inputs"
   ]
  },
  {
   "cell_type": "code",
   "execution_count": 201,
   "metadata": {},
   "outputs": [
    {
     "name": "stdout",
     "output_type": "stream",
     "text": [
      "Epoch 1/5\n",
      "117/117 [==============================] - 2s 9ms/step - loss: 0.6874 - accuracy: 0.5678 - val_loss: 0.6836 - val_accuracy: 0.5722\n",
      "Epoch 2/5\n",
      "117/117 [==============================] - 1s 6ms/step - loss: 0.6848 - accuracy: 0.5694 - val_loss: 0.6874 - val_accuracy: 0.5722\n",
      "Epoch 3/5\n",
      "117/117 [==============================] - 1s 6ms/step - loss: 0.6848 - accuracy: 0.5694 - val_loss: 0.6832 - val_accuracy: 0.5722\n",
      "Epoch 4/5\n",
      "117/117 [==============================] - 1s 6ms/step - loss: 0.6844 - accuracy: 0.5694 - val_loss: 0.6828 - val_accuracy: 0.5722\n",
      "Epoch 5/5\n",
      "117/117 [==============================] - 1s 6ms/step - loss: 0.6843 - accuracy: 0.5694 - val_loss: 0.6843 - val_accuracy: 0.5722\n"
     ]
    }
   ],
   "source": [
    "# trying recurrent layer\n",
    "# model = keras.models.Sequential()\n",
    "# model.add(layers.Input(shape=(None,)))\n",
    "# model.add(layers.Embedding(input_dim=vocab_size, output_dim=300, mask_zero=True))\n",
    "# model.add(layers.Bidirectional(layers.SimpleRNN(32, return_sequences=True)))\n",
    "# model.add(layers.Dropout(0.5))\n",
    "# model.add(layers.Bidirectional(layers.SimpleRNN(32)))\n",
    "# model.add(layers.Dense(1, activation='sigmoid'))\n",
    "# model.compile(optimizer='RMSprop', loss='binary_crossentropy', metrics=\"accuracy\")\n",
    "# history = model.fit(data, labels, validation_split=0.3, epochs=5, batch_size=32)\n",
    "\n",
    "model = keras.models.Sequential()\n",
    "model.add(layers.Input(shape=(None,)))\n",
    "model.add(layers.Embedding(input_dim=max_words,\n",
    "        output_dim=embedding_dim,\n",
    "        weights=[embedding_matrix],\n",
    "        trainable=False,\n",
    "        input_length=maxlen))\n",
    "#model.add(layers.Bidirectional(layers.SimpleRNN(32, return_sequences=True)))\n",
    "model.add(layers.SimpleRNN(64))\n",
    "#model.add(layers.Dropout(0.5))\n",
    "#model.add(layers.Bidirectional(layers.SimpleRNN(32)))\n",
    "model.add(layers.Dense(1, activation='sigmoid'))\n",
    "model.compile(optimizer='RMSprop', loss='binary_crossentropy', metrics=\"accuracy\")\n",
    "history = model.fit(data, labels, validation_split=0.3, epochs=5, batch_size=32)\n"
   ]
  },
  {
   "cell_type": "code",
   "execution_count": 199,
   "metadata": {},
   "outputs": [
    {
     "data": {
      "image/png": "[encoded data removed]",
      "text/plain": [
       "<Figure size 432x288 with 1 Axes>"
      ]
     },
     "metadata": {
      "needs_background": "light"
     },
     "output_type": "display_data"
    },
    {
     "data": {
      "image/png": "[encoded data removed]",
      "text/plain": [
       "<Figure size 432x288 with 1 Axes>"
      ]
     },
     "metadata": {
      "needs_background": "light"
     },
     "output_type": "display_data"
    }
   ],
   "source": [
    "# plotting the model fit\n",
    "acc = history.history['accuracy']\n",
    "val_acc = history.history['val_accuracy']\n",
    "loss = history.history['loss']\n",
    "val_loss = history.history['val_loss']\n",
    "\n",
    "epochs = range(1, len(acc) + 1)\n",
    "\n",
    "plt.plot(epochs, acc, 'bo', label='Training acc')\n",
    "plt.plot(epochs, val_acc, 'b', label='Validation acc')\n",
    "\n",
    "plt.title('Training and validation accuracy')\n",
    "plt.legend()\n",
    "plt.figure()\n",
    "plt.plot(epochs, loss, 'bo', label='Training loss')\n",
    "plt.plot(epochs, val_loss, 'b', label='Validation loss')\n",
    "plt.title('Training and validation loss')\n",
    "plt.legend()\n",
    "plt.show()"
   ]
  },
  {
   "cell_type": "code",
   "execution_count": 207,
   "metadata": {},
   "outputs": [
    {
     "name": "stdout",
     "output_type": "stream",
     "text": [
      "Epoch 1/5\n",
      "59/59 [==============================] - 4s 43ms/step - loss: 0.6858 - accuracy: 0.5694 - val_loss: 0.6828 - val_accuracy: 0.5722\n",
      "Epoch 2/5\n",
      "59/59 [==============================] - 2s 35ms/step - loss: 0.6842 - accuracy: 0.5694 - val_loss: 0.6833 - val_accuracy: 0.5722\n",
      "Epoch 3/5\n",
      "59/59 [==============================] - 2s 35ms/step - loss: 0.6844 - accuracy: 0.5694 - val_loss: 0.6827 - val_accuracy: 0.5722\n",
      "Epoch 4/5\n",
      "59/59 [==============================] - 2s 35ms/step - loss: 0.6846 - accuracy: 0.5694 - val_loss: 0.6828 - val_accuracy: 0.5722\n",
      "Epoch 5/5\n",
      "59/59 [==============================] - 2s 35ms/step - loss: 0.6843 - accuracy: 0.5694 - val_loss: 0.6834 - val_accuracy: 0.5722\n"
     ]
    }
   ],
   "source": [
    "# using LSTM layer\n",
    "model2 = keras.models.Sequential()\n",
    "model2.add(layers.Input(shape=(None,)))\n",
    "#model2.add(layers.Embedding(input_dim=vocab_size, output_dim=300, mask_zero=True))\n",
    "model2.add(layers.Embedding(input_dim=max_words,\n",
    "        output_dim=embedding_dim,\n",
    "        weights=[embedding_matrix],\n",
    "        trainable=False,\n",
    "        input_length=maxlen))\n",
    "# model2.add(layers.Bidirectional(layers.LSTM(32, return_sequences=True)))\n",
    "# model2.add(layers.Dropout(0.5))\n",
    "model2.add(layers.LSTM(64))\n",
    "\n",
    "model2.add(layers.Dense(1, activation='sigmoid'))\n",
    "model2.compile(optimizer='rmsprop', loss='binary_crossentropy', metrics=\"accuracy\")\n",
    "history2 = model2.fit(data, labels, validation_split=0.3, epochs=5, batch_size=64)"
   ]
  },
  {
   "cell_type": "code",
   "execution_count": 205,
   "metadata": {},
   "outputs": [
    {
     "data": {
      "image/png": "[encoded data removed]",
      "text/plain": [
       "<Figure size 432x288 with 1 Axes>"
      ]
     },
     "metadata": {
      "needs_background": "light"
     },
     "output_type": "display_data"
    },
    {
     "data": {
      "image/png": "[encoded data removed]",
      "text/plain": [
       "<Figure size 432x288 with 1 Axes>"
      ]
     },
     "metadata": {
      "needs_background": "light"
     },
     "output_type": "display_data"
    }
   ],
   "source": [
    "# plotting the model fit\n",
    "acc = history2.history['accuracy']\n",
    "val_acc = history2.history['val_accuracy']\n",
    "loss = history2.history['loss']\n",
    "val_loss = history2.history['val_loss']\n",
    "\n",
    "epochs = range(1, len(acc) + 1)\n",
    "\n",
    "plt.plot(epochs, acc, 'bo', label='Training acc')\n",
    "plt.plot(epochs, val_acc, 'b', label='Validation acc')\n",
    "\n",
    "plt.title('Training and validation accuracy')\n",
    "plt.legend()\n",
    "plt.figure()\n",
    "plt.plot(epochs, loss, 'bo', label='Training loss')\n",
    "plt.plot(epochs, val_loss, 'b', label='Validation loss')\n",
    "plt.title('Training and validation loss')\n",
    "plt.legend()\n",
    "plt.show()"
   ]
  },
  {
   "cell_type": "code",
   "execution_count": 189,
   "metadata": {},
   "outputs": [
    {
     "name": "stdout",
     "output_type": "stream",
     "text": [
      "Found 9583 unique tokens\n",
      "Shape of data tensor: (2284, 30)\n",
      "Shape of label tensor: (2284,)\n"
     ]
    }
   ],
   "source": [
    "# Tokenizing the test data split\n",
    "# word level one-hot encoding\n",
    "test_tokenizer = Tokenizer(num_words=vocab_size, lower=False)\n",
    "test_tokenizer.fit_on_texts(cleaned_test_text)\n",
    "test_sequences = test_tokenizer.texts_to_sequences(cleaned_test_text)\n",
    "test_one_hot_results = test_tokenizer.texts_to_matrix(cleaned_test_text, mode='binary')\n",
    "test_word_index = test_tokenizer.word_index\n",
    "print(f\"Found {len(test_word_index)} unique tokens\")\n",
    "\n",
    "test_data = pad_sequences(test_sequences, maxlen=maxlen)\n",
    "\n",
    "labels_test = np.asarray(labels_test)\n",
    "print('Shape of data tensor:', test_data.shape)\n",
    "print('Shape of label tensor:', labels_test.shape)\n"
   ]
  },
  {
   "cell_type": "code",
   "execution_count": 65,
   "metadata": {},
   "outputs": [
    {
     "name": "stdout",
     "output_type": "stream",
     "text": [
      "Shape of data tensor: (2284, 100)\n"
     ]
    }
   ],
   "source": [
    "#Tokenizing the test data split for hashtags\n",
    "test_tokenizer_hashtags = Tokenizer(num_words=vocab_size, lower=False)\n",
    "test_tokenizer_hashtags.fit_on_texts(hashtags_test)\n",
    "test_sequences_hashtags = test_tokenizer_hashtags.texts_to_sequences(hashtags_test)\n",
    "#test_one_hot_results = test_tokenizer_hashtags.texts_to_matrix(hashtags_test, mode='binary')\n",
    "test_word_index = test_tokenizer_hashtags.word_index\n",
    "#print(f\"Found {len(test_word_index)} unique tokens\")\n",
    "\n",
    "test_data_hashtags = pad_sequences(test_sequences_hashtags, maxlen=maxlen)\n",
    "\n",
    "print('Shape of data tensor:', test_data_hashtags.shape)"
   ]
  },
  {
   "cell_type": "code",
   "execution_count": 66,
   "metadata": {},
   "outputs": [
    {
     "name": "stdout",
     "output_type": "stream",
     "text": [
      "Shape of data tensor: (2284, 100)\n"
     ]
    }
   ],
   "source": [
    "#Tokenizing the test data split for mentions\n",
    "test_tokenizer_mentions = Tokenizer(num_words=vocab_size, lower=False)\n",
    "test_tokenizer_mentions.fit_on_texts(mentions_test)\n",
    "test_sequences_mentions = test_tokenizer_mentions.texts_to_sequences(mentions_test)\n",
    "#test_one_hot_results = test_tokenizer_mentions.texts_to_matrix(mentions_test, mode='binary')\n",
    "test_word_index = test_tokenizer_mentions.word_index\n",
    "#print(f\"Found {len(test_word_index)} unique tokens\")\n",
    "\n",
    "test_data_mentions = pad_sequences(test_sequences_mentions, maxlen=maxlen)\n",
    "\n",
    "print('Shape of data tensor:', test_data_mentions.shape)"
   ]
  },
  {
   "cell_type": "code",
   "execution_count": 200,
   "metadata": {},
   "outputs": [
    {
     "name": "stdout",
     "output_type": "stream",
     "text": [
      "72/72 [==============================] - 0s 3ms/step - loss: 0.6835 - accuracy: 0.5705\n",
      "[0.6835325360298157, 0.5704903602600098]\n",
      "              precision    recall  f1-score   support\n",
      "\n",
      "           0       0.57      1.00      0.73      1303\n",
      "           1       0.00      0.00      0.00       981\n",
      "\n",
      "    accuracy                           0.57      2284\n",
      "   macro avg       0.29      0.50      0.36      2284\n",
      "weighted avg       0.33      0.57      0.41      2284\n",
      "\n"
     ]
    },
    {
     "name": "stderr",
     "output_type": "stream",
     "text": [
      "C:\\Users\\DAVID\\AppData\\Local\\Programs\\Python\\Python39\\lib\\site-packages\\sklearn\\metrics\\_classification.py:1248: UndefinedMetricWarning: Precision and F-score are ill-defined and being set to 0.0 in labels with no predicted samples. Use `zero_division` parameter to control this behavior.\n",
      "  _warn_prf(average, modifier, msg_start, len(result))\n",
      "C:\\Users\\DAVID\\AppData\\Local\\Programs\\Python\\Python39\\lib\\site-packages\\sklearn\\metrics\\_classification.py:1248: UndefinedMetricWarning: Precision and F-score are ill-defined and being set to 0.0 in labels with no predicted samples. Use `zero_division` parameter to control this behavior.\n",
      "  _warn_prf(average, modifier, msg_start, len(result))\n",
      "C:\\Users\\DAVID\\AppData\\Local\\Programs\\Python\\Python39\\lib\\site-packages\\sklearn\\metrics\\_classification.py:1248: UndefinedMetricWarning: Precision and F-score are ill-defined and being set to 0.0 in labels with no predicted samples. Use `zero_division` parameter to control this behavior.\n",
      "  _warn_prf(average, modifier, msg_start, len(result))\n"
     ]
    }
   ],
   "source": [
    "# evaluate the model on the test data\n",
    "#test_evals = model.evaluate([test_data, test_data_hashtags, test_data_mentions], labels_test)\n",
    "test_evals = model.evaluate(test_data, labels_test)\n",
    "print(test_evals)\n",
    "# predict on the test data\n",
    "predictions = model.predict(test_data)\n",
    "predicted_lbls = np.argmax(predictions, axis=1)\n",
    "cr = classification_report(labels_test, predicted_lbls)\n",
    "print(cr)"
   ]
  },
  {
   "cell_type": "code",
   "execution_count": 209,
   "metadata": {},
   "outputs": [
    {
     "name": "stdout",
     "output_type": "stream",
     "text": [
      "72/72 [==============================] - 1s 11ms/step - loss: 0.6838 - accuracy: 0.5705\n",
      "[0.6837522387504578, 0.5704903602600098]\n",
      "              precision    recall  f1-score   support\n",
      "\n",
      "           0       0.57      1.00      0.73      1303\n",
      "           1       0.00      0.00      0.00       981\n",
      "\n",
      "    accuracy                           0.57      2284\n",
      "   macro avg       0.29      0.50      0.36      2284\n",
      "weighted avg       0.33      0.57      0.41      2284\n",
      "\n"
     ]
    },
    {
     "name": "stderr",
     "output_type": "stream",
     "text": [
      "C:\\Users\\DAVID\\AppData\\Local\\Programs\\Python\\Python39\\lib\\site-packages\\sklearn\\metrics\\_classification.py:1248: UndefinedMetricWarning: Precision and F-score are ill-defined and being set to 0.0 in labels with no predicted samples. Use `zero_division` parameter to control this behavior.\n",
      "  _warn_prf(average, modifier, msg_start, len(result))\n",
      "C:\\Users\\DAVID\\AppData\\Local\\Programs\\Python\\Python39\\lib\\site-packages\\sklearn\\metrics\\_classification.py:1248: UndefinedMetricWarning: Precision and F-score are ill-defined and being set to 0.0 in labels with no predicted samples. Use `zero_division` parameter to control this behavior.\n",
      "  _warn_prf(average, modifier, msg_start, len(result))\n",
      "C:\\Users\\DAVID\\AppData\\Local\\Programs\\Python\\Python39\\lib\\site-packages\\sklearn\\metrics\\_classification.py:1248: UndefinedMetricWarning: Precision and F-score are ill-defined and being set to 0.0 in labels with no predicted samples. Use `zero_division` parameter to control this behavior.\n",
      "  _warn_prf(average, modifier, msg_start, len(result))\n"
     ]
    }
   ],
   "source": [
    "# evaluate the model on the test data\n",
    "test_evals = model2.evaluate(test_data, labels_test)\n",
    "print(test_evals)\n",
    "# predict on the test data\n",
    "predictions = model2.predict(test_data)\n",
    "predicted_lbls = np.argmax(predictions, axis=1)\n",
    "cr = classification_report(labels_test, predicted_lbls)\n",
    "print(cr)"
   ]
  },
  {
   "cell_type": "markdown",
   "metadata": {},
   "source": [
    "The following is to create a submission for the Kaggle Competition"
   ]
  },
  {
   "cell_type": "code",
   "execution_count": 38,
   "metadata": {},
   "outputs": [],
   "source": [
    "# create a submission using test data\n",
    "test_data_clean = pd.read_csv(\"test_clean.csv\")\n",
    "cleaned_test_text = list(test_data_clean[\"clean_text\"])\n",
    "test_data_clean = test_data_clean.replace(test_data_clean[test_data_clean['clean_text'].isna()].index, '')\n",
    "print(test_data_clean.shape)\n",
    "cleaned_test_text = list(test_data_clean[\"clean_text\"])\n",
    "nanIndexes = test_data_clean[test_data_clean['clean_text'].isna()].index\n",
    "for i in nanIndexes:\n",
    "    cleaned_test_text[i] = \"\"\n",
    "maxlen = 100\n",
    "max_words = 10000\n",
    "vocab_size = 1000\n",
    "# word level one-hot encoding\n",
    "test_tokenizer = Tokenizer(num_words=vocab_size, lower=False)\n",
    "test_tokenizer.fit_on_texts(cleaned_test_text)\n",
    "test_sequences = test_tokenizer.texts_to_sequences(cleaned_test_text)\n",
    "test_one_hot_results = test_tokenizer.texts_to_matrix(cleaned_test_text, mode='binary')\n",
    "test_word_index = test_tokenizer.word_index\n",
    "#print(f\"Found {len(test_word_index)} unique tokens\")\n",
    "\n",
    "test_data = pad_sequences(test_sequences, maxlen=maxlen)\n",
    "\n",
    "print('Shape of data tensor:', data.shape)\n",
    "\n",
    "predictions = model2.predict(test_data)\n",
    "predictions = list(map(lambda x: 0 if x<0.5 else 1, predictions))\n",
    "\n",
    "\n",
    "res = []\n",
    "for i in test_data_clean.index:\n",
    "    res.append([test_data_clean[\"id\"][i], predictions[i]])\n",
    "predictions_df = pd.DataFrame(res, columns=[\"id\", \"target\"])\n",
    "predictions_df.to_csv(\"./model2predictions.csv\", index=False)\n"
   ]
  }
 ],
 "metadata": {
  "interpreter": {
   "hash": "b5a0d1d8a35cb8b073861edef1310933a8cfd4e1991759f893d7bca481571fcb"
  },
  "kernelspec": {
   "display_name": "Python 3.9.1 64-bit",
   "language": "python",
   "name": "python3"
  },
  "language_info": {
   "codemirror_mode": {
    "name": "ipython",
    "version": 3
   },
   "file_extension": ".py",
   "mimetype": "text/x-python",
   "name": "python",
   "nbconvert_exporter": "python",
   "pygments_lexer": "ipython3",
   "version": "3.9.1"
  },
  "orig_nbformat": 4
 },
 "nbformat": 4,
 "nbformat_minor": 2
}
