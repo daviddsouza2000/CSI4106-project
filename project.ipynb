{
 "cells": [
  {
   "cell_type": "code",
   "execution_count": 1,
   "metadata": {},
   "outputs": [],
   "source": [
    "import pandas as pd\n",
    "import numpy as np\n",
    "from collections import Counter\n",
    "from multiprocessing import cpu_count\n",
    "from joblib import Parallel, delayed\n",
    "from sklearn.feature_extraction.text import CountVectorizer, TfidfVectorizer\n",
    "from sklearn.preprocessing import LabelEncoder\n",
    "from sklearn.model_selection import StratifiedShuffleSplit\n",
    "from sklearn.model_selection import GridSearchCV, StratifiedKFold\n",
    "from sklearn.pipeline import Pipeline\n",
    "from sklearn.metrics import classification_report, confusion_matrix\n",
    "from sklearn.svm import SVC\n",
    "from sklearn.preprocessing import LabelEncoder\n",
    "from sklearn.dummy import DummyClassifier\n",
    "\n",
    "from tensorflow import keras\n",
    "from tensorflow.keras import layers\n",
    "from tensorflow.keras.preprocessing.text import Tokenizer\n",
    "from tensorflow.keras.preprocessing.sequence import pad_sequences\n",
    "from tensorflow.keras.layers.experimental.preprocessing import TextVectorization\n",
    "\n",
    "import matplotlib.pyplot as plt\n",
    "\n",
    "#from nlpretext import Preprocessor\n",
    "#from nlpretext.basic.preprocess import normalize_whitespace, remove_punct, remove_eol_characters, remove_stopwords, \\\n",
    "#   lower_text, remove_accents, remove_multiple_spaces_and_strip_text, replace_numbers, replace_emails, replace_urls\n",
    "#from nlpretext.social.preprocess import remove_mentions, remove_hashtag, remove_emoji\n",
    "\n",
    "# some useful libraries\n",
    "# spacy\n",
    "\n",
    "np.random.seed(42)"
   ]
  },
  {
   "cell_type": "code",
   "execution_count": 2,
   "metadata": {},
   "outputs": [],
   "source": [
    "train_data = pd.read_csv(\"./train.csv\")\n",
    "test_data = pd.read_csv(\"./test.csv\")"
   ]
  },
  {
   "cell_type": "code",
   "execution_count": 3,
   "metadata": {},
   "outputs": [
    {
     "name": "stdout",
     "output_type": "stream",
     "text": [
      "(7613, 5)\n"
     ]
    },
    {
     "data": {
      "text/plain": [
       "'#RockyFire Update => California Hwy. 20 closed in both directions due to Lake County fire - #CAfire #wildfires'"
      ]
     },
     "execution_count": 3,
     "metadata": {},
     "output_type": "execute_result"
    }
   ],
   "source": [
    "print(train_data.shape)\n",
    "train_data[\"text\"][5]"
   ]
  },
  {
   "cell_type": "code",
   "execution_count": 4,
   "metadata": {},
   "outputs": [],
   "source": [
    "# text pre-processing\n",
    "def clean_text(text):\n",
    "    preprocessor = Preprocessor()\n",
    "    preprocessor.pipe(lower_text)\n",
    "    preprocessor.pipe(remove_mentions)\n",
    "    preprocessor.pipe(remove_hashtag)\n",
    "    preprocessor.pipe(remove_emoji)\n",
    "    preprocessor.pipe(remove_eol_characters)\n",
    "    preprocessor.pipe(remove_stopwords, args={'lang': 'en'})\n",
    "    preprocessor.pipe(remove_punct)\n",
    "    preprocessor.pipe(replace_urls)\n",
    "    preprocessor.pipe(replace_emails)\n",
    "    preprocessor.pipe(replace_numbers)\n",
    "    preprocessor.pipe(remove_accents)\n",
    "    preprocessor.pipe(remove_multiple_spaces_and_strip_text)\n",
    "    preprocessor.pipe(normalize_whitespace)\n",
    "\n",
    "    text = preprocessor.run(text)\n",
    "\n",
    "    return text"
   ]
  },
  {
   "cell_type": "code",
   "execution_count": 6,
   "metadata": {},
   "outputs": [
    {
     "name": "stdout",
     "output_type": "stream",
     "text": [
      "   id keyword location                                               text  \\\n",
      "0   1     NaN      NaN  Our Deeds are the Reason of this #earthquake M...   \n",
      "1   4     NaN      NaN             Forest fire near La Ronge Sask. Canada   \n",
      "2   5     NaN      NaN  All residents asked to 'shelter in place' are ...   \n",
      "3   6     NaN      NaN  13,000 people receive #wildfires evacuation or...   \n",
      "4   7     NaN      NaN  Just got sent this photo from Ruby #Alaska as ...   \n",
      "\n",
      "   target                                         clean_text  \n",
      "0       1                         deeds reason allah forgive  \n",
      "1       1                   forest fire la ronge sask canada  \n",
      "2       1  residents asked shelter place notified officer...  \n",
      "3       1  *NUMBER people receive evacuation orders calif...  \n",
      "4       1                      photo ruby smoke pours school  \n"
     ]
    }
   ],
   "source": [
    "train_data['clean_text'] = train_data.text.apply(lambda x: clean_text(x))\n",
    "print(train_data.head())\n",
    "train_data.to_csv('train_clean.csv')"
   ]
  },
  {
   "cell_type": "code",
   "execution_count": 7,
   "metadata": {},
   "outputs": [
    {
     "name": "stdout",
     "output_type": "stream",
     "text": [
      "   id keyword location                                               text  \\\n",
      "0   0     NaN      NaN                 Just happened a terrible car crash   \n",
      "1   2     NaN      NaN  Heard about #earthquake is different cities, s...   \n",
      "2   3     NaN      NaN  there is a forest fire at spot pond, geese are...   \n",
      "3   9     NaN      NaN           Apocalypse lighting. #Spokane #wildfires   \n",
      "4  11     NaN      NaN      Typhoon Soudelor kills 28 in China and Taiwan   \n",
      "\n",
      "                                        clean_text  \n",
      "0                      happened terrible car crash  \n",
      "1                           heard cities stay safe  \n",
      "2  forest fire spot pond geese fleeing street save  \n",
      "3                              apocalypse lighting  \n",
      "4       typhoon soudelor kills NUMBER china taiwan  \n"
     ]
    }
   ],
   "source": [
    "# RUN THIS TO CLEAN TEST DATA\n",
    "test_data['clean_text'] = test_data.text.apply(lambda x: clean_text(x))\n",
    "print(test_data.head())\n",
    "test_data.to_csv('test_clean.csv')"
   ]
  },
  {
   "cell_type": "code",
   "execution_count": 7,
   "metadata": {},
   "outputs": [],
   "source": [
    "train_data_clean = pd.read_csv(\"./train_clean.csv\")"
   ]
  },
  {
   "cell_type": "code",
   "execution_count": 8,
   "metadata": {},
   "outputs": [
    {
     "data": {
      "text/plain": [
       "(7613, 7)"
      ]
     },
     "execution_count": 8,
     "metadata": {},
     "output_type": "execute_result"
    }
   ],
   "source": [
    "train_data_clean.shape"
   ]
  },
  {
   "cell_type": "code",
   "execution_count": 9,
   "metadata": {},
   "outputs": [
    {
     "name": "stdout",
     "output_type": "stream",
     "text": [
      "(7607, 7)\n"
     ]
    }
   ],
   "source": [
    "train_data_clean = train_data_clean.drop(train_data_clean[train_data_clean['clean_text'].isna()].index)\n",
    "print(train_data_clean.shape)"
   ]
  },
  {
   "cell_type": "code",
   "execution_count": 10,
   "metadata": {},
   "outputs": [],
   "source": [
    "cleaned_train_text = list(train_data_clean[\"clean_text\"])"
   ]
  },
  {
   "cell_type": "code",
   "execution_count": 11,
   "metadata": {},
   "outputs": [],
   "source": [
    "labels = list(train_data_clean[\"target\"])"
   ]
  },
  {
   "cell_type": "code",
   "execution_count": 12,
   "metadata": {},
   "outputs": [
    {
     "name": "stdout",
     "output_type": "stream",
     "text": [
      "Found 17597 unique tokens\n",
      "Shape of data tensor: (7607, 100)\n",
      "Shape of label tensor: (7607,)\n"
     ]
    }
   ],
   "source": [
    "maxlen = 100\n",
    "training_samples = 200\n",
    "validation_samples = 10000\n",
    "max_words = 10000\n",
    "vocab_size = 1000\n",
    "# word level one-hot encoding\n",
    "tokenizer = Tokenizer(num_words=vocab_size)\n",
    "tokenizer.fit_on_texts(cleaned_train_text)\n",
    "sequences = tokenizer.texts_to_sequences(cleaned_train_text)\n",
    "one_hot_results = tokenizer.texts_to_matrix(cleaned_train_text, mode='binary')\n",
    "word_index = tokenizer.word_index\n",
    "print(f\"Found {len(word_index)} unique tokens\")\n",
    "\n",
    "data = pad_sequences(sequences, maxlen=maxlen)\n",
    "\n",
    "labels = np.asarray(labels)\n",
    "print('Shape of data tensor:', data.shape)\n",
    "print('Shape of label tensor:', labels.shape)\n"
   ]
  },
  {
   "cell_type": "code",
   "execution_count": 13,
   "metadata": {},
   "outputs": [
    {
     "name": "stdout",
     "output_type": "stream",
     "text": [
      "Epoch 1/5\n",
      "84/84 [==============================] - 25s 215ms/step - loss: 0.7515 - accuracy: 0.6514 - val_loss: 0.6413 - val_accuracy: 0.7192\n",
      "Epoch 2/5\n",
      "84/84 [==============================] - 15s 183ms/step - loss: 0.4682 - accuracy: 0.7947 - val_loss: 0.5399 - val_accuracy: 0.7455\n",
      "Epoch 3/5\n",
      "84/84 [==============================] - 15s 182ms/step - loss: 0.4221 - accuracy: 0.8182 - val_loss: 0.5626 - val_accuracy: 0.7227\n",
      "Epoch 4/5\n",
      "84/84 [==============================] - 16s 194ms/step - loss: 0.3949 - accuracy: 0.8295 - val_loss: 0.5188 - val_accuracy: 0.7372\n",
      "Epoch 5/5\n",
      "84/84 [==============================] - 16s 185ms/step - loss: 0.3689 - accuracy: 0.8437 - val_loss: 0.5535 - val_accuracy: 0.7403\n"
     ]
    },
    {
     "data": {
      "text/plain": [
       "<keras.callbacks.History at 0x240e9717d30>"
      ]
     },
     "execution_count": 13,
     "metadata": {},
     "output_type": "execute_result"
    }
   ],
   "source": [
    "# model taken from notes\n",
    "inputs = keras.Input(shape=(None,))\n",
    "embed_layer = keras.layers.Embedding(\n",
    "        input_dim=vocab_size,\n",
    "        output_dim=300,\n",
    "        mask_zero=True\n",
    "    )(inputs)\n",
    "x = keras.layers.Bidirectional(keras.layers.LSTM(64))(embed_layer)\n",
    "x = keras.layers.Dense(64, activation='relu')(x)\n",
    "outputs = keras.layers.Dense(units=5, activation='softmax')(x)\n",
    "\n",
    "model = keras.Model(inputs, outputs)\n",
    "\n",
    "model.compile(optimizer=\"rmsprop\", loss=\"sparse_categorical_crossentropy\", metrics=\"accuracy\")\n",
    "\n",
    "model.fit(data, labels, validation_split=0.3, epochs=5, batch_size=64)"
   ]
  },
  {
   "cell_type": "code",
   "execution_count": 14,
   "metadata": {},
   "outputs": [
    {
     "name": "stdout",
     "output_type": "stream",
     "text": [
      "Epoch 1/5\n",
      "84/84 [==============================] - 3s 21ms/step - loss: 0.6193 - accuracy: 0.6619 - val_loss: 0.5817 - val_accuracy: 0.6978\n",
      "Epoch 2/5\n",
      "84/84 [==============================] - 2s 21ms/step - loss: 0.5209 - accuracy: 0.7554 - val_loss: 0.5152 - val_accuracy: 0.7455\n",
      "Epoch 3/5\n",
      "84/84 [==============================] - 2s 19ms/step - loss: 0.4525 - accuracy: 0.7960 - val_loss: 0.5038 - val_accuracy: 0.7582\n",
      "Epoch 4/5\n",
      "84/84 [==============================] - 2s 20ms/step - loss: 0.4008 - accuracy: 0.8244 - val_loss: 0.5933 - val_accuracy: 0.6837\n",
      "Epoch 5/5\n",
      "84/84 [==============================] - 2s 19ms/step - loss: 0.3581 - accuracy: 0.8473 - val_loss: 0.5516 - val_accuracy: 0.7547\n"
     ]
    }
   ],
   "source": [
    "# trying recurrent layer\n",
    "model2 = keras.models.Sequential()\n",
    "model2.add(layers.Embedding(max_words, 32))\n",
    "model2.add(layers.SimpleRNN(32))\n",
    "model2.add(layers.Dense(1, activation='sigmoid'))\n",
    "model2.compile(optimizer='rmsprop', loss='binary_crossentropy', metrics=\"accuracy\")\n",
    "history = model2.fit(data, labels, validation_split=0.3, epochs=5, batch_size=64)"
   ]
  },
  {
   "cell_type": "code",
   "execution_count": 15,
   "metadata": {},
   "outputs": [
    {
     "data": {
      "image/png": "[encoded data removed]",
      "text/plain": [
       "<Figure size 432x288 with 1 Axes>"
      ]
     },
     "metadata": {
      "needs_background": "light"
     },
     "output_type": "display_data"
    },
    {
     "data": {
      "image/png": "[encoded data removed]",
      "text/plain": [
       "<Figure size 432x288 with 1 Axes>"
      ]
     },
     "metadata": {
      "needs_background": "light"
     },
     "output_type": "display_data"
    }
   ],
   "source": [
    "# plotting the model fit\n",
    "acc = history.history['accuracy']\n",
    "val_acc = history.history['val_accuracy']\n",
    "loss = history.history['loss']\n",
    "val_loss = history.history['val_loss']\n",
    "\n",
    "epochs = range(1, len(acc) + 1)\n",
    "\n",
    "plt.plot(epochs, acc, 'bo', label='Training acc')\n",
    "plt.plot(epochs, val_acc, 'b', label='Validation acc')\n",
    "\n",
    "plt.title('Training and validation accuracy')\n",
    "plt.legend()\n",
    "plt.figure()\n",
    "plt.plot(epochs, loss, 'bo', label='Training loss')\n",
    "plt.plot(epochs, val_loss, 'b', label='Validation loss')\n",
    "plt.title('Training and validation loss')\n",
    "plt.legend()\n",
    "plt.show()"
   ]
  },
  {
   "cell_type": "code",
   "execution_count": 16,
   "metadata": {},
   "outputs": [
    {
     "ename": "NameError",
     "evalue": "name 'test_x_pad' is not defined",
     "output_type": "error",
     "traceback": [
      "\u001b[1;31m---------------------------------------------------------------------------\u001b[0m",
      "\u001b[1;31mNameError\u001b[0m                                 Traceback (most recent call last)",
      "\u001b[1;32m<ipython-input-16-4ab624659298>\u001b[0m in \u001b[0;36m<module>\u001b[1;34m\u001b[0m\n\u001b[0;32m      1\u001b[0m \u001b[1;31m# before running this, need to clean the test today\u001b[0m\u001b[1;33m\u001b[0m\u001b[1;33m\u001b[0m\u001b[1;33m\u001b[0m\u001b[0m\n\u001b[0;32m      2\u001b[0m \u001b[1;31m# evaluate the model on the test data\u001b[0m\u001b[1;33m\u001b[0m\u001b[1;33m\u001b[0m\u001b[1;33m\u001b[0m\u001b[0m\n\u001b[1;32m----> 3\u001b[1;33m \u001b[0mtest_evals\u001b[0m \u001b[1;33m=\u001b[0m \u001b[0mmodel\u001b[0m\u001b[1;33m.\u001b[0m\u001b[0mevaluate\u001b[0m\u001b[1;33m(\u001b[0m\u001b[0mtest_x_pad\u001b[0m\u001b[1;33m,\u001b[0m \u001b[0mtest_y\u001b[0m\u001b[1;33m)\u001b[0m\u001b[1;33m\u001b[0m\u001b[1;33m\u001b[0m\u001b[0m\n\u001b[0m\u001b[0;32m      4\u001b[0m \u001b[0mprint\u001b[0m\u001b[1;33m(\u001b[0m\u001b[0mtest_evals\u001b[0m\u001b[1;33m)\u001b[0m\u001b[1;33m\u001b[0m\u001b[1;33m\u001b[0m\u001b[0m\n\u001b[0;32m      5\u001b[0m \u001b[1;31m# predict on the test data\u001b[0m\u001b[1;33m\u001b[0m\u001b[1;33m\u001b[0m\u001b[1;33m\u001b[0m\u001b[0m\n",
      "\u001b[1;31mNameError\u001b[0m: name 'test_x_pad' is not defined"
     ]
    }
   ],
   "source": [
    "# before running this, need to clean the test today\n",
    "# evaluate the model on the test data\n",
    "test_evals = model.evaluate(test_x_pad, test_y)\n",
    "print(test_evals)\n",
    "# predict on the test data\n",
    "predictions = model.predict(test_x_pad)\n",
    "predicted_lbls = np.argmax(predictions, axis=1)\n",
    "cr = classification_report(test_y, predicted_lbls)\n",
    "print(cr)"
   ]
  },
  {
   "cell_type": "code",
   "execution_count": 17,
   "metadata": {},
   "outputs": [
    {
     "name": "stdout",
     "output_type": "stream",
     "text": [
      "Epoch 1/5\n",
      "84/84 [==============================] - 2s 20ms/step - loss: 0.3377 - accuracy: 0.8586 - val_loss: 0.5833 - val_accuracy: 0.7254\n",
      "Epoch 2/5\n",
      "84/84 [==============================] - 2s 19ms/step - loss: 0.3101 - accuracy: 0.8693 - val_loss: 0.5562 - val_accuracy: 0.7459\n",
      "Epoch 3/5\n",
      "84/84 [==============================] - 2s 19ms/step - loss: 0.2847 - accuracy: 0.8888 - val_loss: 0.6189 - val_accuracy: 0.7394\n",
      "Epoch 4/5\n",
      "84/84 [==============================] - 2s 19ms/step - loss: 0.2647 - accuracy: 0.8958 - val_loss: 0.6165 - val_accuracy: 0.7411\n",
      "Epoch 5/5\n",
      "84/84 [==============================] - 2s 20ms/step - loss: 0.2478 - accuracy: 0.9033 - val_loss: 0.6394 - val_accuracy: 0.7442\n"
     ]
    }
   ],
   "source": [
    "# using LSTM layer\n",
    "model3 = keras.models.Sequential()\n",
    "model3.add(layers.Embedding(max_words, 32))\n",
    "model3.add(layers.LSTM(32))\n",
    "model3.add(layers.Dense(1, activation='sigmoid'))\n",
    "model3.compile(optimizer='rmsprop', loss='binary_crossentropy', metrics=\"accuracy\")\n",
    "history2 = model2.fit(data, labels, validation_split=0.3, epochs=5, batch_size=64)"
   ]
  },
  {
   "cell_type": "code",
   "execution_count": 18,
   "metadata": {},
   "outputs": [
    {
     "data": {
      "image/png": "[encoded data removed]",
      "text/plain": [
       "<Figure size 432x288 with 1 Axes>"
      ]
     },
     "metadata": {
      "needs_background": "light"
     },
     "output_type": "display_data"
    },
    {
     "data": {
      "image/png": "[encoded data removed]",
      "text/plain": [
       "<Figure size 432x288 with 1 Axes>"
      ]
     },
     "metadata": {
      "needs_background": "light"
     },
     "output_type": "display_data"
    }
   ],
   "source": [
    "# plotting the model fit\n",
    "acc = history2.history['accuracy']\n",
    "val_acc = history2.history['val_accuracy']\n",
    "loss = history2.history['loss']\n",
    "val_loss = history2.history['val_loss']\n",
    "\n",
    "epochs = range(1, len(acc) + 1)\n",
    "\n",
    "plt.plot(epochs, acc, 'bo', label='Training acc')\n",
    "plt.plot(epochs, val_acc, 'b', label='Validation acc')\n",
    "\n",
    "plt.title('Training and validation accuracy')\n",
    "plt.legend()\n",
    "plt.figure()\n",
    "plt.plot(epochs, loss, 'bo', label='Training loss')\n",
    "plt.plot(epochs, val_loss, 'b', label='Validation loss')\n",
    "plt.title('Training and validation loss')\n",
    "plt.legend()\n",
    "plt.show()"
   ]
  },
  {
   "cell_type": "code",
   "execution_count": 38,
   "metadata": {},
   "outputs": [],
   "source": [
    "# create a submission using test data\n",
    "test_data_clean = pd.read_csv(\"test_clean.csv\")\n",
    "cleaned_test_text = list(test_data_clean[\"clean_text\"])\n",
    "test_data_clean = test_data_clean.replace(test_data_clean[test_data_clean['clean_text'].isna()].index, '')\n",
    "print(test_data_clean.shape)\n",
    "cleaned_test_text = list(test_data_clean[\"clean_text\"])\n",
    "nanIndexes = test_data_clean[test_data_clean['clean_text'].isna()].index\n",
    "for i in nanIndexes:\n",
    "    cleaned_test_text[i] = \"\"\n",
    "maxlen = 100\n",
    "max_words = 10000\n",
    "vocab_size = 1000\n",
    "# word level one-hot encoding\n",
    "test_tokenizer = Tokenizer(num_words=vocab_size, lower=False)\n",
    "test_tokenizer.fit_on_texts(cleaned_test_text)\n",
    "test_sequences = test_tokenizer.texts_to_sequences(cleaned_test_text)\n",
    "test_one_hot_results = test_tokenizer.texts_to_matrix(cleaned_test_text, mode='binary')\n",
    "test_word_index = test_tokenizer.word_index\n",
    "#print(f\"Found {len(test_word_index)} unique tokens\")\n",
    "\n",
    "test_data = pad_sequences(test_sequences, maxlen=maxlen)\n",
    "\n",
    "print('Shape of data tensor:', data.shape)\n",
    "\n",
    "predictions = model2.predict(test_data)\n",
    "predictions = list(map(lambda x: 0 if x<0.5 else 1, predictions))\n",
    "\n",
    "\n",
    "res = []\n",
    "for i in test_data_clean.index:\n",
    "    res.append([test_data_clean[\"id\"][i], predictions[i]])\n",
    "predictions_df = pd.DataFrame(res, columns=[\"id\", \"target\"])\n",
    "predictions_df.to_csv(\"./model2predictions.csv\", index=False)\n"
   ]
  }
 ],
 "metadata": {
  "interpreter": {
   "hash": "b5a0d1d8a35cb8b073861edef1310933a8cfd4e1991759f893d7bca481571fcb"
  },
  "kernelspec": {
   "display_name": "Python 3.9.1 64-bit",
   "language": "python",
   "name": "python3"
  },
  "language_info": {
   "codemirror_mode": {
    "name": "ipython",
    "version": 3
   },
   "file_extension": ".py",
   "mimetype": "text/x-python",
   "name": "python",
   "nbconvert_exporter": "python",
   "pygments_lexer": "ipython3",
   "version": "3.9.1"
  },
  "orig_nbformat": 4
 },
 "nbformat": 4,
 "nbformat_minor": 2
}
