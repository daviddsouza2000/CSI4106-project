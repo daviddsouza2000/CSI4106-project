{
 "cells": [
  {
   "cell_type": "code",
   "execution_count": 50,
   "metadata": {},
   "outputs": [],
   "source": [
    "import pandas as pd\n",
    "import numpy as np\n",
    "from collections import Counter\n",
    "from multiprocessing import cpu_count\n",
    "from joblib import Parallel, delayed\n",
    "from sklearn.feature_extraction.text import CountVectorizer, TfidfVectorizer\n",
    "from sklearn.preprocessing import LabelEncoder\n",
    "from sklearn.model_selection import StratifiedShuffleSplit\n",
    "from sklearn.model_selection import GridSearchCV, StratifiedKFold\n",
    "from sklearn.pipeline import Pipeline\n",
    "from sklearn.metrics import classification_report, confusion_matrix\n",
    "from sklearn.svm import SVC\n",
    "from sklearn.preprocessing import LabelEncoder\n",
    "from sklearn.dummy import DummyClassifier\n",
    "\n",
    "from tensorflow import keras\n",
    "from tensorflow.keras import layers\n",
    "from tensorflow.keras.preprocessing.text import Tokenizer\n",
    "from tensorflow.keras.preprocessing.sequence import pad_sequences\n",
    "from tensorflow.keras.layers.experimental.preprocessing import TextVectorization\n",
    "\n",
    "import matplotlib.pyplot as plt\n",
    "\n",
    "#from nlpretext import Preprocessor\n",
    "#from nlpretext.basic.preprocess import normalize_whitespace, remove_punct, remove_eol_characters, remove_stopwords, \\\n",
    "#   lower_text, remove_accents, remove_multiple_spaces_and_strip_text, replace_numbers, replace_emails, replace_urls\n",
    "#from nlpretext.social.preprocess import remove_mentions, remove_hashtag, remove_emoji\n",
    "\n",
    "# some useful libraries\n",
    "# spacy\n",
    "\n",
    "np.random.seed(42)"
   ]
  },
  {
   "cell_type": "code",
   "execution_count": 3,
   "metadata": {},
   "outputs": [],
   "source": [
    "train_data = pd.read_csv(\"./train.csv\")\n",
    "test_data = pd.read_csv(\"./test.csv\")"
   ]
  },
  {
   "cell_type": "code",
   "execution_count": 4,
   "metadata": {},
   "outputs": [
    {
     "name": "stdout",
     "output_type": "stream",
     "text": [
      "(7613, 5)\n"
     ]
    },
    {
     "data": {
      "text/plain": [
       "'#RockyFire Update => California Hwy. 20 closed in both directions due to Lake County fire - #CAfire #wildfires'"
      ]
     },
     "execution_count": 4,
     "metadata": {},
     "output_type": "execute_result"
    }
   ],
   "source": [
    "print(train_data.shape)\n",
    "train_data[\"text\"][5]"
   ]
  },
  {
   "cell_type": "code",
   "execution_count": 4,
   "metadata": {},
   "outputs": [],
   "source": [
    "# text pre-processing\n",
    "def clean_text(text):\n",
    "    preprocessor = Preprocessor()\n",
    "    preprocessor.pipe(lower_text)\n",
    "    preprocessor.pipe(remove_mentions)\n",
    "    preprocessor.pipe(remove_hashtag)\n",
    "    preprocessor.pipe(remove_emoji)\n",
    "    preprocessor.pipe(remove_eol_characters)\n",
    "    preprocessor.pipe(remove_stopwords, args={'lang': 'en'})\n",
    "    preprocessor.pipe(remove_punct)\n",
    "    preprocessor.pipe(replace_urls)\n",
    "    preprocessor.pipe(replace_emails)\n",
    "    preprocessor.pipe(replace_numbers)\n",
    "    preprocessor.pipe(remove_accents)\n",
    "    preprocessor.pipe(remove_multiple_spaces_and_strip_text)\n",
    "    preprocessor.pipe(normalize_whitespace)\n",
    "\n",
    "    text = preprocessor.run(text)\n",
    "\n",
    "    return text"
   ]
  },
  {
   "cell_type": "code",
   "execution_count": 6,
   "metadata": {},
   "outputs": [
    {
     "name": "stdout",
     "output_type": "stream",
     "text": [
      "   id keyword location                                               text  \\\n",
      "0   1     NaN      NaN  Our Deeds are the Reason of this #earthquake M...   \n",
      "1   4     NaN      NaN             Forest fire near La Ronge Sask. Canada   \n",
      "2   5     NaN      NaN  All residents asked to 'shelter in place' are ...   \n",
      "3   6     NaN      NaN  13,000 people receive #wildfires evacuation or...   \n",
      "4   7     NaN      NaN  Just got sent this photo from Ruby #Alaska as ...   \n",
      "\n",
      "   target                                         clean_text  \n",
      "0       1                         deeds reason allah forgive  \n",
      "1       1                   forest fire la ronge sask canada  \n",
      "2       1  residents asked shelter place notified officer...  \n",
      "3       1  *NUMBER people receive evacuation orders calif...  \n",
      "4       1                      photo ruby smoke pours school  \n"
     ]
    }
   ],
   "source": [
    "train_data['clean_text'] = train_data.text.apply(lambda x: clean_text(x))\n",
    "print(train_data.head())\n",
    "train_data.to_csv('train_clean.csv')"
   ]
  },
  {
   "cell_type": "code",
   "execution_count": 28,
   "metadata": {},
   "outputs": [],
   "source": [
    "train_data_clean = pd.read_csv(\"./train_clean.csv\")\n",
    "cleaned_train_text = list(train_data_clean[\"clean_text\"])"
   ]
  },
  {
   "cell_type": "code",
   "execution_count": 29,
   "metadata": {},
   "outputs": [
    {
     "data": {
      "text/plain": [
       "(7613, 7)"
      ]
     },
     "execution_count": 29,
     "metadata": {},
     "output_type": "execute_result"
    }
   ],
   "source": [
    "train_data_clean.shape"
   ]
  },
  {
   "cell_type": "code",
   "execution_count": 30,
   "metadata": {},
   "outputs": [
    {
     "data": {
      "text/plain": [
       "Int64Index([832, 1664, 3680, 4297, 4891, 5564], dtype='int64')"
      ]
     },
     "execution_count": 30,
     "metadata": {},
     "output_type": "execute_result"
    }
   ],
   "source": [
    "train_data_clean[train_data_clean['clean_text'].isna()].index\n"
   ]
  },
  {
   "cell_type": "code",
   "execution_count": 31,
   "metadata": {},
   "outputs": [
    {
     "name": "stdout",
     "output_type": "stream",
     "text": [
      "(7607, 7)\n"
     ]
    }
   ],
   "source": [
    "train_data_clean = train_data_clean.drop(train_data_clean[train_data_clean['clean_text'].isna()].index)\n",
    "print(train_data_clean.shape)"
   ]
  },
  {
   "cell_type": "code",
   "execution_count": 33,
   "metadata": {},
   "outputs": [],
   "source": [
    "cleaned_train_text = list(train_data_clean[\"clean_text\"])"
   ]
  },
  {
   "cell_type": "code",
   "execution_count": 34,
   "metadata": {},
   "outputs": [
    {
     "name": "stdout",
     "output_type": "stream",
     "text": [
      "{<class 'str'>}\n"
     ]
    }
   ],
   "source": [
    "d = set()\n",
    "for s in cleaned_train_text:\n",
    "    if type(s) is float:\n",
    "        print(s)\n",
    "    d.add(type(s))\n",
    "print(d)"
   ]
  },
  {
   "cell_type": "code",
   "execution_count": 37,
   "metadata": {},
   "outputs": [],
   "source": [
    "labels = list(train_data_clean[\"target\"])"
   ]
  },
  {
   "cell_type": "code",
   "execution_count": 39,
   "metadata": {},
   "outputs": [
    {
     "name": "stdout",
     "output_type": "stream",
     "text": [
      "Found 17597 unique tokens\n",
      "Shape of data tensor: (7607, 100)\n",
      "Shape of label tensor: (7607,)\n"
     ]
    }
   ],
   "source": [
    "maxlen = 100\n",
    "training_samples = 200\n",
    "validation_samples = 10000\n",
    "max_words = 10000\n",
    "vocab_size = 1000\n",
    "# word level one-hot encoding\n",
    "tokenizer = Tokenizer(num_words=vocab_size)\n",
    "tokenizer.fit_on_texts(cleaned_train_text)\n",
    "sequences = tokenizer.texts_to_sequences(cleaned_train_text)\n",
    "one_hot_results = tokenizer.texts_to_matrix(cleaned_train_text, mode='binary')\n",
    "word_index = tokenizer.word_index\n",
    "print(f\"Found {len(word_index)} unique tokens\")\n",
    "\n",
    "data = pad_sequences(sequences, maxlen=maxlen)\n",
    "\n",
    "labels = np.asarray(labels)\n",
    "print('Shape of data tensor:', data.shape)\n",
    "print('Shape of label tensor:', labels.shape)\n"
   ]
  },
  {
   "cell_type": "code",
   "execution_count": 40,
   "metadata": {},
   "outputs": [
    {
     "name": "stdout",
     "output_type": "stream",
     "text": [
      "Epoch 1/5\n",
      "84/84 [==============================] - 20s 173ms/step - loss: 0.7227 - accuracy: 0.6634 - val_loss: 0.5804 - val_accuracy: 0.7179\n",
      "Epoch 2/5\n",
      "84/84 [==============================] - 13s 155ms/step - loss: 0.4619 - accuracy: 0.7964 - val_loss: 0.5434 - val_accuracy: 0.7376\n",
      "Epoch 3/5\n",
      "84/84 [==============================] - 13s 159ms/step - loss: 0.4189 - accuracy: 0.8157 - val_loss: 0.5266 - val_accuracy: 0.7416\n",
      "Epoch 4/5\n",
      "84/84 [==============================] - 13s 151ms/step - loss: 0.3955 - accuracy: 0.8293 - val_loss: 0.5600 - val_accuracy: 0.7162\n",
      "Epoch 5/5\n",
      "84/84 [==============================] - 13s 153ms/step - loss: 0.3723 - accuracy: 0.8415 - val_loss: 0.5586 - val_accuracy: 0.7332\n"
     ]
    },
    {
     "data": {
      "text/plain": [
       "<keras.callbacks.History at 0x1a2f2816b80>"
      ]
     },
     "execution_count": 40,
     "metadata": {},
     "output_type": "execute_result"
    }
   ],
   "source": [
    "# model taken from notes\n",
    "inputs = keras.Input(shape=(None,))\n",
    "embed_layer = keras.layers.Embedding(\n",
    "        input_dim=vocab_size,\n",
    "        output_dim=300,\n",
    "        mask_zero=True\n",
    "    )(inputs)\n",
    "x = keras.layers.Bidirectional(keras.layers.LSTM(64))(embed_layer)\n",
    "x = keras.layers.Dense(64, activation='relu')(x)\n",
    "outputs = keras.layers.Dense(units=5, activation='softmax')(x)\n",
    "\n",
    "model = keras.Model(inputs, outputs)\n",
    "\n",
    "model.compile(optimizer=\"rmsprop\", loss=\"sparse_categorical_crossentropy\", metrics=\"accuracy\")\n",
    "\n",
    "model.fit(data, labels, validation_split=0.3, epochs=5, batch_size=64)"
   ]
  },
  {
   "cell_type": "code",
   "execution_count": 45,
   "metadata": {},
   "outputs": [
    {
     "name": "stdout",
     "output_type": "stream",
     "text": [
      "Epoch 1/5\n",
      "84/84 [==============================] - 2s 20ms/step - loss: 0.6415 - accuracy: 0.6319 - val_loss: 0.5880 - val_accuracy: 0.7109\n",
      "Epoch 2/5\n",
      "84/84 [==============================] - 2s 18ms/step - loss: 0.5290 - accuracy: 0.7545 - val_loss: 0.5893 - val_accuracy: 0.6956\n",
      "Epoch 3/5\n",
      "84/84 [==============================] - 2s 20ms/step - loss: 0.4676 - accuracy: 0.7821 - val_loss: 0.5226 - val_accuracy: 0.7503\n",
      "Epoch 4/5\n",
      "84/84 [==============================] - 2s 20ms/step - loss: 0.3996 - accuracy: 0.8197 - val_loss: 0.5108 - val_accuracy: 0.7551\n",
      "Epoch 5/5\n",
      "84/84 [==============================] - 2s 20ms/step - loss: 0.3655 - accuracy: 0.8372 - val_loss: 0.5172 - val_accuracy: 0.7569\n"
     ]
    }
   ],
   "source": [
    "# trying recurrent layer\n",
    "model2 = keras.models.Sequential()\n",
    "model2.add(layers.Embedding(max_words, 32))\n",
    "model2.add(layers.SimpleRNN(32))\n",
    "model2.add(layers.Dense(1, activation='sigmoid'))\n",
    "model2.compile(optimizer='rmsprop', loss='binary_crossentropy', metrics=\"accuracy\")\n",
    "history = model2.fit(data, labels, validation_split=0.3, epochs=5, batch_size=64)"
   ]
  },
  {
   "cell_type": "code",
   "execution_count": 51,
   "metadata": {},
   "outputs": [
    {
     "data": {
      "image/png": "[encoded data removed]",
      "text/plain": [
       "<Figure size 432x288 with 1 Axes>"
      ]
     },
     "metadata": {
      "needs_background": "light"
     },
     "output_type": "display_data"
    },
    {
     "data": {
      "image/png": "[encoded data removed]",
      "text/plain": [
       "<Figure size 432x288 with 1 Axes>"
      ]
     },
     "metadata": {
      "needs_background": "light"
     },
     "output_type": "display_data"
    }
   ],
   "source": [
    "# plotting the model fit\n",
    "acc = history.history['accuracy']\n",
    "val_acc = history.history['val_accuracy']\n",
    "loss = history.history['loss']\n",
    "val_loss = history.history['val_loss']\n",
    "\n",
    "epochs = range(1, len(acc) + 1)\n",
    "\n",
    "plt.plot(epochs, acc, 'bo', label='Training acc')\n",
    "plt.plot(epochs, val_acc, 'b', label='Validation acc')\n",
    "\n",
    "plt.title('Training and validation accuracy')\n",
    "plt.legend()\n",
    "plt.figure()\n",
    "plt.plot(epochs, loss, 'bo', label='Training loss')\n",
    "plt.plot(epochs, val_loss, 'b', label='Validation loss')\n",
    "plt.title('Training and validation loss')\n",
    "plt.legend()\n",
    "plt.show()"
   ]
  },
  {
   "cell_type": "code",
   "execution_count": null,
   "metadata": {},
   "outputs": [],
   "source": [
    "# before running this, need to clean the test today\n",
    "# evaluate the model on the test data\n",
    "test_evals = model.evaluate(test_x_pad, test_y)\n",
    "print(test_evals)\n",
    "# predict on the test data\n",
    "predictions = model.predict(test_x_pad)\n",
    "predicted_lbls = np.argmax(predictions, axis=1)\n",
    "cr = classification_report(test_y, predicted_lbls)\n",
    "print(cr)"
   ]
  }
 ],
 "metadata": {
  "interpreter": {
   "hash": "b5a0d1d8a35cb8b073861edef1310933a8cfd4e1991759f893d7bca481571fcb"
  },
  "kernelspec": {
   "display_name": "Python 3.9.1 64-bit",
   "language": "python",
   "name": "python3"
  },
  "language_info": {
   "codemirror_mode": {
    "name": "ipython",
    "version": 3
   },
   "file_extension": ".py",
   "mimetype": "text/x-python",
   "name": "python",
   "nbconvert_exporter": "python",
   "pygments_lexer": "ipython3",
   "version": "3.9.1"
  },
  "orig_nbformat": 4
 },
 "nbformat": 4,
 "nbformat_minor": 2
}
