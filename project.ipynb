{
 "cells": [
  {
   "cell_type": "code",
   "execution_count": 1,
   "metadata": {},
   "outputs": [],
   "source": [
    "import pandas as pd\n",
    "import numpy as np\n",
    "from collections import Counter\n",
    "from multiprocessing import cpu_count\n",
    "from joblib import Parallel, delayed\n",
    "from sklearn.feature_extraction.text import CountVectorizer, TfidfVectorizer\n",
    "from sklearn.preprocessing import LabelEncoder\n",
    "from sklearn.model_selection import StratifiedShuffleSplit\n",
    "from sklearn.model_selection import GridSearchCV, StratifiedKFold\n",
    "from sklearn.pipeline import Pipeline\n",
    "from sklearn.metrics import classification_report, confusion_matrix\n",
    "from sklearn.svm import SVC\n",
    "from sklearn.preprocessing import LabelEncoder\n",
    "from sklearn.dummy import DummyClassifier\n",
    "\n",
    "from tensorflow import keras\n",
    "from tensorflow.keras import layers\n",
    "from tensorflow.keras.preprocessing.text import Tokenizer\n",
    "from tensorflow.keras.preprocessing.sequence import pad_sequences\n",
    "from tensorflow.keras.layers.experimental.preprocessing import TextVectorization\n",
    "\n",
    "import matplotlib.pyplot as plt\n",
    "\n",
    "#from nlpretext import Preprocessor\n",
    "#from nlpretext.basic.preprocess import normalize_whitespace, remove_punct, remove_eol_characters, remove_stopwords, \\\n",
    "#   lower_text, remove_accents, remove_multiple_spaces_and_strip_text, replace_numbers, replace_emails, replace_urls\n",
    "#from nlpretext.social.preprocess import remove_mentions, remove_hashtag, remove_emoji\n",
    "\n",
    "# some useful libraries\n",
    "# spacy\n",
    "\n",
    "np.random.seed(42)"
   ]
  },
  {
   "cell_type": "code",
   "execution_count": 2,
   "metadata": {},
   "outputs": [],
   "source": [
    "train_data = pd.read_csv(\"./train.csv\")\n",
    "test_data = pd.read_csv(\"./test.csv\")"
   ]
  },
  {
   "cell_type": "code",
   "execution_count": 5,
   "metadata": {},
   "outputs": [
    {
     "name": "stdout",
     "output_type": "stream",
     "text": [
      "(7613, 5)\n",
      "#RockyFire Update => California Hwy. 20 closed in both directions due to Lake County fire - #CAfire #wildfires\n",
      "1\n"
     ]
    }
   ],
   "source": [
    "print(train_data.shape)\n",
    "print(train_data[\"text\"][5])\n",
    "print(train_data[\"target\"][5])"
   ]
  },
  {
   "cell_type": "code",
   "execution_count": 4,
   "metadata": {},
   "outputs": [],
   "source": [
    "# text pre-processing\n",
    "def clean_text(text):\n",
    "    preprocessor = Preprocessor()\n",
    "    preprocessor.pipe(lower_text)\n",
    "    preprocessor.pipe(remove_mentions)\n",
    "    preprocessor.pipe(remove_hashtag)\n",
    "    preprocessor.pipe(remove_emoji)\n",
    "    preprocessor.pipe(remove_eol_characters)\n",
    "    preprocessor.pipe(remove_stopwords, args={'lang': 'en'})\n",
    "    preprocessor.pipe(remove_punct)\n",
    "    preprocessor.pipe(replace_urls)\n",
    "    preprocessor.pipe(replace_emails)\n",
    "    preprocessor.pipe(replace_numbers)\n",
    "    preprocessor.pipe(remove_accents)\n",
    "    preprocessor.pipe(remove_multiple_spaces_and_strip_text)\n",
    "    preprocessor.pipe(normalize_whitespace)\n",
    "\n",
    "    text = preprocessor.run(text)\n",
    "\n",
    "    return text"
   ]
  },
  {
   "cell_type": "code",
   "execution_count": null,
   "metadata": {},
   "outputs": [],
   "source": [
    "# clean train data and save it to a csv\n",
    "train_data['clean_text'] = train_data.text.apply(lambda x: clean_text(x))\n",
    "train_data.to_csv('train_clean.csv')"
   ]
  },
  {
   "cell_type": "code",
   "execution_count": null,
   "metadata": {},
   "outputs": [],
   "source": [
    "# clean test data and save it to a csv\n",
    "test_data['clean_text'] = test_data.text.apply(lambda x: clean_text(x))\n",
    "test_data.to_csv('test_clean.csv')"
   ]
  },
  {
   "cell_type": "code",
   "execution_count": 9,
   "metadata": {},
   "outputs": [
    {
     "name": "stdout",
     "output_type": "stream",
     "text": [
      "(7613, 7)\n"
     ]
    }
   ],
   "source": [
    "df = pd.read_csv(\"./train_clean.csv\")\n",
    "print(df.shape)"
   ]
  },
  {
   "cell_type": "markdown",
   "metadata": {},
   "source": [
    "The test data does not have a target column, so we cannot evaluate our models using the test data. We need to split the first dataset into a test and train dataset."
   ]
  },
  {
   "cell_type": "code",
   "execution_count": 10,
   "metadata": {},
   "outputs": [
    {
     "name": "stdout",
     "output_type": "stream",
     "text": [
      "(5329, 7)\n",
      "(2284, 7)\n",
      "0    0.570276\n",
      "1    0.429724\n",
      "Name: target, dtype: float64\n",
      "0    0.57049\n",
      "1    0.42951\n",
      "Name: target, dtype: float64\n"
     ]
    }
   ],
   "source": [
    "# split the data into train and test set\n",
    "sss = StratifiedShuffleSplit(n_splits=1, test_size=0.3, random_state=42)\n",
    "\n",
    "for train_index, test_index in sss.split(df, df['target']):\n",
    "    df_train = df.loc[train_index]\n",
    "    df_test = df.loc[test_index]\n",
    "\n",
    "print(df_train.shape)\n",
    "print(df_test.shape)\n",
    "print(df_train.target.value_counts()/len(df_train))\n",
    "print(df_test.target.value_counts()/len(df_test))"
   ]
  },
  {
   "cell_type": "code",
   "execution_count": 20,
   "metadata": {},
   "outputs": [],
   "source": [
    "# reset indexes\n",
    "df_train = df_train.reset_index()\n",
    "df_test = df_test.reset_index()"
   ]
  },
  {
   "cell_type": "code",
   "execution_count": 21,
   "metadata": {},
   "outputs": [],
   "source": [
    "cleaned_train_text = list(df_train[\"clean_text\"])\n",
    "labels_train = list(df_train[\"target\"])\n",
    "cleaned_test_text = list(df_test[\"clean_text\"])\n",
    "labels_test = list(df_test[\"target\"])"
   ]
  },
  {
   "cell_type": "code",
   "execution_count": 23,
   "metadata": {},
   "outputs": [],
   "source": [
    "# After cleaning the text, some value are NaN. So, we need to replace these values with an empty string\n",
    "train_nan_indexes = df_train[df_train[\"clean_text\"].isna()].index\n",
    "for i in train_nan_indexes:\n",
    "    cleaned_train_text[i] = \"\"\n",
    "\n",
    "test_nan_indexes = df_test[df_test[\"clean_text\"].isna()].index\n",
    "for i in test_nan_indexes:\n",
    "    cleaned_test_text[i] = \"\""
   ]
  },
  {
   "cell_type": "code",
   "execution_count": 24,
   "metadata": {},
   "outputs": [
    {
     "name": "stdout",
     "output_type": "stream",
     "text": [
      "Found 13924 unique tokens\n",
      "Shape of data tensor: (5329, 100)\n",
      "Shape of label tensor: (5329,)\n"
     ]
    }
   ],
   "source": [
    "maxlen = 100\n",
    "training_samples = 200\n",
    "validation_samples = 10000\n",
    "max_words = 10000\n",
    "vocab_size = 1000\n",
    "# word level one-hot encoding\n",
    "tokenizer = Tokenizer(num_words=vocab_size)\n",
    "tokenizer.fit_on_texts(cleaned_train_text)\n",
    "sequences = tokenizer.texts_to_sequences(cleaned_train_text)\n",
    "one_hot_results = tokenizer.texts_to_matrix(cleaned_train_text, mode='binary')\n",
    "word_index = tokenizer.word_index\n",
    "print(f\"Found {len(word_index)} unique tokens\")\n",
    "\n",
    "data = pad_sequences(sequences, maxlen=maxlen)\n",
    "\n",
    "labels = np.asarray(labels_train)\n",
    "print('Shape of data tensor:', data.shape)\n",
    "print('Shape of label tensor:', labels.shape)\n"
   ]
  },
  {
   "cell_type": "code",
   "execution_count": null,
   "metadata": {},
   "outputs": [],
   "source": [
    "# model taken from notes\n",
    "# inputs = keras.Input(shape=(None,))\n",
    "# embed_layer = keras.layers.Embedding(\n",
    "#         input_dim=vocab_size,\n",
    "#         output_dim=300,\n",
    "#         mask_zero=True\n",
    "#     )(inputs)\n",
    "# x = keras.layers.Bidirectional(keras.layers.LSTM(64))(embed_layer)\n",
    "# x = keras.layers.Dense(64, activation='relu')(x)\n",
    "# outputs = keras.layers.Dense(units=5, activation='softmax')(x)\n",
    "\n",
    "# model5 = keras.Model(inputs, outputs)\n",
    "\n",
    "# model5.compile(optimizer=\"rmsprop\", loss=\"sparse_categorical_crossentropy\", metrics=\"accuracy\")\n",
    "\n",
    "# model5.fit(data, labels, validation_split=0.3, epochs=5, batch_size=64)"
   ]
  },
  {
   "cell_type": "code",
   "execution_count": 25,
   "metadata": {},
   "outputs": [
    {
     "name": "stdout",
     "output_type": "stream",
     "text": [
      "Epoch 1/5\n",
      "59/59 [==============================] - 3s 23ms/step - loss: 0.6229 - accuracy: 0.6574 - val_loss: 0.5959 - val_accuracy: 0.6767\n",
      "Epoch 2/5\n",
      "59/59 [==============================] - 1s 22ms/step - loss: 0.5293 - accuracy: 0.7480 - val_loss: 0.5290 - val_accuracy: 0.7480\n",
      "Epoch 3/5\n",
      "59/59 [==============================] - 1s 20ms/step - loss: 0.4690 - accuracy: 0.7810 - val_loss: 0.5111 - val_accuracy: 0.7555\n",
      "Epoch 4/5\n",
      "59/59 [==============================] - 1s 19ms/step - loss: 0.3952 - accuracy: 0.8252 - val_loss: 0.6766 - val_accuracy: 0.6992\n",
      "Epoch 5/5\n",
      "59/59 [==============================] - 1s 20ms/step - loss: 0.3578 - accuracy: 0.8432 - val_loss: 0.4987 - val_accuracy: 0.7674\n"
     ]
    }
   ],
   "source": [
    "# trying recurrent layer\n",
    "model = keras.models.Sequential()\n",
    "model.add(layers.Embedding(max_words, 32))\n",
    "model.add(layers.SimpleRNN(32))\n",
    "model.add(layers.Dense(1, activation='sigmoid'))\n",
    "model.compile(optimizer='rmsprop', loss='binary_crossentropy', metrics=\"accuracy\")\n",
    "history = model.fit(data, labels, validation_split=0.3, epochs=5, batch_size=64)"
   ]
  },
  {
   "cell_type": "code",
   "execution_count": 27,
   "metadata": {},
   "outputs": [
    {
     "data": {
      "image/png": "[encoded data removed]",
      "text/plain": [
       "<Figure size 432x288 with 1 Axes>"
      ]
     },
     "metadata": {
      "needs_background": "light"
     },
     "output_type": "display_data"
    },
    {
     "data": {
      "image/png": "[encoded data removed]",
      "text/plain": [
       "<Figure size 432x288 with 1 Axes>"
      ]
     },
     "metadata": {
      "needs_background": "light"
     },
     "output_type": "display_data"
    }
   ],
   "source": [
    "# plotting the model fit\n",
    "acc = history.history['accuracy']\n",
    "val_acc = history.history['val_accuracy']\n",
    "loss = history.history['loss']\n",
    "val_loss = history.history['val_loss']\n",
    "\n",
    "epochs = range(1, len(acc) + 1)\n",
    "\n",
    "plt.plot(epochs, acc, 'bo', label='Training acc')\n",
    "plt.plot(epochs, val_acc, 'b', label='Validation acc')\n",
    "\n",
    "plt.title('Training and validation accuracy')\n",
    "plt.legend()\n",
    "plt.figure()\n",
    "plt.plot(epochs, loss, 'bo', label='Training loss')\n",
    "plt.plot(epochs, val_loss, 'b', label='Validation loss')\n",
    "plt.title('Training and validation loss')\n",
    "plt.legend()\n",
    "plt.show()"
   ]
  },
  {
   "cell_type": "code",
   "execution_count": 28,
   "metadata": {},
   "outputs": [
    {
     "name": "stdout",
     "output_type": "stream",
     "text": [
      "Epoch 1/5\n",
      "59/59 [==============================] - 5s 44ms/step - loss: 0.6416 - accuracy: 0.6263 - val_loss: 0.6031 - val_accuracy: 0.6898\n",
      "Epoch 2/5\n",
      "59/59 [==============================] - 2s 38ms/step - loss: 0.5577 - accuracy: 0.7223 - val_loss: 0.5348 - val_accuracy: 0.7467\n",
      "Epoch 3/5\n",
      "59/59 [==============================] - 2s 38ms/step - loss: 0.4538 - accuracy: 0.8003 - val_loss: 0.4726 - val_accuracy: 0.7767\n",
      "Epoch 4/5\n",
      "59/59 [==============================] - 2s 38ms/step - loss: 0.4052 - accuracy: 0.8169 - val_loss: 0.4987 - val_accuracy: 0.7667\n",
      "Epoch 5/5\n",
      "59/59 [==============================] - 2s 38ms/step - loss: 0.3863 - accuracy: 0.8247 - val_loss: 0.4736 - val_accuracy: 0.7849\n"
     ]
    }
   ],
   "source": [
    "# using LSTM layer\n",
    "model2 = keras.models.Sequential()\n",
    "model2.add(layers.Embedding(max_words, 32))\n",
    "model2.add(layers.LSTM(32))\n",
    "model2.add(layers.Dense(1, activation='sigmoid'))\n",
    "model2.compile(optimizer='rmsprop', loss='binary_crossentropy', metrics=\"accuracy\")\n",
    "history2 = model2.fit(data, labels, validation_split=0.3, epochs=5, batch_size=64)"
   ]
  },
  {
   "cell_type": "code",
   "execution_count": 29,
   "metadata": {},
   "outputs": [
    {
     "data": {
      "image/png": "[encoded data removed]",
      "text/plain": [
       "<Figure size 432x288 with 1 Axes>"
      ]
     },
     "metadata": {
      "needs_background": "light"
     },
     "output_type": "display_data"
    },
    {
     "data": {
      "image/png": "[encoded data removed]",
      "text/plain": [
       "<Figure size 432x288 with 1 Axes>"
      ]
     },
     "metadata": {
      "needs_background": "light"
     },
     "output_type": "display_data"
    }
   ],
   "source": [
    "# plotting the model fit\n",
    "acc = history2.history['accuracy']\n",
    "val_acc = history2.history['val_accuracy']\n",
    "loss = history2.history['loss']\n",
    "val_loss = history2.history['val_loss']\n",
    "\n",
    "epochs = range(1, len(acc) + 1)\n",
    "\n",
    "plt.plot(epochs, acc, 'bo', label='Training acc')\n",
    "plt.plot(epochs, val_acc, 'b', label='Validation acc')\n",
    "\n",
    "plt.title('Training and validation accuracy')\n",
    "plt.legend()\n",
    "plt.figure()\n",
    "plt.plot(epochs, loss, 'bo', label='Training loss')\n",
    "plt.plot(epochs, val_loss, 'b', label='Validation loss')\n",
    "plt.title('Training and validation loss')\n",
    "plt.legend()\n",
    "plt.show()"
   ]
  },
  {
   "cell_type": "code",
   "execution_count": 30,
   "metadata": {},
   "outputs": [
    {
     "name": "stdout",
     "output_type": "stream",
     "text": [
      "Shape of data tensor: (5329, 100)\n",
      "Shape of data tensor: (2284, 100)\n",
      "Shape of label tensor: (2284,)\n"
     ]
    }
   ],
   "source": [
    "# Tokenizing the test data split\n",
    "# word level one-hot encoding\n",
    "test_tokenizer = Tokenizer(num_words=vocab_size, lower=False)\n",
    "test_tokenizer.fit_on_texts(cleaned_test_text)\n",
    "test_sequences = test_tokenizer.texts_to_sequences(cleaned_test_text)\n",
    "test_one_hot_results = test_tokenizer.texts_to_matrix(cleaned_test_text, mode='binary')\n",
    "test_word_index = test_tokenizer.word_index\n",
    "#print(f\"Found {len(test_word_index)} unique tokens\")\n",
    "\n",
    "test_data = pad_sequences(test_sequences, maxlen=maxlen)\n",
    "\n",
    "print('Shape of data tensor:', data.shape)\n",
    "\n",
    "labels_test = np.asarray(labels_test)\n",
    "print('Shape of data tensor:', test_data.shape)\n",
    "print('Shape of label tensor:', labels_test.shape)\n"
   ]
  },
  {
   "cell_type": "code",
   "execution_count": null,
   "metadata": {},
   "outputs": [],
   "source": [
    "# evaluate the model on the test data\n",
    "test_evals = model.evaluate(test_data, labels_test)\n",
    "print(test_evals)\n",
    "# predict on the test data\n",
    "predictions = model.predict(test_data)\n",
    "predicted_lbls = np.argmax(predictions, axis=1)\n",
    "cr = classification_report(labels_test, predicted_lbls)\n",
    "print(cr)"
   ]
  },
  {
   "cell_type": "code",
   "execution_count": null,
   "metadata": {},
   "outputs": [],
   "source": [
    "# evaluate the model on the test data\n",
    "test_evals = model2.evaluate(test_data, labels_test)\n",
    "print(test_evals)\n",
    "# predict on the test data\n",
    "predictions = model.predict(test_data)\n",
    "predicted_lbls = np.argmax(predictions, axis=1)\n",
    "cr = classification_report(labels_test, predicted_lbls)\n",
    "print(cr)"
   ]
  },
  {
   "cell_type": "markdown",
   "metadata": {},
   "source": [
    "The following is to create a submission for the Kaggle Competition"
   ]
  },
  {
   "cell_type": "code",
   "execution_count": 38,
   "metadata": {},
   "outputs": [],
   "source": [
    "# create a submission using test data\n",
    "test_data_clean = pd.read_csv(\"test_clean.csv\")\n",
    "cleaned_test_text = list(test_data_clean[\"clean_text\"])\n",
    "test_data_clean = test_data_clean.replace(test_data_clean[test_data_clean['clean_text'].isna()].index, '')\n",
    "print(test_data_clean.shape)\n",
    "cleaned_test_text = list(test_data_clean[\"clean_text\"])\n",
    "nanIndexes = test_data_clean[test_data_clean['clean_text'].isna()].index\n",
    "for i in nanIndexes:\n",
    "    cleaned_test_text[i] = \"\"\n",
    "maxlen = 100\n",
    "max_words = 10000\n",
    "vocab_size = 1000\n",
    "# word level one-hot encoding\n",
    "test_tokenizer = Tokenizer(num_words=vocab_size, lower=False)\n",
    "test_tokenizer.fit_on_texts(cleaned_test_text)\n",
    "test_sequences = test_tokenizer.texts_to_sequences(cleaned_test_text)\n",
    "test_one_hot_results = test_tokenizer.texts_to_matrix(cleaned_test_text, mode='binary')\n",
    "test_word_index = test_tokenizer.word_index\n",
    "#print(f\"Found {len(test_word_index)} unique tokens\")\n",
    "\n",
    "test_data = pad_sequences(test_sequences, maxlen=maxlen)\n",
    "\n",
    "print('Shape of data tensor:', data.shape)\n",
    "\n",
    "predictions = model2.predict(test_data)\n",
    "predictions = list(map(lambda x: 0 if x<0.5 else 1, predictions))\n",
    "\n",
    "\n",
    "res = []\n",
    "for i in test_data_clean.index:\n",
    "    res.append([test_data_clean[\"id\"][i], predictions[i]])\n",
    "predictions_df = pd.DataFrame(res, columns=[\"id\", \"target\"])\n",
    "predictions_df.to_csv(\"./model2predictions.csv\", index=False)\n"
   ]
  }
 ],
 "metadata": {
  "interpreter": {
   "hash": "b5a0d1d8a35cb8b073861edef1310933a8cfd4e1991759f893d7bca481571fcb"
  },
  "kernelspec": {
   "display_name": "Python 3.9.1 64-bit",
   "language": "python",
   "name": "python3"
  },
  "language_info": {
   "codemirror_mode": {
    "name": "ipython",
    "version": 3
   },
   "file_extension": ".py",
   "mimetype": "text/x-python",
   "name": "python",
   "nbconvert_exporter": "python",
   "pygments_lexer": "ipython3",
   "version": "3.9.1"
  },
  "orig_nbformat": 4
 },
 "nbformat": 4,
 "nbformat_minor": 2
}
