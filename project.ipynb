{
 "cells": [
  {
   "cell_type": "code",
   "execution_count": 111,
   "metadata": {},
   "outputs": [],
   "source": [
    "import os\n",
    "import pandas as pd\n",
    "import numpy as np\n",
    "from collections import Counter\n",
    "from multiprocessing import cpu_count\n",
    "from joblib import Parallel, delayed\n",
    "from sklearn.feature_extraction.text import CountVectorizer, TfidfVectorizer\n",
    "from sklearn.preprocessing import LabelEncoder\n",
    "from sklearn.model_selection import StratifiedShuffleSplit, train_test_split\n",
    "from sklearn.model_selection import GridSearchCV, StratifiedKFold\n",
    "from sklearn.pipeline import Pipeline\n",
    "from sklearn.metrics import classification_report, confusion_matrix\n",
    "from sklearn.svm import SVC\n",
    "from sklearn.preprocessing import LabelEncoder\n",
    "from sklearn.dummy import DummyClassifier\n",
    "from sklearn.utils import resample\n",
    "\n",
    "from tensorflow import keras\n",
    "from keras import layers\n",
    "from keras.preprocessing.text import Tokenizer\n",
    "from keras.preprocessing.sequence import pad_sequences\n",
    "#from keras.layers.experimental.preprocessing import TextVectorization\n",
    "from keras.callbacks import EarlyStopping, ModelCheckpoint, ReduceLROnPlateau\n",
    "from keras.regularizers import L2\n",
    "from keras.metrics import BinaryAccuracy, AUC\n",
    "\n",
    "import matplotlib.pyplot as plt\n",
    "# https://nlpretext.readthedocs.io/en/latest/\n",
    "# for twitter\n",
    "# https://towardsdatascience.com/twitter-sentiment-analysis-classification-using-nltk-python-fa912578614c\n",
    "#from nlpretext import Preprocessor\n",
    "#from nlpretext.basic.preprocess import normalize_whitespace, remove_punct, remove_eol_characters, remove_stopwords, \\\n",
    "#   lower_text, remove_accents, remove_multiple_spaces_and_strip_text, replace_numbers, replace_emails, replace_urls\n",
    "#from nlpretext.social.preprocess import convert_emoji_to_text, remove_mentions, extract_mentions, remove_hashtag, extract_hashtags\n",
    "\n",
    "from textblob import TextBlob\n",
    "import re\n",
    "import nltk\n",
    "from nltk.corpus import stopwords\n",
    "# some useful libraries\n",
    "# spacy\n",
    "\n",
    "np.random.seed(42)"
   ]
  },
  {
   "cell_type": "code",
   "execution_count": 112,
   "metadata": {},
   "outputs": [
    {
     "name": "stderr",
     "output_type": "stream",
     "text": [
      "[nltk_data] Downloading package punkt to\n",
      "[nltk_data]     C:\\Users\\DAVID\\AppData\\Roaming\\nltk_data...\n",
      "[nltk_data]   Package punkt is already up-to-date!\n",
      "[nltk_data] Downloading package stopwords to\n",
      "[nltk_data]     C:\\Users\\DAVID\\AppData\\Roaming\\nltk_data...\n",
      "[nltk_data]   Package stopwords is already up-to-date!\n"
     ]
    },
    {
     "data": {
      "text/plain": [
       "True"
      ]
     },
     "execution_count": 112,
     "metadata": {},
     "output_type": "execute_result"
    }
   ],
   "source": [
    "import nltk\n",
    "nltk.download('punkt')\n",
    "nltk.download('stopwords')"
   ]
  },
  {
   "cell_type": "code",
   "execution_count": 113,
   "metadata": {},
   "outputs": [],
   "source": [
    "train_data = pd.read_csv(\"./train.csv\")\n",
    "test_data = pd.read_csv(\"./test.csv\")"
   ]
  },
  {
   "cell_type": "code",
   "execution_count": 114,
   "metadata": {},
   "outputs": [
    {
     "name": "stdout",
     "output_type": "stream",
     "text": [
      "(7613, 5)\n",
      "#RockyFire Update => California Hwy. 20 closed in both directions due to Lake County fire - #CAfire #wildfires\n",
      "1\n"
     ]
    }
   ],
   "source": [
    "print(train_data.shape)\n",
    "print(train_data[\"text\"][5])\n",
    "print(train_data[\"target\"][5])"
   ]
  },
  {
   "cell_type": "code",
   "execution_count": 115,
   "metadata": {},
   "outputs": [],
   "source": [
    "# DONT RUN\n",
    "# text pre-processing\n",
    "counter = 0\n",
    "def get_str_hashtags(text):\n",
    "    preprocessor = Preprocessor()\n",
    "    preprocessor.pipe(extract_hashtags)\n",
    "    lst = preprocessor.run(text)    \n",
    "    str = \"\"\n",
    "    for word in lst:\n",
    "        str += \" \" + word.replace('#', '')\n",
    "    return str\n",
    "\n",
    "def get_str_mentions(text):\n",
    "    preprocessor = Preprocessor()\n",
    "    preprocessor.pipe(extract_mentions)\n",
    "    lst = preprocessor.run(text)\n",
    "    str = \"\"\n",
    "    for word in lst:\n",
    "        str += \" \" + word.replace('@', '')\n",
    "    return str\n",
    "    \n",
    "\n",
    "def clean_text(text):\n",
    "    preprocessor = Preprocessor()\n",
    "    preprocessor.pipe(lower_text)\n",
    "    preprocessor.pipe(remove_mentions)\n",
    "    preprocessor.pipe(remove_hashtag)\n",
    "    preprocessor.pipe(convert_emoji_to_text)\n",
    "    preprocessor.pipe(remove_eol_characters)\n",
    "    preprocessor.pipe(remove_stopwords, args={'lang': 'en'})\n",
    "    preprocessor.pipe(remove_punct)\n",
    "    preprocessor.pipe(replace_urls)\n",
    "    preprocessor.pipe(replace_emails)\n",
    "    preprocessor.pipe(replace_numbers)\n",
    "    preprocessor.pipe(remove_accents)\n",
    "    preprocessor.pipe(remove_multiple_spaces_and_strip_text)\n",
    "    preprocessor.pipe(normalize_whitespace)\n",
    "    \n",
    "    text = preprocessor.run(text)\n",
    "\n",
    "    return text"
   ]
  },
  {
   "cell_type": "code",
   "execution_count": 116,
   "metadata": {},
   "outputs": [
    {
     "name": "stdout",
     "output_type": "stream",
     "text": [
      "forest fire near la ronge sask canada\n",
      "#RockyFire Update => California Hwy. 20 closed in both directions due to Lake County fire - #CAfire #wildfires\n"
     ]
    }
   ],
   "source": [
    "def clean_text(tweet):\n",
    "    tweet_blob = TextBlob(tweet)\n",
    "    tweet_blob = ' '.join(tweet_blob.words)\n",
    "    tweet_blob = tweet_blob.lower()\n",
    "    stopset = set(stopwords.words('english'))\n",
    "    tokens = nltk.word_tokenize(tweet_blob)\n",
    "    cleanup = \" \".join(filter(lambda word: word not in stopset, tweet_blob.split()))\n",
    "    return cleanup\n",
    "\n",
    "print(clean_text(train_data[\"text\"].iloc[1]))\n",
    "print(train_data[\"text\"].iloc[5])"
   ]
  },
  {
   "cell_type": "code",
   "execution_count": 117,
   "metadata": {},
   "outputs": [],
   "source": [
    "# clean train data and save it to a csv\n",
    "train_data['clean_text'] = train_data.text.apply(lambda x: clean_text(x))\n",
    "#train_data['hashtags'] = train_data.text.apply(lambda x: get_str_hashtags(x))\n",
    "#train_data['mentions'] = train_data.text.apply(lambda x: get_str_mentions(x))\n",
    "train_data.to_csv('train_clean.csv')\n"
   ]
  },
  {
   "cell_type": "code",
   "execution_count": 118,
   "metadata": {},
   "outputs": [],
   "source": [
    "# clean test data and save it to a csv\n",
    "test_data['clean_text'] = test_data.text.apply(lambda x: clean_text(x))\n",
    "#test_data['hashtags'] = test_data.text.apply(lambda x: get_str_hashtags(x))\n",
    "#test_data['mentions'] = test_data.text.apply(lambda x: get_str_mentions(x))\n",
    "test_data.to_csv('test_clean.csv')"
   ]
  },
  {
   "cell_type": "code",
   "execution_count": 119,
   "metadata": {},
   "outputs": [
    {
     "name": "stdout",
     "output_type": "stream",
     "text": [
      "(7613, 7)\n"
     ]
    }
   ],
   "source": [
    "df = pd.read_csv(\"./train_clean.csv\")\n",
    "print(df.shape)"
   ]
  },
  {
   "cell_type": "markdown",
   "metadata": {},
   "source": [
    "The test data does not have a target column, so we cannot evaluate our models using the test data. We need to split the first dataset into a test and train dataset."
   ]
  },
  {
   "cell_type": "code",
   "execution_count": 120,
   "metadata": {},
   "outputs": [
    {
     "name": "stdout",
     "output_type": "stream",
     "text": [
      "(5329, 7)\n",
      "(2284, 7)\n",
      "0    0.567461\n",
      "1    0.432539\n",
      "Name: target, dtype: float64\n",
      "0    0.577058\n",
      "1    0.422942\n",
      "Name: target, dtype: float64\n"
     ]
    }
   ],
   "source": [
    "# DONT RUN\n",
    "# split the data into train and test set\n",
    "df_train, df_test = train_test_split(df, test_size=0.3)\n",
    "\n",
    "print(df_train.shape)\n",
    "print(df_test.shape)\n",
    "print(df_train.target.value_counts()/len(df_train))\n",
    "print(df_test.target.value_counts()/len(df_test))"
   ]
  },
  {
   "cell_type": "code",
   "execution_count": 125,
   "metadata": {},
   "outputs": [
    {
     "name": "stdout",
     "output_type": "stream",
     "text": [
      "(5329, 7)\n",
      "(2284, 7)\n",
      "0    0.570276\n",
      "1    0.429724\n",
      "Name: target, dtype: float64\n",
      "0    0.57049\n",
      "1    0.42951\n",
      "Name: target, dtype: float64\n"
     ]
    }
   ],
   "source": [
    "# split the data into train and test set\n",
    "sss = StratifiedShuffleSplit(n_splits=1, test_size=0.3, random_state=42)\n",
    "\n",
    "for train_index, test_index in sss.split(df, df['target']):\n",
    "    df_train = df.loc[train_index]\n",
    "    df_test = df.loc[test_index]\n",
    "\n",
    "print(df_train.shape)\n",
    "print(df_test.shape)\n",
    "print(df_train.target.value_counts()/len(df_train))\n",
    "print(df_test.target.value_counts()/len(df_test))"
   ]
  },
  {
   "cell_type": "code",
   "execution_count": 123,
   "metadata": {},
   "outputs": [],
   "source": [
    "# reset indexes\n",
    "df_train = df_train.reset_index()\n",
    "df_test = df_test.reset_index()"
   ]
  },
  {
   "cell_type": "code",
   "execution_count": 124,
   "metadata": {},
   "outputs": [
    {
     "data": {
      "text/plain": [
       "0    2290\n",
       "1    2290\n",
       "Name: target, dtype: int64"
      ]
     },
     "execution_count": 124,
     "metadata": {},
     "output_type": "execute_result"
    }
   ],
   "source": [
    "# down sampling uneven class  https://elitedatascience.com/imbalanced-classes \n",
    "df_majority = df_train[df_train.target==0]\n",
    "df_minority = df_train[df_train.target==1]\n",
    "df_majority_downsampled = resample(df_majority, \n",
    "                                 replace=False,    # sample without replacement\n",
    "                                 n_samples=len(df_minority),     # to match minority class\n",
    "                                 random_state=42) # reproducible results\n",
    "df_train = pd.concat([df_majority_downsampled, df_minority])\n",
    "df_train.target.value_counts()"
   ]
  },
  {
   "cell_type": "code",
   "execution_count": 126,
   "metadata": {},
   "outputs": [],
   "source": [
    "cleaned_train_text = list(df_train[\"clean_text\"])\n",
    "labels_train = list(df_train[\"target\"])\n",
    "cleaned_test_text = list(df_test[\"clean_text\"])\n",
    "labels_test = list(df_test[\"target\"])"
   ]
  },
  {
   "cell_type": "code",
   "execution_count": 127,
   "metadata": {},
   "outputs": [],
   "source": [
    "# After cleaning the text, some value are NaN. So, we need to replace these values with an empty string\n",
    "train_nan_indexes = df_train[df_train[\"clean_text\"].isna()].index\n",
    "for i in train_nan_indexes:\n",
    "    cleaned_train_text[i] = \"\"\n",
    "\n",
    "test_nan_indexes = df_test[df_test[\"clean_text\"].isna()].index\n",
    "for i in test_nan_indexes:\n",
    "    cleaned_test_text[i] = \"\""
   ]
  },
  {
   "cell_type": "code",
   "execution_count": 128,
   "metadata": {},
   "outputs": [
    {
     "name": "stdout",
     "output_type": "stream",
     "text": [
      "Found 17427 unique tokens\n",
      "Shape of data tensor: (5329, 30)\n",
      "Shape of label tensor: (5329,)\n",
      "5329\n"
     ]
    }
   ],
   "source": [
    "# tokenize the clean_text column\n",
    "maxlen = 30\n",
    "max_words = 100\n",
    "vocab_size = 100\n",
    "# word level one-hot encoding\n",
    "tokenizer = Tokenizer(num_words=vocab_size)\n",
    "tokenizer.fit_on_texts(cleaned_train_text)\n",
    "sequences = tokenizer.texts_to_sequences(cleaned_train_text)\n",
    "#one_hot_results = tokenizer.texts_to_matrix(cleaned_train_text, mode='binary')\n",
    "word_index = tokenizer.word_index\n",
    "print(f\"Found {len(word_index)} unique tokens\")\n",
    "\n",
    "data = pad_sequences(sequences, maxlen=maxlen)\n",
    "\n",
    "labels = np.asarray(labels_train)\n",
    "print('Shape of data tensor:', data.shape)\n",
    "print('Shape of label tensor:', labels.shape)\n",
    "print(data.shape[0])\n"
   ]
  },
  {
   "cell_type": "code",
   "execution_count": 129,
   "metadata": {},
   "outputs": [
    {
     "name": "stdout",
     "output_type": "stream",
     "text": [
      "Found 400000 word vectors.\n"
     ]
    }
   ],
   "source": [
    "# using the GloVe word-embeddings file from https://nlp.stanford.edu/projects/glove/\n",
    "glove_dir = './'\n",
    "embeddings_index = {}\n",
    "f = open(os.path.join(glove_dir, 'glove.6B.100d.txt'), 'r', encoding=\"utf-8\")\n",
    "for line in f:\n",
    "    values = line.split()\n",
    "    word = values[0]\n",
    "    coefs = np.asarray(values[1:], dtype='float32')\n",
    "    embeddings_index[word] = coefs\n",
    "f.close()\n",
    "print('Found %s word vectors.' % len(embeddings_index))"
   ]
  },
  {
   "cell_type": "code",
   "execution_count": 130,
   "metadata": {},
   "outputs": [],
   "source": [
    "embedding_dim = 100\n",
    "embedding_matrix = np.zeros((max_words, embedding_dim))\n",
    "for word, i in word_index.items():\n",
    "    if i < max_words:\n",
    "        embedding_vector = embeddings_index.get(word)\n",
    "        if embedding_vector is not None:\n",
    "            embedding_matrix[i] = embedding_vector"
   ]
  },
  {
   "cell_type": "code",
   "execution_count": 104,
   "metadata": {},
   "outputs": [
    {
     "name": "stdout",
     "output_type": "stream",
     "text": [
      "Vector representation of word earthquake looks like this:\n",
      "\n",
      "[-0.093032   1.6301     0.36645    0.29015   -0.81781   -0.46611\n",
      "  0.037282   0.13208    0.13661    1.2091     0.81466   -0.12874\n",
      "  0.52387   -0.024319   0.94072   -0.12509   -0.34087    0.19321\n",
      " -1.0522     0.62915   -0.0699     0.14182    0.49985    0.61688\n",
      "  0.027162   0.22695   -0.89086    1.4411    -0.45774   -0.5922\n",
      "  0.48147   -0.4387     0.99552    1.3003    -1.1123    -1.4847\n",
      "  0.53476   -0.22524   -0.21366   -0.14612   -0.50853    0.82284\n",
      " -0.075167  -0.60331    0.86412    0.15815    0.76075   -0.28173\n",
      "  0.27679   -0.43729   -0.53438    0.081051   0.98763   -0.28154\n",
      " -0.15944   -1.9562     0.13058   -0.46506    1.4629     1.262\n",
      " -0.46154    1.3625    -0.40815   -0.24256    0.21117    0.57007\n",
      " -1.6566    -0.21043    0.97449   -0.16146   -0.33706    0.50539\n",
      "  0.45718    0.2184     0.69558    0.43774    0.4584     0.57097\n",
      " -0.17801    0.15078    0.46262    0.46737   -0.76256   -0.0044911\n",
      "  0.146      0.20688    0.10127    0.41124   -0.76671   -1.1911\n",
      "  1.6006    -0.1965    -0.51986   -0.1828    -0.16551    1.0849\n",
      " -0.27171   -0.45208    0.24962   -0.76453  ]\n"
     ]
    }
   ],
   "source": [
    "test_word = 'earthquake'\n",
    "test_vector = embeddings_index[test_word]\n",
    "print(f\"Vector representation of word {test_word} looks like this:\\n\\n{test_vector}\")"
   ]
  },
  {
   "cell_type": "code",
   "execution_count": null,
   "metadata": {},
   "outputs": [],
   "source": [
    "# DONT RUN\n",
    "hashtags_train = list(df_train[\"hashtags\"])\n",
    "hashtags_test = list(df_test[\"hashtags\"])\n",
    "mentions_train = list(df_train[\"mentions\"])\n",
    "mentions_test = list(df_test[\"mentions\"])"
   ]
  },
  {
   "cell_type": "code",
   "execution_count": null,
   "metadata": {},
   "outputs": [],
   "source": [
    "# DONT RUN\n",
    "# Some value are NaN. So, we need to replace these values with an empty string\n",
    "train_nan_indexes = df_train[df_train[\"hashtags\"].isna()].index\n",
    "for i in train_nan_indexes:\n",
    "    hashtags_train[i] = \"\"\n",
    "train_nan_indexes = df_train[df_train[\"mentions\"].isna()].index\n",
    "for i in train_nan_indexes:\n",
    "    mentions_train[i] = \"\"\n",
    "    \n",
    "test_nan_indexes = df_test[df_test[\"hashtags\"].isna()].index\n",
    "for i in test_nan_indexes:\n",
    "    hashtags_test[i] = \"\"\n",
    "test_nan_indexes = df_test[df_test[\"mentions\"].isna()].index\n",
    "for i in test_nan_indexes:\n",
    "    mentions_test[i] = \"\""
   ]
  },
  {
   "cell_type": "code",
   "execution_count": 56,
   "metadata": {},
   "outputs": [
    {
     "name": "stdout",
     "output_type": "stream",
     "text": [
      "Found 1459 unique tokens\n"
     ]
    }
   ],
   "source": [
    "# DONT RUN\n",
    "# tokenize hashtags column\n",
    "maxlen = 100\n",
    "max_words = 10000\n",
    "vocab_size = 10000\n",
    "# word level one-hot encoding\n",
    "tokenizer_hashtags = Tokenizer(num_words=vocab_size)\n",
    "tokenizer_hashtags.fit_on_texts(hashtags_train)\n",
    "sequences_hashtags = tokenizer.texts_to_sequences(hashtags_train)\n",
    "#one_hot_results = tokenizer.texts_to_matrix(hashtags_train, mode='binary')\n",
    "word_index = tokenizer_hashtags.word_index\n",
    "print(f\"Found {len(word_index)} unique tokens\")\n",
    "\n",
    "data_hashtags = pad_sequences(sequences_hashtags, maxlen=maxlen)\n"
   ]
  },
  {
   "cell_type": "code",
   "execution_count": 57,
   "metadata": {},
   "outputs": [
    {
     "name": "stdout",
     "output_type": "stream",
     "text": [
      "Found 1853 unique tokens\n"
     ]
    }
   ],
   "source": [
    "# DONT RUN\n",
    "# tokeize mentions column\n",
    "maxlen = 248\n",
    "max_words = 1000\n",
    "vocab_size = 1000\n",
    "# word level one-hot encoding\n",
    "tokenizer_mentions = Tokenizer(num_words=vocab_size)\n",
    "tokenizer_mentions.fit_on_texts(mentions_train)\n",
    "sequences_mentions = tokenizer.texts_to_sequences(mentions_train)\n",
    "#one_hot_results = tokenizer.texts_to_matrix(hashtags_train, mode='binary')\n",
    "word_index = tokenizer_mentions.word_index\n",
    "print(f\"Found {len(word_index)} unique tokens\")\n",
    "\n",
    "data_mentions = pad_sequences(sequences_mentions, maxlen=maxlen)"
   ]
  },
  {
   "cell_type": "code",
   "execution_count": 131,
   "metadata": {},
   "outputs": [
    {
     "name": "stdout",
     "output_type": "stream",
     "text": [
      "Epoch 1/50\n",
      "59/59 [==============================] - 2s 20ms/step - loss: 0.8293 - accuracy: 0.5614 - val_loss: 0.7738 - val_accuracy: 0.6210 - lr: 0.0010\n",
      "Epoch 2/50\n",
      "59/59 [==============================] - 1s 12ms/step - loss: 0.7933 - accuracy: 0.5866 - val_loss: 0.7577 - val_accuracy: 0.6204 - lr: 0.0010\n",
      "Epoch 3/50\n",
      "59/59 [==============================] - 1s 12ms/step - loss: 0.7722 - accuracy: 0.6083 - val_loss: 0.7454 - val_accuracy: 0.6448 - lr: 0.0010\n",
      "Epoch 4/50\n",
      "59/59 [==============================] - 1s 12ms/step - loss: 0.7471 - accuracy: 0.6298 - val_loss: 0.7330 - val_accuracy: 0.6517 - lr: 0.0010\n",
      "Epoch 5/50\n",
      "59/59 [==============================] - 1s 12ms/step - loss: 0.7302 - accuracy: 0.6448 - val_loss: 0.7188 - val_accuracy: 0.6685 - lr: 0.0010\n",
      "Epoch 6/50\n",
      "59/59 [==============================] - 1s 12ms/step - loss: 0.7152 - accuracy: 0.6657 - val_loss: 0.6980 - val_accuracy: 0.6617 - lr: 0.0010\n",
      "Epoch 7/50\n",
      "59/59 [==============================] - 1s 12ms/step - loss: 0.7306 - accuracy: 0.6469 - val_loss: 0.7004 - val_accuracy: 0.6748 - lr: 0.0010\n",
      "Epoch 8/50\n",
      "59/59 [==============================] - 1s 12ms/step - loss: 0.6985 - accuracy: 0.6619 - val_loss: 0.6887 - val_accuracy: 0.6654 - lr: 0.0010\n",
      "Epoch 9/50\n",
      "59/59 [==============================] - 1s 12ms/step - loss: 0.6771 - accuracy: 0.6853 - val_loss: 0.6803 - val_accuracy: 0.6892 - lr: 0.0010\n",
      "Epoch 10/50\n",
      "59/59 [==============================] - 1s 12ms/step - loss: 0.6688 - accuracy: 0.6871 - val_loss: 0.6678 - val_accuracy: 0.6842 - lr: 0.0010\n",
      "Epoch 11/50\n",
      "59/59 [==============================] - 1s 13ms/step - loss: 0.6561 - accuracy: 0.6893 - val_loss: 0.6644 - val_accuracy: 0.6898 - lr: 0.0010\n",
      "Epoch 12/50\n",
      "59/59 [==============================] - 1s 13ms/step - loss: 0.6528 - accuracy: 0.6981 - val_loss: 0.6630 - val_accuracy: 0.6954 - lr: 0.0010\n",
      "Epoch 13/50\n",
      "59/59 [==============================] - 1s 12ms/step - loss: 0.6484 - accuracy: 0.6917 - val_loss: 0.6606 - val_accuracy: 0.6842 - lr: 0.0010\n",
      "Epoch 14/50\n",
      "59/59 [==============================] - 1s 12ms/step - loss: 0.6403 - accuracy: 0.7005 - val_loss: 0.6596 - val_accuracy: 0.6773 - lr: 0.0010\n",
      "Epoch 15/50\n",
      "59/59 [==============================] - 1s 12ms/step - loss: 0.6331 - accuracy: 0.7032 - val_loss: 0.6505 - val_accuracy: 0.6917 - lr: 0.0010\n",
      "Epoch 16/50\n",
      "59/59 [==============================] - 1s 12ms/step - loss: 0.6283 - accuracy: 0.7115 - val_loss: 0.6462 - val_accuracy: 0.6898 - lr: 0.0010\n",
      "Epoch 17/50\n",
      "59/59 [==============================] - 1s 13ms/step - loss: 0.6274 - accuracy: 0.7019 - val_loss: 0.6458 - val_accuracy: 0.6911 - lr: 0.0010\n",
      "Epoch 18/50\n",
      "59/59 [==============================] - 1s 12ms/step - loss: 0.6165 - accuracy: 0.7011 - val_loss: 0.6459 - val_accuracy: 0.7042 - lr: 0.0010\n",
      "Epoch 19/50\n",
      "59/59 [==============================] - 1s 13ms/step - loss: 0.6115 - accuracy: 0.7056 - val_loss: 0.6429 - val_accuracy: 0.6992 - lr: 0.0010\n",
      "Epoch 20/50\n",
      "59/59 [==============================] - 1s 13ms/step - loss: 0.6128 - accuracy: 0.6984 - val_loss: 0.6416 - val_accuracy: 0.7092 - lr: 0.0010\n",
      "Epoch 21/50\n",
      "59/59 [==============================] - 1s 13ms/step - loss: 0.5983 - accuracy: 0.7306 - val_loss: 0.6386 - val_accuracy: 0.6879 - lr: 0.0010\n",
      "Epoch 22/50\n",
      "59/59 [==============================] - 1s 12ms/step - loss: 0.5989 - accuracy: 0.7088 - val_loss: 0.6350 - val_accuracy: 0.6967 - lr: 0.0010\n",
      "Epoch 23/50\n",
      "59/59 [==============================] - 1s 12ms/step - loss: 0.6038 - accuracy: 0.7147 - val_loss: 0.6321 - val_accuracy: 0.7004 - lr: 0.0010\n",
      "Epoch 24/50\n",
      "59/59 [==============================] - 1s 13ms/step - loss: 0.5964 - accuracy: 0.7091 - val_loss: 0.6357 - val_accuracy: 0.7086 - lr: 0.0010\n",
      "Epoch 25/50\n",
      "59/59 [==============================] - 1s 13ms/step - loss: 0.5899 - accuracy: 0.7212 - val_loss: 0.6393 - val_accuracy: 0.6992 - lr: 0.0010\n",
      "Epoch 26/50\n",
      "59/59 [==============================] - 1s 13ms/step - loss: 0.6377 - accuracy: 0.6815 - val_loss: 0.6341 - val_accuracy: 0.6973 - lr: 0.0010\n",
      "Epoch 27/50\n",
      "59/59 [==============================] - 1s 13ms/step - loss: 0.5925 - accuracy: 0.7177 - val_loss: 0.6302 - val_accuracy: 0.6986 - lr: 2.5000e-04\n",
      "Epoch 28/50\n",
      "59/59 [==============================] - 1s 13ms/step - loss: 0.5827 - accuracy: 0.7196 - val_loss: 0.6298 - val_accuracy: 0.7004 - lr: 2.5000e-04\n",
      "Epoch 29/50\n",
      "59/59 [==============================] - 1s 12ms/step - loss: 0.5904 - accuracy: 0.7201 - val_loss: 0.6283 - val_accuracy: 0.7023 - lr: 2.5000e-04\n",
      "Epoch 30/50\n",
      "59/59 [==============================] - 1s 12ms/step - loss: 0.5855 - accuracy: 0.7188 - val_loss: 0.6274 - val_accuracy: 0.7067 - lr: 2.5000e-04\n",
      "Epoch 31/50\n",
      "59/59 [==============================] - 1s 12ms/step - loss: 0.5746 - accuracy: 0.7324 - val_loss: 0.6265 - val_accuracy: 0.7017 - lr: 2.5000e-04\n",
      "Epoch 32/50\n",
      "59/59 [==============================] - 1s 12ms/step - loss: 0.5800 - accuracy: 0.7220 - val_loss: 0.6298 - val_accuracy: 0.7104 - lr: 2.5000e-04\n",
      "Epoch 33/50\n",
      "59/59 [==============================] - 1s 13ms/step - loss: 0.5783 - accuracy: 0.7172 - val_loss: 0.6277 - val_accuracy: 0.7036 - lr: 2.5000e-04\n",
      "Epoch 34/50\n",
      "59/59 [==============================] - 1s 12ms/step - loss: 0.5770 - accuracy: 0.7282 - val_loss: 0.6287 - val_accuracy: 0.7011 - lr: 2.5000e-04\n",
      "Epoch 35/50\n",
      "59/59 [==============================] - 1s 12ms/step - loss: 0.5706 - accuracy: 0.7260 - val_loss: 0.6285 - val_accuracy: 0.7036 - lr: 6.2500e-05\n",
      "Epoch 36/50\n",
      "59/59 [==============================] - 1s 12ms/step - loss: 0.5658 - accuracy: 0.7257 - val_loss: 0.6273 - val_accuracy: 0.7023 - lr: 6.2500e-05\n"
     ]
    }
   ],
   "source": [
    "input1 = keras.Input(shape=(None,))\n",
    "input2 = keras.Input(shape=(None,))\n",
    "input3 = keras.Input(shape=(None,))\n",
    "input = layers.Concatenate()([input1, input2, input3])\n",
    "# embed_layer = layers.Embedding(\n",
    "#         input_dim=vocab_size,\n",
    "#         output_dim=maxlen,\n",
    "#     )(input)\n",
    "embed_layer = layers.Embedding(\n",
    "        input_dim=max_words,\n",
    "        output_dim=embedding_dim,\n",
    "        weights=[embedding_matrix],\n",
    "        trainable=False,\n",
    "        input_length=maxlen\n",
    "    )(input1)\n",
    "#x = layers.Bidirectional(layers.SimpleRNN(64, return_sequences=True, kernel_regularizer = L2(0.001)))(embed_layer)\n",
    "x = layers.SimpleRNN(64, return_sequences=True, kernel_regularizer = L2(0.001))(embed_layer)\n",
    "x = layers.Dropout(0.5)(x)\n",
    "#x = layers.Bidirectional(layers.SimpleRNN(32, kernel_regularizer = L2(l2=0.001)))(x)\n",
    "x = layers.SimpleRNN(32, kernel_regularizer = L2(l2=0.001))(x)\n",
    "x = layers.Dropout(0.5)(x)\n",
    "x = layers.Dense(64, activation='relu')(x)\n",
    "x = layers.Dropout(0.5)(x)\n",
    "output = layers.Dense(1, activation='sigmoid')(x)\n",
    "\n",
    "#model = keras.models.Model(inputs=[input1, input2, input3], outputs=output)\n",
    "model = keras.models.Model(inputs=input1, outputs=output)\n",
    "#model.summary()\n",
    "model.compile(optimizer='Adam', loss='binary_crossentropy', metrics=\"accuracy\")\n",
    "\n",
    "reduce_lr = ReduceLROnPlateau(\n",
    "    monitor='val_loss',\n",
    "    factor=0.25,\n",
    "    patience=3,\n",
    "    verbose=0,\n",
    "    mode='min'\n",
    ")\n",
    "\n",
    "# checkpoints = ModelCheckpoint(\n",
    "#     '/kaggle/working/best_model.h5',\n",
    "#     monitor='val_loss',\n",
    "#     verbose=0,\n",
    "#     save_best_only=True,\n",
    "#     mode='min'\n",
    "# )\n",
    "\n",
    "early_stop = EarlyStopping(\n",
    "    patience=5,\n",
    "    min_delta=0,\n",
    "    monitor='val_loss',\n",
    "    #restore_best_weights=True,\n",
    "    verbose=0,\n",
    "    mode='min',\n",
    "    baseline=None\n",
    ")\n",
    "\n",
    "# history = model.fit([data, data_hashtags, data_mentions], labels, \n",
    "#                     validation_split=0.3, epochs=50, batch_size=64, callbacks=[reduce_lr,early_stop])\n",
    "history = model.fit(data, labels, \n",
    "                    validation_split=0.3, epochs=50, batch_size=64, callbacks=[reduce_lr,early_stop])\n",
    "# history = model.fit(data, labels, \n",
    "#                     validation_split=0.3, epochs=50, batch_size=64)"
   ]
  },
  {
   "cell_type": "code",
   "execution_count": null,
   "metadata": {},
   "outputs": [],
   "source": [
    "# model taken from notes\n",
    "# inputs = keras.Input(shape=(None,))\n",
    "# embed_layer = keras.layers.Embedding(\n",
    "#         input_dim=max_words,\n",
    "#         output_dim=embedding_dim,\n",
    "#         weights=[embedding_matrix],\n",
    "#         trainable=False,\n",
    "#         input_length=maxlen\n",
    "#     )(inputs)\n",
    "# x = keras.layers.Bidirectional(keras.layers.LSTM(64))(embed_layer)\n",
    "# x = keras.layers.Dense(64, activation='relu')(x)\n",
    "# outputs = keras.layers.Dense(units=2, activation='softmax')(x)\n",
    "\n",
    "# model5 = keras.Model(inputs, outputs)\n",
    "\n",
    "# model5.compile(optimizer=\"rmsprop\", loss=\"sparse_categorical_crossentropy\", metrics=\"accuracy\")\n",
    "\n",
    "# model5.fit(data, labels, validation_split=0.3, epochs=5, batch_size=64)\n",
    "\n",
    "# to add the keywords as inputs : https://stackoverflow.com/questions/55233377/keras-sequential-model-with-multiple-inputs"
   ]
  },
  {
   "cell_type": "code",
   "execution_count": 105,
   "metadata": {},
   "outputs": [
    {
     "name": "stdout",
     "output_type": "stream",
     "text": [
      "Epoch 1/20\n",
      "101/101 [==============================] - 2s 8ms/step - loss: 0.5761 - accuracy: 0.7118 - val_loss: 1.0272 - val_accuracy: 0.2438\n",
      "Epoch 2/20\n",
      "101/101 [==============================] - 1s 6ms/step - loss: 0.5312 - accuracy: 0.7511 - val_loss: 0.8434 - val_accuracy: 0.5298\n",
      "Epoch 3/20\n",
      "101/101 [==============================] - 1s 6ms/step - loss: 0.5087 - accuracy: 0.7614 - val_loss: 1.3537 - val_accuracy: 0.1834\n",
      "Epoch 4/20\n",
      "101/101 [==============================] - 1s 6ms/step - loss: 0.4962 - accuracy: 0.7729 - val_loss: 0.9778 - val_accuracy: 0.4098\n",
      "Epoch 5/20\n",
      "101/101 [==============================] - 1s 6ms/step - loss: 0.4965 - accuracy: 0.7673 - val_loss: 0.9832 - val_accuracy: 0.3836\n",
      "Epoch 6/20\n",
      "101/101 [==============================] - 1s 6ms/step - loss: 0.4829 - accuracy: 0.7745 - val_loss: 0.8660 - val_accuracy: 0.5677\n",
      "Epoch 7/20\n",
      "101/101 [==============================] - 1s 6ms/step - loss: 0.4735 - accuracy: 0.7823 - val_loss: 1.7158 - val_accuracy: 0.1223\n",
      "Epoch 8/20\n",
      "101/101 [==============================] - 1s 6ms/step - loss: 0.4693 - accuracy: 0.7851 - val_loss: 1.1593 - val_accuracy: 0.3326\n",
      "Epoch 9/20\n",
      "101/101 [==============================] - 1s 6ms/step - loss: 0.4644 - accuracy: 0.7876 - val_loss: 1.1655 - val_accuracy: 0.3137\n",
      "Epoch 10/20\n",
      "101/101 [==============================] - 1s 6ms/step - loss: 0.4607 - accuracy: 0.7904 - val_loss: 1.7473 - val_accuracy: 0.1739\n",
      "Epoch 11/20\n",
      "101/101 [==============================] - 1s 6ms/step - loss: 0.4512 - accuracy: 0.7929 - val_loss: 0.9893 - val_accuracy: 0.5153\n",
      "Epoch 12/20\n",
      "101/101 [==============================] - 1s 6ms/step - loss: 0.4447 - accuracy: 0.7991 - val_loss: 0.8054 - val_accuracy: 0.6084\n",
      "Epoch 13/20\n",
      "101/101 [==============================] - 1s 6ms/step - loss: 0.4494 - accuracy: 0.7895 - val_loss: 0.7562 - val_accuracy: 0.5801\n",
      "Epoch 14/20\n",
      "101/101 [==============================] - 1s 6ms/step - loss: 0.4390 - accuracy: 0.7991 - val_loss: 1.2589 - val_accuracy: 0.3210\n",
      "Epoch 15/20\n",
      "101/101 [==============================] - 1s 6ms/step - loss: 0.4358 - accuracy: 0.8016 - val_loss: 1.0445 - val_accuracy: 0.3763\n",
      "Epoch 16/20\n",
      "101/101 [==============================] - 1s 6ms/step - loss: 0.4260 - accuracy: 0.8047 - val_loss: 1.0455 - val_accuracy: 0.4039\n",
      "Epoch 17/20\n",
      "101/101 [==============================] - 1s 6ms/step - loss: 0.4251 - accuracy: 0.8088 - val_loss: 1.1935 - val_accuracy: 0.3690\n",
      "Epoch 18/20\n",
      "101/101 [==============================] - 1s 6ms/step - loss: 0.4208 - accuracy: 0.8066 - val_loss: 0.9553 - val_accuracy: 0.5247\n",
      "Epoch 19/20\n",
      "101/101 [==============================] - 1s 6ms/step - loss: 0.4512 - accuracy: 0.7885 - val_loss: 1.3366 - val_accuracy: 0.2948\n",
      "Epoch 20/20\n",
      "101/101 [==============================] - 1s 6ms/step - loss: 0.4396 - accuracy: 0.7938 - val_loss: 0.6506 - val_accuracy: 0.7227\n"
     ]
    }
   ],
   "source": [
    "# trying recurrent layer\n",
    "# model = keras.models.Sequential()\n",
    "# model.add(layers.Input(shape=(None,)))\n",
    "# model.add(layers.Embedding(input_dim=vocab_size, output_dim=300, mask_zero=True))\n",
    "# model.add(layers.Bidirectional(layers.SimpleRNN(32, return_sequences=True)))\n",
    "# model.add(layers.Dropout(0.5))\n",
    "# model.add(layers.Bidirectional(layers.SimpleRNN(32)))\n",
    "# model.add(layers.Dense(1, activation='sigmoid'))\n",
    "# model.compile(optimizer='RMSprop', loss='binary_crossentropy', metrics=\"accuracy\")\n",
    "# history = model.fit(data, labels, validation_split=0.3, epochs=5, batch_size=32)\n",
    "\n",
    "model = keras.models.Sequential()\n",
    "model.add(layers.Input(shape=(None,)))\n",
    "model.add(layers.Embedding(input_dim=max_words,\n",
    "        output_dim=embedding_dim,\n",
    "        weights=[embedding_matrix],\n",
    "        trainable=False,\n",
    "        input_length=maxlen))\n",
    "#model.add(layers.Bidirectional(layers.SimpleRNN(32, return_sequences=True)))\n",
    "model.add(layers.SimpleRNN(64))\n",
    "#model.add(layers.Dropout(0.5))\n",
    "#model.add(layers.Bidirectional(layers.SimpleRNN(32)))\n",
    "model.add(layers.Dense(1, activation='sigmoid'))\n",
    "\n",
    "model.compile(optimizer='RMSprop', loss='binary_crossentropy', metrics=\"accuracy\")\n",
    "history = model.fit(data, labels, validation_split=0.3, epochs=20, batch_size=32)\n"
   ]
  },
  {
   "cell_type": "code",
   "execution_count": 132,
   "metadata": {},
   "outputs": [
    {
     "data": {
      "image/png": "[encoded data removed]",
      "text/plain": [
       "<Figure size 432x288 with 1 Axes>"
      ]
     },
     "metadata": {
      "needs_background": "light"
     },
     "output_type": "display_data"
    },
    {
     "data": {
      "image/png": "[encoded data removed]",
      "text/plain": [
       "<Figure size 432x288 with 1 Axes>"
      ]
     },
     "metadata": {
      "needs_background": "light"
     },
     "output_type": "display_data"
    }
   ],
   "source": [
    "# plotting the model fit\n",
    "acc = history.history['accuracy']\n",
    "val_acc = history.history['val_accuracy']\n",
    "loss = history.history['loss']\n",
    "val_loss = history.history['val_loss']\n",
    "\n",
    "epochs = range(1, len(acc) + 1)\n",
    "\n",
    "plt.plot(epochs, acc, 'bo', label='Training acc')\n",
    "plt.plot(epochs, val_acc, 'b', label='Validation acc')\n",
    "\n",
    "plt.title('Training and validation accuracy')\n",
    "plt.legend()\n",
    "plt.figure()\n",
    "plt.plot(epochs, loss, 'bo', label='Training loss')\n",
    "plt.plot(epochs, val_loss, 'b', label='Validation loss')\n",
    "plt.title('Training and validation loss')\n",
    "plt.legend()\n",
    "plt.show()"
   ]
  },
  {
   "cell_type": "code",
   "execution_count": 75,
   "metadata": {},
   "outputs": [
    {
     "name": "stdout",
     "output_type": "stream",
     "text": [
      "Epoch 1/5\n",
      "51/51 [==============================] - 3s 25ms/step - loss: 0.6134 - accuracy: 0.7143 - val_loss: 0.9349 - val_accuracy: 0.0000e+00\n",
      "Epoch 2/5\n",
      "51/51 [==============================] - 1s 18ms/step - loss: 0.6022 - accuracy: 0.7143 - val_loss: 0.9828 - val_accuracy: 0.0000e+00\n",
      "Epoch 3/5\n",
      "51/51 [==============================] - 1s 18ms/step - loss: 0.6020 - accuracy: 0.7143 - val_loss: 1.5866 - val_accuracy: 0.0000e+00\n",
      "Epoch 4/5\n",
      "51/51 [==============================] - 1s 18ms/step - loss: 0.6028 - accuracy: 0.7143 - val_loss: 1.0311 - val_accuracy: 0.0000e+00\n",
      "Epoch 5/5\n",
      "51/51 [==============================] - 1s 19ms/step - loss: 0.6015 - accuracy: 0.7143 - val_loss: 1.0426 - val_accuracy: 0.0000e+00\n"
     ]
    }
   ],
   "source": [
    "# using LSTM layer\n",
    "model2 = keras.models.Sequential()\n",
    "model2.add(layers.Input(shape=(None,)))\n",
    "#model2.add(layers.Embedding(input_dim=vocab_size, output_dim=300, mask_zero=True))\n",
    "model2.add(layers.Embedding(input_dim=max_words,\n",
    "        output_dim=embedding_dim,\n",
    "        weights=[embedding_matrix],\n",
    "        trainable=False,\n",
    "        input_length=maxlen))\n",
    "# model2.add(layers.Bidirectional(layers.LSTM(32, return_sequences=True)))\n",
    "# model2.add(layers.Dropout(0.5))\n",
    "model2.add(layers.LSTM(64))\n",
    "\n",
    "model2.add(layers.Dense(1, activation='sigmoid'))\n",
    "model2.compile(optimizer='rmsprop', loss='binary_crossentropy', metrics=\"accuracy\")\n",
    "history2 = model2.fit(data, labels, validation_split=0.3, epochs=5, batch_size=64)"
   ]
  },
  {
   "cell_type": "code",
   "execution_count": 76,
   "metadata": {},
   "outputs": [
    {
     "data": {
      "image/png": "[encoded data removed]",
      "text/plain": [
       "<Figure size 432x288 with 1 Axes>"
      ]
     },
     "metadata": {
      "needs_background": "light"
     },
     "output_type": "display_data"
    },
    {
     "data": {
      "image/png": "[encoded data removed]",
      "text/plain": [
       "<Figure size 432x288 with 1 Axes>"
      ]
     },
     "metadata": {
      "needs_background": "light"
     },
     "output_type": "display_data"
    }
   ],
   "source": [
    "# plotting the model fit\n",
    "acc = history2.history['accuracy']\n",
    "val_acc = history2.history['val_accuracy']\n",
    "loss = history2.history['loss']\n",
    "val_loss = history2.history['val_loss']\n",
    "\n",
    "epochs = range(1, len(acc) + 1)\n",
    "\n",
    "plt.plot(epochs, acc, 'bo', label='Training acc')\n",
    "plt.plot(epochs, val_acc, 'b', label='Validation acc')\n",
    "\n",
    "plt.title('Training and validation accuracy')\n",
    "plt.legend()\n",
    "plt.figure()\n",
    "plt.plot(epochs, loss, 'bo', label='Training loss')\n",
    "plt.plot(epochs, val_loss, 'b', label='Validation loss')\n",
    "plt.title('Training and validation loss')\n",
    "plt.legend()\n",
    "plt.show()"
   ]
  },
  {
   "cell_type": "code",
   "execution_count": 133,
   "metadata": {},
   "outputs": [
    {
     "name": "stdout",
     "output_type": "stream",
     "text": [
      "Found 9358 unique tokens\n",
      "Shape of data tensor: (2284, 30)\n",
      "Shape of label tensor: (2284,)\n"
     ]
    }
   ],
   "source": [
    "# Tokenizing the test data split\n",
    "# word level one-hot encoding\n",
    "test_tokenizer = Tokenizer(num_words=vocab_size, lower=False)\n",
    "test_tokenizer.fit_on_texts(cleaned_test_text)\n",
    "test_sequences = test_tokenizer.texts_to_sequences(cleaned_test_text)\n",
    "test_one_hot_results = test_tokenizer.texts_to_matrix(cleaned_test_text, mode='binary')\n",
    "test_word_index = test_tokenizer.word_index\n",
    "print(f\"Found {len(test_word_index)} unique tokens\")\n",
    "\n",
    "test_data = pad_sequences(test_sequences, maxlen=maxlen)\n",
    "\n",
    "labels_test = np.asarray(labels_test)\n",
    "print('Shape of data tensor:', test_data.shape)\n",
    "print('Shape of label tensor:', labels_test.shape)\n"
   ]
  },
  {
   "cell_type": "code",
   "execution_count": 65,
   "metadata": {},
   "outputs": [
    {
     "name": "stdout",
     "output_type": "stream",
     "text": [
      "Shape of data tensor: (2284, 100)\n"
     ]
    }
   ],
   "source": [
    "# DONT RUN\n",
    "#Tokenizing the test data split for hashtags\n",
    "test_tokenizer_hashtags = Tokenizer(num_words=vocab_size, lower=False)\n",
    "test_tokenizer_hashtags.fit_on_texts(hashtags_test)\n",
    "test_sequences_hashtags = test_tokenizer_hashtags.texts_to_sequences(hashtags_test)\n",
    "#test_one_hot_results = test_tokenizer_hashtags.texts_to_matrix(hashtags_test, mode='binary')\n",
    "test_word_index = test_tokenizer_hashtags.word_index\n",
    "#print(f\"Found {len(test_word_index)} unique tokens\")\n",
    "\n",
    "test_data_hashtags = pad_sequences(test_sequences_hashtags, maxlen=maxlen)\n",
    "\n",
    "print('Shape of data tensor:', test_data_hashtags.shape)"
   ]
  },
  {
   "cell_type": "code",
   "execution_count": 66,
   "metadata": {},
   "outputs": [
    {
     "name": "stdout",
     "output_type": "stream",
     "text": [
      "Shape of data tensor: (2284, 100)\n"
     ]
    }
   ],
   "source": [
    "# DONT RUN\n",
    "#Tokenizing the test data split for mentions\n",
    "test_tokenizer_mentions = Tokenizer(num_words=vocab_size, lower=False)\n",
    "test_tokenizer_mentions.fit_on_texts(mentions_test)\n",
    "test_sequences_mentions = test_tokenizer_mentions.texts_to_sequences(mentions_test)\n",
    "#test_one_hot_results = test_tokenizer_mentions.texts_to_matrix(mentions_test, mode='binary')\n",
    "test_word_index = test_tokenizer_mentions.word_index\n",
    "#print(f\"Found {len(test_word_index)} unique tokens\")\n",
    "\n",
    "test_data_mentions = pad_sequences(test_sequences_mentions, maxlen=maxlen)\n",
    "\n",
    "print('Shape of data tensor:', test_data_mentions.shape)"
   ]
  },
  {
   "cell_type": "code",
   "execution_count": 134,
   "metadata": {},
   "outputs": [
    {
     "name": "stdout",
     "output_type": "stream",
     "text": [
      "72/72 [==============================] - 0s 4ms/step - loss: 0.7628 - accuracy: 0.6055\n",
      "[0.7627662420272827, 0.6055166125297546]\n",
      "              precision    recall  f1-score   support\n",
      "\n",
      "           0       0.57      1.00      0.73      1303\n",
      "           1       0.00      0.00      0.00       981\n",
      "\n",
      "    accuracy                           0.57      2284\n",
      "   macro avg       0.29      0.50      0.36      2284\n",
      "weighted avg       0.33      0.57      0.41      2284\n",
      "\n"
     ]
    },
    {
     "name": "stderr",
     "output_type": "stream",
     "text": [
      "C:\\Users\\DAVID\\AppData\\Local\\Programs\\Python\\Python39\\lib\\site-packages\\sklearn\\metrics\\_classification.py:1248: UndefinedMetricWarning: Precision and F-score are ill-defined and being set to 0.0 in labels with no predicted samples. Use `zero_division` parameter to control this behavior.\n",
      "  _warn_prf(average, modifier, msg_start, len(result))\n",
      "C:\\Users\\DAVID\\AppData\\Local\\Programs\\Python\\Python39\\lib\\site-packages\\sklearn\\metrics\\_classification.py:1248: UndefinedMetricWarning: Precision and F-score are ill-defined and being set to 0.0 in labels with no predicted samples. Use `zero_division` parameter to control this behavior.\n",
      "  _warn_prf(average, modifier, msg_start, len(result))\n",
      "C:\\Users\\DAVID\\AppData\\Local\\Programs\\Python\\Python39\\lib\\site-packages\\sklearn\\metrics\\_classification.py:1248: UndefinedMetricWarning: Precision and F-score are ill-defined and being set to 0.0 in labels with no predicted samples. Use `zero_division` parameter to control this behavior.\n",
      "  _warn_prf(average, modifier, msg_start, len(result))\n"
     ]
    }
   ],
   "source": [
    "# evaluate the model on the test data\n",
    "#test_evals = model.evaluate([test_data, test_data_hashtags, test_data_mentions], labels_test)\n",
    "test_evals = model.evaluate(test_data, labels_test)\n",
    "print(test_evals)\n",
    "# predict on the test data\n",
    "predictions = model.predict(test_data)\n",
    "predictions\n",
    "predicted_lbls = np.argmax(predictions, axis=1)\n",
    "cr = classification_report(labels_test, predicted_lbls)\n",
    "print(cr)"
   ]
  },
  {
   "cell_type": "code",
   "execution_count": 77,
   "metadata": {},
   "outputs": [
    {
     "name": "stdout",
     "output_type": "stream",
     "text": [
      "72/72 [==============================] - 0s 5ms/step - loss: 0.6958 - accuracy: 0.5705\n",
      "[0.6957956552505493, 0.5704903602600098]\n",
      "              precision    recall  f1-score   support\n",
      "\n",
      "           0       0.57      1.00      0.73      1303\n",
      "           1       0.00      0.00      0.00       981\n",
      "\n",
      "    accuracy                           0.57      2284\n",
      "   macro avg       0.29      0.50      0.36      2284\n",
      "weighted avg       0.33      0.57      0.41      2284\n",
      "\n"
     ]
    },
    {
     "name": "stderr",
     "output_type": "stream",
     "text": [
      "C:\\Users\\DAVID\\AppData\\Local\\Programs\\Python\\Python39\\lib\\site-packages\\sklearn\\metrics\\_classification.py:1248: UndefinedMetricWarning: Precision and F-score are ill-defined and being set to 0.0 in labels with no predicted samples. Use `zero_division` parameter to control this behavior.\n",
      "  _warn_prf(average, modifier, msg_start, len(result))\n",
      "C:\\Users\\DAVID\\AppData\\Local\\Programs\\Python\\Python39\\lib\\site-packages\\sklearn\\metrics\\_classification.py:1248: UndefinedMetricWarning: Precision and F-score are ill-defined and being set to 0.0 in labels with no predicted samples. Use `zero_division` parameter to control this behavior.\n",
      "  _warn_prf(average, modifier, msg_start, len(result))\n",
      "C:\\Users\\DAVID\\AppData\\Local\\Programs\\Python\\Python39\\lib\\site-packages\\sklearn\\metrics\\_classification.py:1248: UndefinedMetricWarning: Precision and F-score are ill-defined and being set to 0.0 in labels with no predicted samples. Use `zero_division` parameter to control this behavior.\n",
      "  _warn_prf(average, modifier, msg_start, len(result))\n"
     ]
    }
   ],
   "source": [
    "# evaluate the model on the test data\n",
    "test_evals = model2.evaluate(test_data, labels_test)\n",
    "print(test_evals)\n",
    "# predict on the test data\n",
    "predictions = model2.predict(test_data)\n",
    "predicted_lbls = np.argmax(predictions, axis=1)\n",
    "cr = classification_report(labels_test, predicted_lbls)\n",
    "print(cr)"
   ]
  },
  {
   "cell_type": "markdown",
   "metadata": {},
   "source": [
    "The following is to create a submission for the Kaggle Competition"
   ]
  },
  {
   "cell_type": "code",
   "execution_count": 38,
   "metadata": {},
   "outputs": [],
   "source": [
    "# create a submission using test data\n",
    "test_data_clean = pd.read_csv(\"test_clean.csv\")\n",
    "cleaned_test_text = list(test_data_clean[\"clean_text\"])\n",
    "test_data_clean = test_data_clean.replace(test_data_clean[test_data_clean['clean_text'].isna()].index, '')\n",
    "print(test_data_clean.shape)\n",
    "cleaned_test_text = list(test_data_clean[\"clean_text\"])\n",
    "nanIndexes = test_data_clean[test_data_clean['clean_text'].isna()].index\n",
    "for i in nanIndexes:\n",
    "    cleaned_test_text[i] = \"\"\n",
    "maxlen = 100\n",
    "max_words = 10000\n",
    "vocab_size = 1000\n",
    "# word level one-hot encoding\n",
    "test_tokenizer = Tokenizer(num_words=vocab_size, lower=False)\n",
    "test_tokenizer.fit_on_texts(cleaned_test_text)\n",
    "test_sequences = test_tokenizer.texts_to_sequences(cleaned_test_text)\n",
    "test_one_hot_results = test_tokenizer.texts_to_matrix(cleaned_test_text, mode='binary')\n",
    "test_word_index = test_tokenizer.word_index\n",
    "#print(f\"Found {len(test_word_index)} unique tokens\")\n",
    "\n",
    "test_data = pad_sequences(test_sequences, maxlen=maxlen)\n",
    "\n",
    "print('Shape of data tensor:', data.shape)\n",
    "\n",
    "predictions = model2.predict(test_data)\n",
    "predictions = list(map(lambda x: 0 if x<0.5 else 1, predictions))\n",
    "\n",
    "\n",
    "res = []\n",
    "for i in test_data_clean.index:\n",
    "    res.append([test_data_clean[\"id\"][i], predictions[i]])\n",
    "predictions_df = pd.DataFrame(res, columns=[\"id\", \"target\"])\n",
    "predictions_df.to_csv(\"./model2predictions.csv\", index=False)\n"
   ]
  }
 ],
 "metadata": {
  "interpreter": {
   "hash": "b5a0d1d8a35cb8b073861edef1310933a8cfd4e1991759f893d7bca481571fcb"
  },
  "kernelspec": {
   "display_name": "Python 3.9.1 64-bit",
   "language": "python",
   "name": "python3"
  },
  "language_info": {
   "codemirror_mode": {
    "name": "ipython",
    "version": 3
   },
   "file_extension": ".py",
   "mimetype": "text/x-python",
   "name": "python",
   "nbconvert_exporter": "python",
   "pygments_lexer": "ipython3",
   "version": "3.9.1"
  },
  "orig_nbformat": 4
 },
 "nbformat": 4,
 "nbformat_minor": 2
}
